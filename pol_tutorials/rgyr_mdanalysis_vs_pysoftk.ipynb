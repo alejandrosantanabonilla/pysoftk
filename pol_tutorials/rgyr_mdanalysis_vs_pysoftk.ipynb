{
 "cells": [
  {
   "cell_type": "markdown",
   "id": "2bc3cbec",
   "metadata": {},
   "source": [
    "# Case example of MDAnalysis vs Pysoftk's rgyr_micelle"
   ]
  },
  {
   "cell_type": "markdown",
   "id": "ea494b07",
   "metadata": {},
   "source": [
    "This Jupyter notebook aims to illustrate how PySoftK provides an enhanced algorithm to compute the radius of gyration (rgyr) of a simulates system that has been broken across the periodic boundary conditions (PBC). Using the MDAnalysis option pbc=True parameters of the implemented rgyr equation. Our appraoch (rgyr_micelle) uses MDAnalysis rgyr function applied to the whole coordinates, so that the PBC are taken into account properly. This leads to a more appropriate calculation of the rgyr of the micelle. "
   ]
  },
  {
   "cell_type": "markdown",
   "id": "d087156c",
   "metadata": {},
   "source": [
    "We are going to perform the rgyr analysis on a micelle that is broken aross the different PBC dimensions. This is the first frame of the trajectory visualized with VMD. There are two polymer aggregates in the simulation. We are only interested in the largest one, so we will first need to get the polymer resid of the micelle we want to run the analysis on.\n",
    "\n",
    "\n",
    "![Image Alt Text](data/pictures_tutorial/rgyr_initial_all_pol.png)"
   ]
  },
  {
   "cell_type": "markdown",
   "id": "6b5037ee",
   "metadata": {},
   "source": [
    "Thus, we firstly load the trajectory"
   ]
  },
  {
   "cell_type": "code",
   "execution_count": 4,
   "id": "6b7ce7e1",
   "metadata": {},
   "outputs": [],
   "source": [
    "topology='data/pictures_tutorial/movie_rgyr_cyclic.tpr'\n",
    "trajectory='data/pictures_tutorial/movie_rgyr_cyclic.xtc'\n"
   ]
  },
  {
   "cell_type": "markdown",
   "id": "ca9779a0",
   "metadata": {},
   "source": [
    "We need to obtain the resids of the polymers that belong to the largest micelle, since this are the ones that we want to run the analysis on"
   ]
  },
  {
   "cell_type": "code",
   "execution_count": 6,
   "id": "86896e5b",
   "metadata": {},
   "outputs": [],
   "source": [
    "from  utils_mda import MDA_input\n",
    "#from pysoftk.pol_analysis.tools.utils_mda import MDA_input\n",
    "from utils_tools import *\n",
    "#from pysoftk.pol_analysis.tools.utils_tools import *\n",
    "from clustering import SCP\n",
    "#from pysoftk.pol_analysis.clustering import SCP\n",
    "from make_micelle_whole import micelle_whole\n",
    "#from pysoftk.pol_analysis.make_micelle_whole import micelle_whole\n",
    "from rgyr_micelle import rgyr\n",
    "#from pysoftk.pol_analysis.rgyr_micelle import rgyr\n",
    "\n",
    "import numpy as np\n",
    "import pandas as pd"
   ]
  },
  {
   "cell_type": "code",
   "execution_count": 7,
   "id": "49b53769",
   "metadata": {},
   "outputs": [
    {
     "name": "stderr",
     "output_type": "stream",
     "text": [
      "100%|██████████████████████████████████████████████████████████████████████████████████████████████████████████████████████████████████████████| 11/11 [00:00<00:00, 14.08it/s]"
     ]
    },
    {
     "name": "stdout",
     "output_type": "stream",
     "text": [
      "The file data/pictures_tutorial/rgyr_comparisson_scp_result.parquet has been successfully created.\n",
      "Function spatial_clustering_run Took 2.5011 seconds\n"
     ]
    },
    {
     "name": "stderr",
     "output_type": "stream",
     "text": [
      "\n"
     ]
    }
   ],
   "source": [
    "results_name='data/pictures_tutorial/rgyr_comparisson_scp_result'\n",
    "\n",
    "atom_names= ['O014', 'O00C']\n",
    "\n",
    "cluster_cutoff = 12\n",
    "\n",
    "start=0\n",
    "stop=20001\n",
    "step=1\n",
    "\n",
    "\n",
    "#running SCP\n",
    "c = SCP(topology, trajectory).spatial_clustering_run(start, stop, step, atom_names, cluster_cutoff, results_name)"
   ]
  },
  {
   "cell_type": "markdown",
   "id": "b8e6417c",
   "metadata": {},
   "source": [
    "The results from the clustering are:"
   ]
  },
  {
   "cell_type": "code",
   "execution_count": 12,
   "id": "2a3eb268",
   "metadata": {},
   "outputs": [],
   "source": [
    "#the result from SCP\n",
    "resids_total = 'data/pictures_tutorial/rgyr_comparisson_scp_result.parquet'"
   ]
  },
  {
   "cell_type": "markdown",
   "id": "cdffc5c4",
   "metadata": {},
   "source": [
    "Now, let's obtain the largest micelle resids in every time step selected"
   ]
  },
  {
   "cell_type": "code",
   "execution_count": 14,
   "id": "37b582c9",
   "metadata": {},
   "outputs": [
    {
     "name": "stdout",
     "output_type": "stream",
     "text": [
      "[array([ 1,  2,  3,  4,  7,  8, 10, 11, 12, 14, 15, 16, 17, 20]), array([ 1,  2,  3,  4,  7, 10, 11, 12, 14, 15, 16, 17, 20]), array([ 1,  2,  4,  7,  8, 10, 11, 14, 15, 20]), array([ 1,  2,  3,  4,  7,  8, 10, 11, 12, 14, 15, 16, 20]), array([ 1,  2,  3,  4,  7,  8, 10, 11, 12, 14, 15, 16]), array([ 1,  2,  3,  4,  7,  8, 10, 11, 12, 14, 15, 16, 20]), array([ 1,  2,  3,  4,  7,  8, 10, 11, 12, 14, 15, 16, 20]), array([ 1,  2,  3,  4,  7,  8, 10, 11, 12, 14, 15, 16, 20]), array([ 1,  2,  3,  4,  7,  8, 10, 11, 12, 14, 15, 16, 17, 20]), array([ 1,  2,  3,  4,  8, 10, 11, 12, 14, 15, 16, 17, 20]), array([ 1,  2,  3,  4,  7,  8, 10, 11, 12, 14, 15, 16, 17, 20])]\n"
     ]
    }
   ],
   "source": [
    "largest_micelle_resids = micelle_whole(topology, trajectory).obtain_largest_micelle_resids(resids_total)\n",
    "\n",
    "print(largest_micelle_resids)"
   ]
  },
  {
   "cell_type": "markdown",
   "id": "3bf547d6",
   "metadata": {},
   "source": [
    "This is the resid selection for the first frame visualized on VMD, clearly it has selected all polymers in the largest micelle!\n",
    "![Image Alt Text](data/pictures_tutorial/rgyr_mda_vs_pys_initial.png)"
   ]
  },
  {
   "cell_type": "markdown",
   "id": "af091446",
   "metadata": {},
   "source": [
    "Now that we know the resids, we can start our analysis!"
   ]
  },
  {
   "cell_type": "markdown",
   "id": "4288675b",
   "metadata": {},
   "source": [
    "## MDAnalysis rgyr pbc=True "
   ]
  },
  {
   "cell_type": "markdown",
   "id": "be4724a6",
   "metadata": {},
   "source": [
    "Before starting any analysis, load the neccesary modules."
   ]
  },
  {
   "cell_type": "code",
   "execution_count": 15,
   "id": "66adcf77",
   "metadata": {},
   "outputs": [],
   "source": [
    "import MDAnalysis as mda \n",
    "import MDAnalysis.analysis.distances\n",
    "import numpy as np\n",
    "import matplotlib.patches as mpatches\n",
    "import itertools\n",
    "import MDAnalysis.transformations as trans\n",
    "import matplotlib.pyplot as plt\n",
    "from tqdm.auto import tqdm"
   ]
  },
  {
   "cell_type": "markdown",
   "id": "95a5febb",
   "metadata": {},
   "source": [
    "Load the trajectory on MDAnalysis"
   ]
  },
  {
   "cell_type": "code",
   "execution_count": 17,
   "id": "8b0ee534",
   "metadata": {},
   "outputs": [],
   "source": [
    "\n",
    "u=mda.Universe(topology, trajectory)"
   ]
  },
  {
   "cell_type": "markdown",
   "id": "3d128d1d",
   "metadata": {},
   "source": [
    "Calculate the micelle rgyr for all the analysis frames using the MDAnalysis radius_of_gyration() function"
   ]
  },
  {
   "cell_type": "code",
   "execution_count": 29,
   "id": "625b63c4",
   "metadata": {},
   "outputs": [
    {
     "name": "stderr",
     "output_type": "stream",
     "text": [
      "100%|██████████████████████████████████████████████████████████████████████████████████████████████████████████████████████████████████████████| 11/11 [00:00<00:00, 57.70it/s]\n"
     ]
    }
   ],
   "source": [
    "\n",
    "polymer = u.select_atoms('resname S1P1') #resname of the polymers in the simulation\n",
    "\n",
    "\n",
    "radius_of_gyration_mdanalysis = [] #list where we will store the radius of gyration at each time step\n",
    "\n",
    "\n",
    "time= []\n",
    "\n",
    "for ts in tqdm(u.trajectory):\n",
    "    \n",
    "   \n",
    "    \n",
    "    #creating a list with the resids at each time step so that we can select them at time step, since the number\n",
    "    #of polymers in the micelle vary over time#####################\n",
    "    ind = []\n",
    "    \n",
    "    \n",
    "    for item in largest_micelle_resids[int(ts.frame)]:\n",
    "        \n",
    "        ind.append(str(item) +' ')\n",
    "        \n",
    "        \n",
    "    ind_f = ' '.join(ind)\n",
    "    \n",
    "    ##############################################################\n",
    "    \n",
    "    \n",
    "    \n",
    "    micelle = polymer.select_atoms('resid ' + str(ind_f)) #selecting the polymers in the micelle at each step\n",
    "    \n",
    "    \n",
    "    radius_of_gyration_mdanalysis.append(micelle.radius_of_gyration(pbc=True)) #rgyr calculation\n",
    "    \n",
    "    #creating a time list\n",
    "    \n",
    "    time.append(u.trajectory.time/1000000)\n",
    "    \n",
    "    \n",
    "    \n",
    "    \n",
    "radius_of_gyration_mdanalysis = np.array(radius_of_gyration_mdanalysis)    \n",
    "\n",
    "    \n",
    "time = np.array(time)"
   ]
  },
  {
   "cell_type": "code",
   "execution_count": 35,
   "id": "4fe97c22",
   "metadata": {},
   "outputs": [
    {
     "data": {
      "text/plain": [
       "Text(0.5, 1.0, '$R_G$ of micelle calculated with MDAanalysis')"
      ]
     },
     "execution_count": 35,
     "metadata": {},
     "output_type": "execute_result"
    },
    {
     "data": {
      "image/png": "[encoded data removed]",
      "text/plain": [
       "<Figure size 640x480 with 1 Axes>"
      ]
     },
     "metadata": {},
     "output_type": "display_data"
    }
   ],
   "source": [
    "\n",
    "plt.plot(time, radius_of_gyration_mdanalysis)\n",
    "plt.xlabel('Time (\\u03BCs)')\n",
    "plt.ylabel(r\"$R_G$ ($\\AA$)\")\n",
    "plt.ylim(20, 120)\n",
    "plt.title('$R_G$ of micelle calculated with MDAanalysis')\n"
   ]
  },
  {
   "cell_type": "markdown",
   "id": "3f3d06d8",
   "metadata": {},
   "source": [
    "It looks like the rgyr of the micelle calculated with the rgyr MDAnalysis function when this micelle is broken across the PBC outputs values that considerable oscillate, leading us to be skeptic about these results. Let's see what PySoftK rgyr tool reports!"
   ]
  },
  {
   "cell_type": "markdown",
   "id": "a39f9376",
   "metadata": {},
   "source": [
    "## PySoftK 's rgyr_micelle "
   ]
  },
  {
   "cell_type": "markdown",
   "id": "25f95233",
   "metadata": {},
   "source": [
    "We have already loaded all the modules and calculated the resids of the largest micelle. We only need to obtain the positions of the whole structure to run the rgyr calculation."
   ]
  },
  {
   "cell_type": "code",
   "execution_count": 31,
   "id": "02af10b8",
   "metadata": {},
   "outputs": [
    {
     "name": "stderr",
     "output_type": "stream",
     "text": [
      "  0%|                                                                                                                                                   | 0/11 [00:00<?, ?it/s]/home/raquellrdc/Desktop/PhD/pysoftk/alejandro_newest_releast_check/pysoftk_analysis_code/test_final/make_micelle_whole.py:347: FutureWarning: arrays to stack must be passed as a \"sequence\" type such as list or tuple. Support for non-sequence iterables such as generators is deprecated as of NumPy 1.16 and will raise an error in the future.\n",
      "  atom_positions_over_trajectory = list(tqdm(map(self.make_cluster_whole, frames, resname, cluster_resids_f[0],\n",
      "100%|██████████████████████████████████████████████████████████████████████████████████████████████████████████████████████████████████████████| 11/11 [00:14<00:00,  1.32s/it]"
     ]
    },
    {
     "name": "stdout",
     "output_type": "stream",
     "text": [
      "Elapsed time for matrix calculation: 15.8911 seconds\n"
     ]
    },
    {
     "name": "stderr",
     "output_type": "stream",
     "text": [
      "\n"
     ]
    }
   ],
   "source": [
    "#select the resname of the polymers\n",
    "resname=['S1P1'] \n",
    "\n",
    "#run to obtain the whole positions\n",
    "atom_pos = micelle_whole(topology, trajectory).running_make_cluster_whole(resname, largest_micelle_resids, start, stop, step)"
   ]
  },
  {
   "cell_type": "markdown",
   "id": "10f1e8a5",
   "metadata": {},
   "source": [
    "Now, we have all the neccesary inputs to calculate the radius of gyration of the micelle. Let's run the function!"
   ]
  },
  {
   "cell_type": "code",
   "execution_count": 33,
   "id": "662f14a3",
   "metadata": {},
   "outputs": [
    {
     "name": "stderr",
     "output_type": "stream",
     "text": [
      "100%|█████████████████████████████████████████████████████████████████████████████████████████████████████████████████████████████████████████| 11/11 [00:00<00:00, 310.37it/s]\n"
     ]
    }
   ],
   "source": [
    "rgyr_micelle_whole_pysoftk = rgyr(topology, trajectory).running_rgyr(largest_micelle_resids, atom_pos, start, stop, step)\n"
   ]
  },
  {
   "cell_type": "markdown",
   "id": "5d6fb6f0",
   "metadata": {},
   "source": [
    "Let's see how the output looks like:"
   ]
  },
  {
   "cell_type": "code",
   "execution_count": 36,
   "id": "38d541a5",
   "metadata": {},
   "outputs": [
    {
     "data": {
      "text/plain": [
       "Text(0.5, 1.0, '$R_G$ of micelle calculated with PySoftK')"
      ]
     },
     "execution_count": 36,
     "metadata": {},
     "output_type": "execute_result"
    },
    {
     "data": {
      "image/png": "[encoded data removed]",
      "text/plain": [
       "<Figure size 640x480 with 1 Axes>"
      ]
     },
     "metadata": {},
     "output_type": "display_data"
    }
   ],
   "source": [
    "\n",
    "plt.plot(time, rgyr_micelle_whole_pysoftk)\n",
    "plt.xlabel('Time (\\u03BCs)')\n",
    "plt.ylabel(r\"$R_G$ ($\\AA$)\")\n",
    "plt.ylim(20, 120)\n",
    "plt.title('$R_G$ of micelle calculated with PySoftK')\n"
   ]
  },
  {
   "cell_type": "markdown",
   "id": "1af1f24d",
   "metadata": {},
   "source": [
    "For clarity, this is how the micelle made whole looks in the first step of the trajectory:\n",
    "\n",
    "\n",
    "![Image Alt Text](data/pictures_tutorial/rgyr_result_arrow.png)"
   ]
  },
  {
   "cell_type": "markdown",
   "id": "d29408a4",
   "metadata": {},
   "source": [
    "Therefore, it is clear that PySoftK is able to properly take into account the PBC when calculating the radius of gyration expanding the current MDAnalysis' implementation."
   ]
  }
 ],
 "metadata": {
  "kernelspec": {
   "display_name": "Python 3 (ipykernel)",
   "language": "python",
   "name": "python3"
  },
  "language_info": {
   "codemirror_mode": {
    "name": "ipython",
    "version": 3
   },
   "file_extension": ".py",
   "mimetype": "text/x-python",
   "name": "python",
   "nbconvert_exporter": "python",
   "pygments_lexer": "ipython3",
   "version": "3.10.12"
  }
 },
 "nbformat": 4,
 "nbformat_minor": 5
}

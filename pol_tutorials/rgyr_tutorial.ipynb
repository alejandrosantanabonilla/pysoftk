{
 "cells": [
  {
   "cell_type": "markdown",
   "id": "a2b75224",
   "metadata": {},
   "source": [
    "# Tutorial on the usage of rgyr_micelle"
   ]
  },
  {
   "cell_type": "markdown",
   "id": "42a092a2",
   "metadata": {},
   "source": [
    "This tutorial will show how to use the rgyr_micelle method to compute the radius of gyration of a micelle that is broken across the periodic boundary conditions (PBC) at some time steps. It is worth noticing that this class can be used in a similar manner for aggregates that are connected across the PBC"
   ]
  },
  {
   "cell_type": "markdown",
   "id": "47961fbb",
   "metadata": {},
   "source": [
    "Before starting any analysis, load the neccesary modules for this class."
   ]
  },
  {
   "cell_type": "code",
   "execution_count": 1,
   "id": "ae5a5273",
   "metadata": {},
   "outputs": [
    {
     "name": "stderr",
     "output_type": "stream",
     "text": [
      "/home/raquellrdc/Desktop/PhD/mda_umap/lib/python3.10/site-packages/tqdm/auto.py:21: TqdmWarning: IProgress not found. Please update jupyter and ipywidgets. See https://ipywidgets.readthedocs.io/en/stable/user_install.html\n",
      "  from .autonotebook import tqdm as notebook_tqdm\n"
     ]
    }
   ],
   "source": [
    "from  utils_mda import MDA_input\n",
    "#from pysoftk.pol_analysis.tools.utils_mda import MDA_input\n",
    "from utils_tools import *\n",
    "#from pysoftk.pol_analysis.tools.utils_tools import *\n",
    "from clustering import SCP\n",
    "#from pysoftk.pol_analysis.clustering import SCP\n",
    "from make_micelle_whole import micelle_whole\n",
    "#from pysoftk.pol_analysis.make_micelle_whole import micelle_whole\n",
    "from rgyr_micelle import rgyr\n",
    "#from pysoftk.pol_analysis.rgyr_micelle import rgyr\n",
    "\n",
    "import numpy as np\n",
    "import pandas as pd"
   ]
  },
  {
   "cell_type": "markdown",
   "id": "3756ef4b",
   "metadata": {},
   "source": [
    "1. First load the trajectory, we are going to use the cyclic topology used in previous tutorials."
   ]
  },
  {
   "cell_type": "code",
   "execution_count": 2,
   "id": "f7b394eb",
   "metadata": {},
   "outputs": [],
   "source": [
    "topology='data/short_movie_cyclic.tpr'\n",
    "trajectory='data/short_movie_cyclic.xtc'\n"
   ]
  },
  {
   "cell_type": "markdown",
   "id": "c0b0ea75",
   "metadata": {},
   "source": [
    "2. Using SCP, we need to cluster the polymers of the simulations, to obtain the resids of the aggregate that we want to perform the analysis on. Following the same steps as in the SCP_tutorial for the cyclic topology. "
   ]
  },
  {
   "cell_type": "code",
   "execution_count": 3,
   "id": "1cf0e2d4",
   "metadata": {},
   "outputs": [
    {
     "name": "stderr",
     "output_type": "stream",
     "text": [
      "100%|████████████████████████████████████████████████████████████████████████████████████████████████████████████████████████████████████████████| 3/3 [00:00<00:00, 46.12it/s]"
     ]
    },
    {
     "name": "stdout",
     "output_type": "stream",
     "text": [
      "The file data/pictures_tutorial/cyclic_scp_result.parquet has been successfully created.\n",
      "Function spatial_clustering_run Took 0.1947 seconds\n"
     ]
    },
    {
     "name": "stderr",
     "output_type": "stream",
     "text": [
      "\n"
     ]
    }
   ],
   "source": [
    "results_name='data/pictures_tutorial/cyclic_scp_result'\n",
    "\n",
    "atom_names=['C02T']\n",
    "\n",
    "cluster_cutoff = 12\n",
    "\n",
    "start=0\n",
    "stop=10001\n",
    "step=1\n",
    "\n",
    "\n",
    "#running SCP\n",
    "c = SCP(topology, trajectory).spatial_clustering_run(start, stop, step, atom_names, cluster_cutoff, results_name)"
   ]
  },
  {
   "cell_type": "markdown",
   "id": "12792ecb",
   "metadata": {},
   "source": [
    "3. Now that the polymers are clustered, we are going to select the largest aggregate to perform the analysis on. We can use make_micelle_whole to obtain the resids of this larger aggregates for all time steps. Note that you can select whichever aggregate by inspecting the clustering pandas dataframe result."
   ]
  },
  {
   "cell_type": "code",
   "execution_count": 4,
   "id": "dd125d29",
   "metadata": {},
   "outputs": [],
   "source": [
    "\n",
    "#the result from SCP\n",
    "resids_total='data/pictures_tutorial/cyclic_scp_result.parquet'\n",
    "\n",
    "#obtaining the largest aggregate\n",
    "largest_micelle_resids = micelle_whole(topology, trajectory).obtain_largest_micelle_resids(resids_total)"
   ]
  },
  {
   "cell_type": "markdown",
   "id": "4036d4d7",
   "metadata": {},
   "source": [
    "4. Let's obtain the whole positions of the largest micelle with micelle_whole. This is done in the same way as in the micelle_whole tutorial."
   ]
  },
  {
   "cell_type": "code",
   "execution_count": 5,
   "id": "b95a81fc",
   "metadata": {},
   "outputs": [
    {
     "name": "stderr",
     "output_type": "stream",
     "text": [
      "  0%|                                                                                                                                                    | 0/3 [00:00<?, ?it/s]/home/raquellrdc/Desktop/PhD/pysoftk/alejandro_newest_releast_check/pysoftk_analysis_code/test_final/make_micelle_whole.py:347: FutureWarning: arrays to stack must be passed as a \"sequence\" type such as list or tuple. Support for non-sequence iterables such as generators is deprecated as of NumPy 1.16 and will raise an error in the future.\n",
      "  atom_positions_over_trajectory = list(tqdm(map(self.make_cluster_whole, frames, resname, cluster_resids_f[0],\n",
      "100%|████████████████████████████████████████████████████████████████████████████████████████████████████████████████████████████████████████████| 3/3 [00:00<00:00,  7.22it/s]"
     ]
    },
    {
     "name": "stdout",
     "output_type": "stream",
     "text": [
      "Elapsed time for matrix calculation: 0.4943 seconds\n"
     ]
    },
    {
     "name": "stderr",
     "output_type": "stream",
     "text": [
      "\n"
     ]
    }
   ],
   "source": [
    "#select the resname of the polymers\n",
    "resname=['LIG'] \n",
    "\n",
    "#run to obtain the whole positions\n",
    "atom_pos = micelle_whole(topology, trajectory).running_make_cluster_whole(resname, largest_micelle_resids, start, stop, step)"
   ]
  },
  {
   "cell_type": "markdown",
   "id": "5166df7a",
   "metadata": {},
   "source": [
    "5. Now, we have all the neccesary inputs to calculate the radius of gyration of the micelle. All that we need is the resids of the polymers that belong to the micelle that we want to perform the analysis of, their whole positions and the frames on which we want to run the analysis on. Note that these frames need to be the same as in the make_micelle_whole calculation. "
   ]
  },
  {
   "cell_type": "code",
   "execution_count": 6,
   "id": "9ec96d87",
   "metadata": {},
   "outputs": [
    {
     "name": "stderr",
     "output_type": "stream",
     "text": [
      "100%|██████████████████████████████████████████████████████████████████████████████████████████████████████████████████████████████████████████| 3/3 [00:00<00:00, 1451.15it/s]\n"
     ]
    }
   ],
   "source": [
    "rgyr_micelle_whole = rgyr(topology, trajectory).running_rgyr(largest_micelle_resids, atom_pos, start, stop, step)\n"
   ]
  },
  {
   "cell_type": "markdown",
   "id": "157bc38e",
   "metadata": {},
   "source": [
    "And this is the radius of gyration taken the PBC properly into account!"
   ]
  }
 ],
 "metadata": {
  "kernelspec": {
   "display_name": "Python 3 (ipykernel)",
   "language": "python",
   "name": "python3"
  },
  "language_info": {
   "codemirror_mode": {
    "name": "ipython",
    "version": 3
   },
   "file_extension": ".py",
   "mimetype": "text/x-python",
   "name": "python",
   "nbconvert_exporter": "python",
   "pygments_lexer": "ipython3",
   "version": "3.10.12"
  }
 },
 "nbformat": 4,
 "nbformat_minor": 5
}

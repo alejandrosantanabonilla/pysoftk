{
 "cells": [
  {
   "cell_type": "markdown",
   "id": "c0fc1032",
   "metadata": {},
   "source": [
    "# Tutorial on the usage of SCP tool"
   ]
  },
  {
   "cell_type": "markdown",
   "id": "59f9a71f",
   "metadata": {},
   "source": [
    "Here two examples on how to use the SCP class for different polymers will be illustrated. "
   ]
  },
  {
   "cell_type": "markdown",
   "id": "7d15d649",
   "metadata": {},
   "source": [
    "Before starting any analysis, load the neccesary modules for this class."
   ]
  },
  {
   "cell_type": "code",
   "execution_count": 3,
   "id": "158b30c4",
   "metadata": {},
   "outputs": [],
   "source": [
    "from  utils_mda import MDA_input\n",
    "#from pysoftk.pol_analysis.tools.utils_mda import MDA_input\n",
    "from utils_tools import *\n",
    "#from pysoftk.pol_analysis.tools.utils_tools import *\n",
    "from clustering import SCP\n",
    "#from pysoftk.pol_analysis.clustering import SCP\n",
    "\n",
    "\n",
    "import numpy as np\n",
    "import pandas as pd"
   ]
  },
  {
   "cell_type": "markdown",
   "id": "b487bd21",
   "metadata": {},
   "source": [
    "## Branched topology example"
   ]
  },
  {
   "cell_type": "markdown",
   "id": "2a653871",
   "metadata": {},
   "source": [
    "1. Select your trajectory files, it is recommended to use a tpr file for the topology and xtc file for the trajectory. Note that any MDAnalysis supported file can be used here. "
   ]
  },
  {
   "cell_type": "code",
   "execution_count": 4,
   "id": "77f4d755",
   "metadata": {},
   "outputs": [],
   "source": [
    "topology='data/short_movie_branched.tpr'\n",
    "trajectory='data/short_movie_branched.xtc'"
   ]
  },
  {
   "cell_type": "markdown",
   "id": "21283f01",
   "metadata": {},
   "source": [
    "This is how the branched polymer looks: \n",
    "\n",
    "![Image Alt Text](data/pictures_tutorial/branched_screenshot.png)\n"
   ]
  },
  {
   "cell_type": "markdown",
   "id": "6f85b6b0",
   "metadata": {},
   "source": [
    "2. We need to select the atoms on which the clustering will be applied. In this case this branched polymer has the hydrophobic block at the end of each arm. Since this polymer is amphiphilic and it is simulated in a box with water, it will form micelles. This micelle will be driving by the hydrophobic effect, meaning that polymers will be interacting via their hydrophobic blocks (to form the micelle). Therefore, the atoms that we decide to choose are the atoms in the middle of each hydrophobic block (so 3 atoms, 1 per arm)."
   ]
  },
  {
   "cell_type": "code",
   "execution_count": 5,
   "id": "0f35a075",
   "metadata": {},
   "outputs": [],
   "source": [
    "atom_names = ['C02B', 'C01K', 'C02N']"
   ]
  },
  {
   "cell_type": "markdown",
   "id": "b83ab817",
   "metadata": {},
   "source": [
    "3. We need to define the cluster cutoff. This will be the value use to determine if two polymers are part of the same micelle. Selecting this value may be an iterative process, but we suggest to use values ranging from 10 to 12 Å. But again, this will depend on the system being simulated."
   ]
  },
  {
   "cell_type": "code",
   "execution_count": 6,
   "id": "58021d2f",
   "metadata": {},
   "outputs": [],
   "source": [
    "cluster_cutoff = 12"
   ]
  },
  {
   "cell_type": "markdown",
   "id": "e4232eaa",
   "metadata": {},
   "source": [
    "4. Finally, before running the SCP tool, we need define the output path. Also, we need to define the start frame, stop frame and step between frames that we want to run the analysis on."
   ]
  },
  {
   "cell_type": "code",
   "execution_count": 10,
   "id": "29f0101e",
   "metadata": {},
   "outputs": [],
   "source": [
    "results_name='data/pictures_tutorial/branched_scp_result'\n",
    "start=0\n",
    "stop=10001\n",
    "step=1\n"
   ]
  },
  {
   "cell_type": "markdown",
   "id": "32365885",
   "metadata": {},
   "source": [
    "5. Now we are ready to run the SCP tool!"
   ]
  },
  {
   "cell_type": "code",
   "execution_count": 11,
   "id": "986abaa1",
   "metadata": {},
   "outputs": [
    {
     "name": "stderr",
     "output_type": "stream",
     "text": [
      "100%|████████████████████████████████████████████████████████████████████████████████████████████████████████████████████████████████████████████| 3/3 [00:00<00:00,  9.86it/s]"
     ]
    },
    {
     "name": "stdout",
     "output_type": "stream",
     "text": [
      "The file data/pictures_tutorial/branched_scp_result.parquet has been successfully created.\n",
      "Function spatial_clustering_run Took 1.5952 seconds\n"
     ]
    },
    {
     "name": "stderr",
     "output_type": "stream",
     "text": [
      "\n"
     ]
    }
   ],
   "source": [
    "c = SCP(topology, trajectory).spatial_clustering_run(start, stop, step, atom_names, cluster_cutoff, results_name)"
   ]
  },
  {
   "cell_type": "markdown",
   "id": "9e58a112",
   "metadata": {},
   "source": [
    "6. To visualize the result we can load the parquet file in this way:"
   ]
  },
  {
   "cell_type": "code",
   "execution_count": 14,
   "id": "165bda64",
   "metadata": {},
   "outputs": [
    {
     "data": {
      "text/html": [
       "<div>\n",
       "<style scoped>\n",
       "    .dataframe tbody tr th:only-of-type {\n",
       "        vertical-align: middle;\n",
       "    }\n",
       "\n",
       "    .dataframe tbody tr th {\n",
       "        vertical-align: top;\n",
       "    }\n",
       "\n",
       "    .dataframe thead th {\n",
       "        text-align: right;\n",
       "    }\n",
       "</style>\n",
       "<table border=\"1\" class=\"dataframe\">\n",
       "  <thead>\n",
       "    <tr style=\"text-align: right;\">\n",
       "      <th></th>\n",
       "      <th>time</th>\n",
       "      <th>micelle_resids</th>\n",
       "      <th>micelle_size</th>\n",
       "    </tr>\n",
       "  </thead>\n",
       "  <tbody>\n",
       "    <tr>\n",
       "      <th>0</th>\n",
       "      <td>0.0</td>\n",
       "      <td>[[1, 2, 3, 4, 5, 6, 7, 8, 9, 10, 11, 12, 13, 1...</td>\n",
       "      <td>[20]</td>\n",
       "    </tr>\n",
       "    <tr>\n",
       "      <th>1</th>\n",
       "      <td>500000.0</td>\n",
       "      <td>[[1, 2, 3, 4, 5, 6, 7, 8, 9, 10, 11, 12, 13, 1...</td>\n",
       "      <td>[20]</td>\n",
       "    </tr>\n",
       "    <tr>\n",
       "      <th>2</th>\n",
       "      <td>1000000.0</td>\n",
       "      <td>[[1, 2, 3, 4, 5, 6, 7, 8, 9, 10, 12, 15, 17, 1...</td>\n",
       "      <td>[16, 1, 1, 1, 1]</td>\n",
       "    </tr>\n",
       "  </tbody>\n",
       "</table>\n",
       "</div>"
      ],
      "text/plain": [
       "        time                                     micelle_resids  \\\n",
       "0        0.0  [[1, 2, 3, 4, 5, 6, 7, 8, 9, 10, 11, 12, 13, 1...   \n",
       "1   500000.0  [[1, 2, 3, 4, 5, 6, 7, 8, 9, 10, 11, 12, 13, 1...   \n",
       "2  1000000.0  [[1, 2, 3, 4, 5, 6, 7, 8, 9, 10, 12, 15, 17, 1...   \n",
       "\n",
       "       micelle_size  \n",
       "0              [20]  \n",
       "1              [20]  \n",
       "2  [16, 1, 1, 1, 1]  "
      ]
     },
     "execution_count": 14,
     "metadata": {},
     "output_type": "execute_result"
    }
   ],
   "source": [
    "df_results = 'data/pictures_tutorial/branched_scp_result.parquet'\n",
    "df = pd.read_parquet(df_results)\n",
    "df"
   ]
  },
  {
   "cell_type": "markdown",
   "id": "3f0cc645",
   "metadata": {},
   "source": [
    "## Cyclic topology example"
   ]
  },
  {
   "cell_type": "markdown",
   "id": "b0adb330",
   "metadata": {},
   "source": [
    "This is how the cyclic polymer looks: \n",
    "\n",
    "![Image Alt Text](data/pictures_tutorial/cyclic_screenshot.png)"
   ]
  },
  {
   "cell_type": "markdown",
   "id": "8c867a0c",
   "metadata": {},
   "source": [
    "We can follow the same steps applied on the branched example"
   ]
  },
  {
   "cell_type": "code",
   "execution_count": 16,
   "id": "6a106377",
   "metadata": {},
   "outputs": [],
   "source": [
    "topology='data/short_movie_cyclic.tpr'\n",
    "trajectory='data/short_movie_cyclic.xtc'\n",
    "\n",
    "results_name='data/pictures_tutorial/cyclic_scp_result'\n",
    "\n",
    "cluster_cutoff = 12\n",
    "\n",
    "start=0\n",
    "stop=10001\n",
    "step=1\n"
   ]
  },
  {
   "cell_type": "markdown",
   "id": "d1821123",
   "metadata": {},
   "source": [
    "However, since the topology is different, the atom selection will be different to the branched example, even though they are made from the same atoms. Since the polymer has a ring structure, we can just select the central atom of the hydrophobic block, as this is the only part of the polymer that will be interacting closely with the other hydrphobic blocks. "
   ]
  },
  {
   "cell_type": "code",
   "execution_count": 17,
   "id": "c29ab105",
   "metadata": {},
   "outputs": [],
   "source": [
    "atom_names=['C02T']"
   ]
  },
  {
   "cell_type": "markdown",
   "id": "e8302726",
   "metadata": {},
   "source": [
    "Now, we can run the SCP tool"
   ]
  },
  {
   "cell_type": "code",
   "execution_count": 18,
   "id": "670f0ba3",
   "metadata": {},
   "outputs": [
    {
     "name": "stderr",
     "output_type": "stream",
     "text": [
      "100%|███████████████████████████████████████████████████████████████████████████████████████████████████████████████████████████████████████████| 3/3 [00:00<00:00, 141.75it/s]"
     ]
    },
    {
     "name": "stdout",
     "output_type": "stream",
     "text": [
      "The file data/pictures_tutorial/cyclic_scp_result.parquet has been successfully created.\n",
      "Function spatial_clustering_run Took 0.1356 seconds\n"
     ]
    },
    {
     "name": "stderr",
     "output_type": "stream",
     "text": [
      "\n"
     ]
    }
   ],
   "source": [
    "c = SCP(topology, trajectory).spatial_clustering_run(start, stop, step, atom_names, cluster_cutoff, results_name)"
   ]
  },
  {
   "cell_type": "markdown",
   "id": "4b0ce56f",
   "metadata": {},
   "source": [
    "To visualize the output"
   ]
  },
  {
   "cell_type": "code",
   "execution_count": 20,
   "id": "659c3a4a",
   "metadata": {},
   "outputs": [
    {
     "data": {
      "text/html": [
       "<div>\n",
       "<style scoped>\n",
       "    .dataframe tbody tr th:only-of-type {\n",
       "        vertical-align: middle;\n",
       "    }\n",
       "\n",
       "    .dataframe tbody tr th {\n",
       "        vertical-align: top;\n",
       "    }\n",
       "\n",
       "    .dataframe thead th {\n",
       "        text-align: right;\n",
       "    }\n",
       "</style>\n",
       "<table border=\"1\" class=\"dataframe\">\n",
       "  <thead>\n",
       "    <tr style=\"text-align: right;\">\n",
       "      <th></th>\n",
       "      <th>time</th>\n",
       "      <th>micelle_resids</th>\n",
       "      <th>micelle_size</th>\n",
       "    </tr>\n",
       "  </thead>\n",
       "  <tbody>\n",
       "    <tr>\n",
       "      <th>0</th>\n",
       "      <td>0.0</td>\n",
       "      <td>[[1, 2, 3, 4, 6, 7, 8, 11, 12, 13, 14, 15, 17,...</td>\n",
       "      <td>[15, 4, 1]</td>\n",
       "    </tr>\n",
       "    <tr>\n",
       "      <th>1</th>\n",
       "      <td>500000.0</td>\n",
       "      <td>[[1, 3, 12], [2, 4, 6, 7, 13, 14, 15, 17, 18, ...</td>\n",
       "      <td>[3, 11, 5, 1]</td>\n",
       "    </tr>\n",
       "    <tr>\n",
       "      <th>2</th>\n",
       "      <td>1000000.0</td>\n",
       "      <td>[[1, 3, 5, 8, 10, 12, 16], [2, 4, 6, 7, 13, 14...</td>\n",
       "      <td>[7, 11, 1, 1]</td>\n",
       "    </tr>\n",
       "  </tbody>\n",
       "</table>\n",
       "</div>"
      ],
      "text/plain": [
       "        time                                     micelle_resids   micelle_size\n",
       "0        0.0  [[1, 2, 3, 4, 6, 7, 8, 11, 12, 13, 14, 15, 17,...     [15, 4, 1]\n",
       "1   500000.0  [[1, 3, 12], [2, 4, 6, 7, 13, 14, 15, 17, 18, ...  [3, 11, 5, 1]\n",
       "2  1000000.0  [[1, 3, 5, 8, 10, 12, 16], [2, 4, 6, 7, 13, 14...  [7, 11, 1, 1]"
      ]
     },
     "execution_count": 20,
     "metadata": {},
     "output_type": "execute_result"
    }
   ],
   "source": [
    "df_results = 'data/pictures_tutorial/cyclic_scp_result.parquet'\n",
    "df = pd.read_parquet(df_results)\n",
    "df"
   ]
  }
 ],
 "metadata": {
  "kernelspec": {
   "display_name": "Python 3 (ipykernel)",
   "language": "python",
   "name": "python3"
  },
  "language_info": {
   "codemirror_mode": {
    "name": "ipython",
    "version": 3
   },
   "file_extension": ".py",
   "mimetype": "text/x-python",
   "name": "python",
   "nbconvert_exporter": "python",
   "pygments_lexer": "ipython3",
   "version": "3.10.12"
  }
 },
 "nbformat": 4,
 "nbformat_minor": 5
}

{
 "cells": [
  {
   "cell_type": "markdown",
   "id": "6c894466",
   "metadata": {},
   "source": [
    "# Tutorial on the usage of contacts"
   ]
  },
  {
   "cell_type": "markdown",
   "id": "b8a3de5f",
   "metadata": {},
   "source": [
    "This tutorial will show how to use the contacts class to compute the intermolecular contacts between polymers that belong to the largest micelle of the system."
   ]
  },
  {
   "cell_type": "markdown",
   "id": "d83882c8",
   "metadata": {},
   "source": [
    "Before starting any analysis, load the neccesary modules for this class."
   ]
  },
  {
   "cell_type": "code",
   "execution_count": 1,
   "id": "13ef8c57",
   "metadata": {},
   "outputs": [
    {
     "name": "stderr",
     "output_type": "stream",
     "text": [
      "/home/raquellrdc/Desktop/PhD/mda_umap/lib/python3.10/site-packages/tqdm/auto.py:21: TqdmWarning: IProgress not found. Please update jupyter and ipywidgets. See https://ipywidgets.readthedocs.io/en/stable/user_install.html\n",
      "  from .autonotebook import tqdm as notebook_tqdm\n"
     ]
    }
   ],
   "source": [
    "from  utils_mda import MDA_input\n",
    "#from pysoftk.pol_analysis.tools.utils_mda import MDA_input\n",
    "from utils_tools import *\n",
    "#from pysoftk.pol_analysis.tools.utils_tools import *\n",
    "from clustering import SCP\n",
    "#from pysoftk.pol_analysis.clustering import SCP\n",
    "from make_micelle_whole import micelle_whole\n",
    "#from pysoftk.pol_analysis.make_micelle_whole import micelle_whole\n",
    "from contact_analysis import contacts\n",
    "#from pysoftk.pol_analysis.contact_analysis import contactsn\n",
    "\n",
    "import numpy as np\n",
    "import pandas as pd"
   ]
  },
  {
   "cell_type": "markdown",
   "id": "e3082302",
   "metadata": {},
   "source": [
    "1. First load the trajectory, we are going to use the cyclic topology used in previous tutorials."
   ]
  },
  {
   "cell_type": "code",
   "execution_count": 2,
   "id": "6615e808",
   "metadata": {},
   "outputs": [],
   "source": [
    "topology='data/short_movie_cyclic.tpr'\n",
    "trajectory='data/short_movie_cyclic.xtc'\n"
   ]
  },
  {
   "cell_type": "markdown",
   "id": "8a975145",
   "metadata": {},
   "source": [
    "2. Import the clustering data from SCP function, to obtain the resids of the polymers of each micelle"
   ]
  },
  {
   "cell_type": "code",
   "execution_count": 3,
   "id": "8f75cb04",
   "metadata": {},
   "outputs": [],
   "source": [
    "resids_total='data/pictures_tutorial/cyclic_scp_result.parquet'"
   ]
  },
  {
   "cell_type": "markdown",
   "id": "5a440b45",
   "metadata": {},
   "source": [
    "3. Obtain the largest micelle from the clustering pandas dataframe"
   ]
  },
  {
   "cell_type": "code",
   "execution_count": 4,
   "id": "1ecd1b2c",
   "metadata": {},
   "outputs": [],
   "source": [
    "largest_micelle_resids = micelle_whole(topology, trajectory).obtain_largest_micelle_resids(resids_total)"
   ]
  },
  {
   "cell_type": "markdown",
   "id": "7e9c4775",
   "metadata": {},
   "source": [
    "4. Now, obtain the positions of the whole micelle"
   ]
  },
  {
   "cell_type": "code",
   "execution_count": 5,
   "id": "1daaead3",
   "metadata": {},
   "outputs": [
    {
     "name": "stderr",
     "output_type": "stream",
     "text": [
      "  0%|                                                                                                                                                    | 0/3 [00:00<?, ?it/s]/home/raquellrdc/Desktop/PhD/pysoftk/alejandro_newest_releast_check/pysoftk_analysis_code/test_final/make_micelle_whole.py:347: FutureWarning: arrays to stack must be passed as a \"sequence\" type such as list or tuple. Support for non-sequence iterables such as generators is deprecated as of NumPy 1.16 and will raise an error in the future.\n",
      "  atom_positions_over_trajectory = list(tqdm(map(self.make_cluster_whole, frames, resname, cluster_resids_f[0],\n",
      "100%|████████████████████████████████████████████████████████████████████████████████████████████████████████████████████████████████████████████| 3/3 [00:00<00:00,  9.23it/s]"
     ]
    },
    {
     "name": "stdout",
     "output_type": "stream",
     "text": [
      "Elapsed time for matrix calculation: 0.3993 seconds\n"
     ]
    },
    {
     "name": "stderr",
     "output_type": "stream",
     "text": [
      "\n"
     ]
    }
   ],
   "source": [
    "#select the resname of the polymers\n",
    "resname=['LIG']\n",
    "\n",
    "#run to obtain the whole positions\n",
    "start=0\n",
    "stop=10001\n",
    "step=1\n",
    "\n",
    "#run micelle_whole\n",
    "atom_pos = micelle_whole(topology, trajectory).running_make_cluster_whole(resname, largest_micelle_resids, start, stop, step)"
   ]
  },
  {
   "cell_type": "markdown",
   "id": "207689bf",
   "metadata": {},
   "source": [
    "5. Let's select the atoms for the intemolecular contact calculation and the cutoff distance"
   ]
  },
  {
   "cell_type": "code",
   "execution_count": 6,
   "id": "000d1a50",
   "metadata": {},
   "outputs": [],
   "source": [
    "#atoms for the calculation\n",
    "MA_names = ['C027',  'C023',  'C021',  'C02H',  'C02L',  'C02P',  'C02T', 'C02X', 'C00U',  'C00R',  'C00P', 'C00L']\n",
    "\n",
    "#cutoff distance-this can be obtained from radial distribution functions or just by intuition\n",
    "\n",
    "cutoff=10"
   ]
  },
  {
   "cell_type": "markdown",
   "id": "9ef6497b",
   "metadata": {},
   "source": [
    "6. We have all the neccesary inputs to run the contacts calculation"
   ]
  },
  {
   "cell_type": "code",
   "execution_count": 7,
   "id": "ae5893f6",
   "metadata": {},
   "outputs": [
    {
     "name": "stderr",
     "output_type": "stream",
     "text": [
      "100%|███████████████████████████████████████████████████████████████████████████████████████████████████████████████████████████████████████████| 3/3 [00:00<00:00, 115.07it/s]\n"
     ]
    }
   ],
   "source": [
    "contacts_matrix = contacts(topology, trajectory).run_contacts_calc(largest_micelle_resids, atom_pos,\n",
    "                                                                       MA_names,MA_names, 10)"
   ]
  },
  {
   "cell_type": "markdown",
   "id": "93771632",
   "metadata": {},
   "source": [
    "The array 'contacts_matrix' contains the intermolecular contacts between MA_names and MA_names over all polymers and over all time steps. The output is given like this for users to be able to play with the data and work with the output in the way they want. However, to report the average over the polymers, it is neccesary to divide all values by the number of polymers in the micelle. And then the mean over the time steps to get the average value over the trajectory."
   ]
  },
  {
   "cell_type": "code",
   "execution_count": 10,
   "id": "9100045a",
   "metadata": {},
   "outputs": [],
   "source": [
    "#to normalize the contacts depending on number of polymers in the micelle in each time step\n",
    "\n",
    "contacts_normalized=[]\n",
    "\n",
    "for i in range(len(largest_micelle_resids)):\n",
    "    \n",
    "    len_micelle=len(largest_micelle_resids[i]) #number of polymers in the micelle at a specific time step\n",
    "    \n",
    "    contacts_normalized.append((np.array(contacts_matrix[i])/len_micelle)) #each contact value is divided by the number of polymers in the micelle\n",
    "    \n",
    "contacts_normalized = np.array(contacts_normalized) #array with the contacts values normalized over polymer number\n"
   ]
  },
  {
   "cell_type": "code",
   "execution_count": 11,
   "id": "1e135e6b",
   "metadata": {},
   "outputs": [],
   "source": [
    "#average over time\n",
    "\n",
    "mean_contacts=np.mean(contacts_normalized, axis=0)"
   ]
  },
  {
   "cell_type": "code",
   "execution_count": 12,
   "id": "2f8049b7",
   "metadata": {},
   "outputs": [
    {
     "data": {
      "image/png": "[encoded data removed]",
      "text/plain": [
       "<Figure size 640x480 with 2 Axes>"
      ]
     },
     "metadata": {},
     "output_type": "display_data"
    }
   ],
   "source": [
    "import matplotlib.pyplot as plt\n",
    "\n",
    "plt.imshow(mean_contacts, cmap='viridis')  # You can choose a different colormap (e.g., 'coolwarm', 'hot', 'jet', etc.)\n",
    "plt.colorbar()  # Add a colorbar to the heatmap\n",
    "plt.xticks(np.arange(len(MA_names)), MA_names)\n",
    "plt.yticks(np.arange(len(MA_names)), MA_names)\n",
    "plt.title('Intermolecular contacts between MA atoms')\n",
    "plt.show()"
   ]
  },
  {
   "cell_type": "markdown",
   "id": "3fde87a0",
   "metadata": {},
   "source": [
    "This heatmap is a clear way to represent the contacts that each atom has with all the other atoms of the other group. In this case we calculated the contacts between atoms belonging to the MA names, but you can also calculate the contacts between atoms of different groups. It is as easy as feeding in two different groups of atom names to the contacts function"
   ]
  }
 ],
 "metadata": {
  "kernelspec": {
   "display_name": "Python 3 (ipykernel)",
   "language": "python",
   "name": "python3"
  },
  "language_info": {
   "codemirror_mode": {
    "name": "ipython",
    "version": 3
   },
   "file_extension": ".py",
   "mimetype": "text/x-python",
   "name": "python",
   "nbconvert_exporter": "python",
   "pygments_lexer": "ipython3",
   "version": "3.10.12"
  }
 },
 "nbformat": 4,
 "nbformat_minor": 5
}

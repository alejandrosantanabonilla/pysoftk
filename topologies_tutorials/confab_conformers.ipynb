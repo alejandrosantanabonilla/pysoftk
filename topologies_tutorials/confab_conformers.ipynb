{
 "cells": [
  {
   "cell_type": "markdown",
   "metadata": {},
   "source": [
    "### Step 1: Install Necessary Libraries\n",
    "First, we need to install the required Python libraries, RDKit and PySoftK. This installation cell handles the process by cloning the pysoftk repository and then using `pip install .` to install the package and all its dependencies as defined in its `setup.py` file."
   ]
  },
  {
   "cell_type": "code",
   "execution_count": null,
   "metadata": {},
   "outputs": [],
   "source": [
    "# Clone the pysoftk repository from GitHub\n",
    "!git clone https://github.com/alejandrosantanabonilla/pysoftk\n\n",
    "# Navigate to the pysoftk directory\n",
    "%cd pysoftk\n\n",
    "# Install the package from the current directory, which reads from setup.py\n",
    "!pip install ."
   ]
  },
  {
   "cell_type": "markdown",
   "metadata": {},
   "source": [
    "### Conformer Generation with Open Babel's Confab Approach\n\n",
    "This notebook provides a tutorial on generating molecular conformers using the **Confab** approach from **Open Babel**, as implemented through the **PySoftK** library. We'll briefly explain the method, then run the Python script, and finally visualize the results using **RDKit**."
   ]
  },
  {
   "cell_type": "markdown",
   "metadata": {},
   "source": [
    "#### 1. The Confab Method Explained\n\n",
    "The **Confab** method is a conformer generation algorithm that aims to produce a diverse set of low-energy 3D molecular structures. It's more efficient than purely random searches because it uses a pre-calculated library of torsion angles, derived from known crystal structures, to guide its exploration. \n\n",
    "The process works in three main steps:\n",
    "1.  **Systematic Torsion Search**: It identifies the rotatable bonds in a molecule and systematically samples their torsion angles using values from a pre-defined library. This helps in quickly finding chemically relevant conformations.\n",
    "2.  **Energy Minimization**: Each sampled conformation is subjected to a quick energy minimization using a force field (like **MMFF94**). This step relieves steric strain and ensures that the generated structures are energetically plausible.\n",
    "3.  **Filtering**: The final set of conformers is filtered based on two criteria to ensure diversity and relevance:\n",
    "    * **RMSD (Root Mean Square Deviation)**: Redundant conformers (those with an **RMSD** below a certain threshold) are discarded.\n",
    "    * **Energy Gap**: Only conformers within a specified energy range relative to the lowest-energy one are retained."
   ]
  },
  {
   "cell_type": "markdown",
   "metadata": {},
   "source": [
    "#### 2. Python Script for Conformer Generation\n\n",
    "The following script uses the **PySoftK** library, which provides a convenient wrapper for **Open Babel's** **Confab** functionality. We'll generate conformers for a triphenylmethane-like molecule."
   ]
  },
  {
   "cell_type": "code",
   "execution_count": null,
   "metadata": {},
   "outputs": [],
   "source": [
    "# 1. Import necessary libraries.\n",
    "from rdkit import Chem\n",
    "from rdkit.Chem import AllChem\n",
    "from pysoftk.torsional.mol_conformer import ConformerGenerator\n\n",
    "# 2. Initialize the ConformerGenerator class.\n",
    "conf_generator = ConformerGenerator()\n\n",
    "# 3. Define the molecule input (SMILES string).\n",
    "smiles_string = 'c1ccc(-c2ccc(-c3ccc(-c4ccccc4)cc3)cc2)cc1'\n\n",
    "# 4. Define the output directory.\n",
    "output_directory = 'biphenyl_conformers_confab'\n\n",
    "# 5. Call the method to generate and save the conformers.\n",
    "#    nconfs: The maximum number of conformers to generate.\n",
    "#    rmsd: The RMSD threshold for filtering redundant conformers.\n",
    "#    energy_gap: The energy gap (in kJ/mol) relative to the minimum energy conformer.\n",
    "num_conformers_generated = conf_generator.confab_generate_conformers(\n",
    "    molecule_input=smiles_string,\n",
    "    output_dir=output_directory,\n",
    "    base_filename='bi_phenyl',\n",
    "    nconfs=50,\n",
    "    rmsd=0.5,\n",
    "    energy_gap=20.0,\n",
    "    verbose=True\n",
    ")\n\n",
    "# 6. Check the result.\n",
    "if num_conformers_generated > 0:\n",
    "    print(f\"\\n✅ Conformer generation successful. All files are in '{output_directory}'.\")\n",
    "else:\n",
    "    print(\"\\n❌ Conformer generation failed. Please check the console output.\")"
   ]
  },
  {
   "cell_type": "markdown",
   "metadata": {},
   "source": [
    "#### 3. Visualizing the Generated Conformers\n\n",
    "We will now load the generated `.xyz` files and visualize them using **RDKit**. The previous version had an issue where the image might not display in some environments. We've fixed this by explicitly using `IPython.display.display` to ensure the image is rendered correctly."
   ]
  },
  {
   "cell_type": "code",
   "execution_count": null,
   "metadata": {},
   "outputs": [],
   "source": [
    "from rdkit import Chem\n",
    "from rdkit.Chem import AllChem\n",
    "from rdkit.Chem.Draw import MolsToGridImage\n",
    "import os\n",
    "from IPython.display import display\n\n",
    "# 1. Load all conformer files from the output directory.\n",
    "conformers = []\n",
    "output_directory = 'biphenyl_conformers_confab'\n",
    "files = sorted([f for f in os.listdir(output_directory) if f.endswith('.xyz')])\n\n",
    "for file in files:\n",
    "    mol = Chem.MolFromXYZFile(os.path.join(output_directory, file))\n",
    "    if mol:\n",
    "        # The XYZ file format does not contain bond information, so we need to add it.\n",
    "        # We'll create a molecule from the SMILES string to get the bonding information\n",
    "        # and transfer the 3D coordinates from the loaded conformer.\n",
    "        smiles = 'c1ccc(-c2ccc(-c3ccc(-c4ccccc4)cc3)cc2)cc1'\n",
    "        mol_with_bonds = Chem.MolFromSmiles(smiles)\n",
    "        mol_with_bonds = Chem.AddHs(mol_with_bonds)\n",
    "        \n",
    "        # Create a new conformer for the molecule with bonds\n",
    "        new_conf = Chem.Conformer(mol.GetConformer())\n",
    "        mol_with_bonds.AddConformer(new_conf, assignId=True)\n",
    "        conformers.append(mol_with_bonds)\n\n",
    "print(f\"Loaded {len(conformers)} conformers from the directory.\")\n\n",
    "# 2. Align the conformers for better visual comparison.\n",
    "if conformers:\n",
    "    ref_mol = conformers[0]\n",
    "    for i in range(1, len(conformers)):\n",
    "        AllChem.AlignMol(conformers[i], ref_mol)\n\n",
    "# 3. Display the conformers in a grid.\n",
    "#    We will display a maximum of 10 conformers for clarity.\n",
    "conformers_to_display = conformers[:10]\n",
    "legends = [f'Conf_{i}' for i in range(len(conformers_to_display))]\n\n",
    "if conformers_to_display:\n",
    "    img = MolsToGridImage(conformers_to_display, molsPerRow=5, subImgSize=(200, 200), legends=legends)\n",
    "    display(img)\n",
    "else:\n",
    "    print(\"No conformers to display.\")"
   ]
  }
 ],
 "metadata": {
  "kernelspec": {
   "display_name": "Python 3",
   "language": "python",
   "name": "python3"
  },
  "language_info": {
   "codemirror_mode": {
    "name": "ipython",
    "version": 3
   },
   "file_extension": ".py",
   "mimetype": "text/x-python",
   "name": "python",
   "nbconvert_exporter": "python",
   "pygments_lexer": "ipython3",
   "version": "3.8.10"
  }
 },
 "nbformat": 4,
 "nbformat_minor": 4
}

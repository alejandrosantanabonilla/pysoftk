{
 "nbformat": 4,
 "nbformat_minor": 5,
 "metadata": {
  "colab": {
   "provenance": [],
   "authorship_tag": "ADX16200216654877399815",
   "gpuType": "T4"
  },
  "kernelspec": {
   "name": "python3",
   "display_name": "Python 3"
  },
  "language_info": {
   "name": "python"
  }
 },
 "cells": [
  {
   "cell_type": "markdown",
   "source": "# Tutorial: Creating a Branched Polymer in Google Colab\n\nThis notebook provides a simple tutorial on how to create a branched polymer using the **RDKit** and **PySoftK** libraries. We will define a core molecule and an arm molecule and then use a Python script to link them together to form a larger, branched structure.",
   "metadata": {
    "id": "1d6c8b9d"
   }
  },
  {
   "cell_type": "markdown",
   "source": "### Step 1: Install Necessary Libraries\n\nFirst, we need to install the required Python libraries, **RDKit** and **PySoftK**. This installation cell handles the process by cloning the `pysoftk` repository and then using `pip install .` to install the package and all its dependencies as defined in its `setup.py` file.",
   "metadata": {
    "id": "a953e536"
   }
  },
  {
   "cell_type": "code",
   "execution_count": null,
   "metadata": {
    "id": "92182285"
   },
   "outputs": [],
   "source": "# Clone the pysoftk repository from GitHub\n!git clone https://github.com/alejandrosantanabonilla/pysoftk\n\n# Navigate to the pysoftk directory\n%cd pysoftk\n\n# Install the package from the current directory, which reads from setup.py\n!pip install ."
  },
  {
   "cell_type": "markdown",
   "source": "### Step 2: Define and Visualize the Core and Arm Components\n\nWe first define our core and arm molecules using their SMILES strings. We can then visualize them directly in the notebook using RDKit's drawing functionalities.",
   "metadata": {
    "id": "528b75f1"
   }
  },
  {
   "cell_type": "code",
   "execution_count": null,
   "metadata": {
    "id": "f5e9d96c"
   },
   "outputs": [],
   "source": "from rdkit import Chem\nfrom rdkit.Chem import Draw\n\n# Define the core and arm molecules using their SMILES strings\ncore = Chem.MolFromSmiles('BrN(Br)CCN(Br)Br')\narm = Chem.MolFromSmiles('BrOCCCl')\n\n# Visualize the molecules in a grid\nimg = Draw.MolsToGridImage([core, arm], molsPerRow=2, subImgSize=(300, 300), legends=['Core Molecule', 'Arm Molecule'])\nimg"
  },
  {
   "cell_type": "markdown",
   "source": "### Step 3: Run the Script to Create the Polymer\n\nNow, let's run the main script. This code will link the core and arm molecules using the `Bd` class from `pysoftk`, and save the final structure to an `.xyz` file.",
   "metadata": {
    "id": "5867a57c"
   }
  },
  {
   "cell_type": "code",
   "execution_count": null,
   "metadata": {
    "id": "b34e2c8a"
   },
   "outputs": [],
   "source": "from pysoftk.topologies.branched import Bd\nfrom pysoftk.format_printers.format_mol import Fmt\n\n# Create the branched polymer by specifying the core, arm, and the linking atom\nfinal = Bd(core, arm, \"Br\").branched_polymer()\n\n# Print the final molecule to an XYZ file\nFmt(final).xyz_print(\"bran2.xyz\")"
  },
  {
   "cell_type": "markdown",
   "source": "### Step 4: Visualize the Final Polymer\n\nAfter creating the polymer, you can visualize the final molecule directly within the notebook. We will convert the molecule to a SMILES string and back to a new RDKit molecule object to ensure it is correctly rendered.",
   "metadata": {
    "id": "e44d5c80"
   }
  },
  {
   "cell_type": "code",
   "execution_count": null,
   "metadata": {
    "id": "3b7a1d13"
   },
   "outputs": [],
   "source": "# Convert the final molecule to SMILES and back to a molecule object\nresult = Chem.MolFromSmiles(Chem.MolToSmiles(final))\n\n# Plot the final molecule\nDraw.MolToImage(result)"
  }
 ]
}

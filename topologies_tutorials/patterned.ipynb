{
 "nbformat": 4,
 "nbformat_minor": 0,
 "metadata": {
  "colab": {
   "provenance": []
  },
  "kernelspec": {
   "name": "python3",
   "display_name": "Python 3"
  },
  "language_info": {
   "name": "python"
  }
 },
 "cells": [
  {
   "cell_type": "markdown",
   "metadata": {
    "id": "J1c3xK_cOaEw"
   },
   "source": [
    "# A Step-by-Step Tutorial for PySoftK and RDKit\n",
    "\n",
    "This notebook provides a complete guide to using the PySoftK library for generating and visualizing diblock copolymers. It includes all the necessary installation steps and a fully commented version of the Python script."
   ]
  },
  {
   "cell_type": "markdown",
   "metadata": {
    "id": "K3d4yL_dPaFx"
   },
   "source": [
    "## ⚙️ Prerequisites and Setup\n",
    "\n",
    "Before we can run the main script, we need to set up our Google Colab environment. This involves cloning the PySoftK repository from GitHub and installing its dependencies, including `openbabel`."
   ]
  },
  {
   "cell_type": "code",
   "metadata": {
    "id": "L5f6zM_eQbGy"
   },
   "source": [
    "# Clone the pysoftk repository from GitHub\n",
    "!git clone https://github.com/alejandrosantanabonilla/pysoftk\n",
    "\n",
    "# Navigate to the pysoftk directory\n",
    "%cd pysoftk\n",
    "\n",
    "# Install the package from the current directory, which reads from setup.py\n",
    "!pip install ."
   ],
   "execution_count": null,
   "outputs": []
  },
  {
   "cell_type": "markdown",
   "metadata": {
    "id": "M7g8aN_fRcHz"
   },
   "source": [
    "## 🧪 Understanding and Running the Script\n",
    "\n",
    "The script works by generating various sequences of molecular blocks (labeled A, B, and C) and then uses PySoftK to construct a diblock copolymer for each unique sequence. Finally, it uses RDKit to visualize the resulting molecules in a grid.\n",
    "\n",
    "### 1. Define Building Blocks\n",
    "\n",
    "The script begins by defining three distinct molecules using their SMILES strings. These molecules serve as the \"building blocks\" (A, B, and C) for our polymers. Each molecule has two bromine atoms (`Br`), which are used as the connection points for polymerization.\n",
    "\n",
    "### 2. Generate Permutations\n",
    "\n",
    "We use `itertools.permutations` to create all possible ordered arrangements of the `A`, `B`, and `C` blocks. These sequences, like \"ABC,\" \"ACB,\" \"BAC,\" etc., determine the structure of our final polymer.\n",
    "\n",
    "### 3. Create Diblock Copolymers\n",
    "\n",
    "For each permutation, the `Pt` function from PySoftK's `diblock` module is called. This function takes the block sequence and the predefined molecules to construct a full polymer molecule.\n",
    "\n",
    "### 4. Convert and Visualize\n",
    "\n",
    "The output from PySoftK is a molecule object from the OpenBabel library. To visualize it, we convert the molecule into an RDKit object, which is then used by `MolsToGridImage` to display all the generated molecules in a clear grid."
   ]
  },
  {
   "cell_type": "code",
   "metadata": {
    "id": "N9h9bO_gSdIA"
   },
   "source": [
    "# Import necessary libraries\n",
    "import rdkit\n",
    "from rdkit import Chem\n",
    "from rdkit.Chem import AllChem\n",
    "from rdkit.Chem.Draw import MolsToGridImage\n",
    "from itertools import permutations\n",
    "from pysoftk.topologies.diblock import *\n",
    "from openbabel import openbabel as ob\n",
    "from openbabel import pybel as pb\n",
    "\n",
    "# Define the building block molecules using their SMILES strings\n",
    "mols=[Chem.MolFromSmiles('c1(ccc(cc1)Br)Br'),\n",
    "      Chem.MolFromSmiles('c1cc(oc1Br)Br'),\n",
    "      Chem.MolFromSmiles('c1cc(sc1Br)Br')]\n",
    "\n",
    "# Generate all permutations of the block sequences 'A', 'B', 'C'\n",
    "alph1=permutations([\"A\", \"B\", \"C\"], 3)\n",
    "string=[''.join(values) for idx, values in enumerate(alph1)]\n",
    "\n",
    "# List to store the RDKit molecules\n",
    "rdkit_mols = []\n",
    "\n",
    "# Loop through each permutation to create a polymer\n",
    "for values in string:\n",
    "    # Use PySoftK to create a diblock polymer from the sequence\n",
    "    # The 'Br' atom is specified as the connection point\n",
    "    pybel_mol = Pt(values, mols, \"Br\").pattern_block_poly()\n",
    "\n",
    "    # Get the SMILES string from the Pybel molecule\n",
    "    smiles_str = pybel_mol.write('smi').strip()\n",
    "\n",
    "    # Convert the SMILES string to an RDKit molecule object\n",
    "    rdkit_mol = Chem.MolFromSmiles(smiles_str)\n",
    "\n",
    "    # Append the RDKit molecule to the list\n",
    "    rdkit_mols.append(rdkit_mol)\n",
    "\n",
    "# Display the RDKit molecules in a grid with corresponding legends\n",
    "MolsToGridImage(rdkit_mols, molsPerRow=3, subImgSize=(200, 200), legends=string)\n"
   ],
   "execution_count": null,
   "outputs": []
  },
  {
   "cell_type": "markdown",
   "metadata": {
    "id": "PbhQO9v_tG2O"
   },
   "source": [
    "### 🖼️ Example Output\n",
    ""
   ]
  }
 ]
}

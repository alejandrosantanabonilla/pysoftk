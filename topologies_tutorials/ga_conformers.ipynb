{
 "cells": [
  {
   "cell_type": "markdown",
   "metadata": {},
   "source": [
    "### Step 1: Install Necessary Libraries\n",
    "First, we need to install the required Python libraries, RDKit and PySoftK. This installation cell handles the process by cloning the pysoftk repository and then using `pip install .` to install the package and all its dependencies as defined in its `setup.py` file."
   ]
  },
  {
   "cell_type": "code",
   "execution_count": null,
   "metadata": {},
   "outputs": [],
   "source": [
    "# Clone the pysoftk repository from GitHub\n",
    "!git clone https://github.com/alejandrosantanabonilla/pysoftk\n\n",
    "# Navigate to the pysoftk directory\n",
    "%cd pysoftk\n\n",
    "# Install the package from the current directory, which reads from setup.py\n",
    "!pip install ."
   ]
  },
  {
   "cell_type": "markdown",
   "metadata": {},
   "source": [
    "### Conformer Generation with a Genetic Algorithm Approach\n\n",
    "This notebook provides a tutorial on generating molecular conformers using a genetic algorithm (GA) as implemented by **Open Babel** and wrapped in the **PySoftK** library. We will explain how the GA works, run the provided script, and visualize the results using **RDKit**."
   ]
  },
  {
   "cell_type": "markdown",
   "metadata": {},
   "source": [
    "#### 1. The Genetic Algorithm Method Explained\n\n",
    "Genetic algorithms are a class of optimization algorithms inspired by the process of natural selection. In the context of conformer generation, they are a powerful heuristic for searching a vast conformational space for low-energy structures. \n\n",
    "The process works as follows:\n",
    "1.  **Initial Population**: The algorithm starts with a diverse set of randomly generated conformers, known as the \"population\".\n",
    "2.  **Fitness Evaluation**: Each conformer in the population is evaluated based on its \"fitness,\" which in this case is its potential energy calculated using a molecular mechanics force field (e.g., **MMFF94**). Lower energy means a higher fitness.\n",
    "3.  **Selection**: A new population of conformers is created by selecting the \"fittest\" individuals from the current generation. These high-fitness conformers are more likely to be chosen for reproduction.\n",
    "4.  **Crossover and Mutation**: New offspring are created from the selected parents through two primary operations:\n",
    "    * **Crossover**: The algorithm combines parts of two parent conformers to create a new offspring. For example, it might swap sections of their torsion angles.\n",
    "    * **Mutation**: Random changes are introduced to the torsion angles of some conformers. This introduces new variations into the population, helping the search escape local energy minima.\n\n",
    "This cycle of evaluation, selection, crossover, and mutation repeats for many generations until a specified convergence criterion is met, or the maximum number of generations is reached. The final result is a diverse set of low-energy conformers."
   ]
  },
  {
   "cell_type": "markdown",
   "metadata": {},
   "source": [
    "#### 2. Python Script for Conformer Generation\n\n",
    "The following script uses the **PySoftK** library's `ga_generate_conformers` method, which leverages a genetic algorithm to find stable conformers for a flexible molecule like decane."
   ]
  },
  {
   "cell_type": "code",
   "execution_count": null,
   "metadata": {},
   "outputs": [],
   "source": [
    "from rdkit import Chem\n",
    "from rdkit.Chem import AllChem\n",
    "from pysoftk.torsional.mol_conformer import ConformerGenerator\n\n",
    "# 1. Instantiate the ConformerGenerator class.\n",
    "ga_generator = ConformerGenerator()\n\n",
    "# 2. Define the molecule input (SMILES string).\n",
    "smiles_string = 'CCCCCCCCCC'  # Decane\n\n",
    "# 3. Define the output directory.\n",
    "output_directory = 'decane_ga_conformers'\n\n",
    "# 4. Call the ga_generate_conformers method with output arguments.\n",
    "num_conformers_generated = ga_generator.ga_generate_conformers(\n",
    "    smiles=smiles_string,\n",
    "    output_dir=output_directory,\n",
    "    base_filename='decane_ga',\n",
    "    num_conformers=20,\n",
    "    forcefield='mmff94',\n",
    "    mutability=10,\n",
    "    convergence=100\n",
    ")\n\n",
    "# 5. Check the return value to confirm success.\n",
    "if num_conformers_generated > 0:\n",
    "    print(f\"\\n✅ All {num_conformers_generated} conformer files are located in the '{output_directory}' directory.\")\n",
    "else:\n",
    "    print(\"\\n❌ Conformer generation failed. Please check the console output for error messages.\")"
   ]
  },
  {
   "cell_type": "markdown",
   "metadata": {},
   "source": [
    "#### 3. Visualizing the Generated Conformers\n\n",
    "The visualization part of the script loads the generated `.xyz` files and converts them into a format that **RDKit** can plot, allowing us to see the different conformations."
   ]
  },
  {
   "cell_type": "code",
   "execution_count": null,
   "metadata": {},
   "outputs": [],
   "source": [
    "from rdkit import Chem\n",
    "from rdkit.Chem import AllChem\n",
    "from rdkit.Chem.Draw import MolsToGridImage\n",
    "import os\n",
    "from IPython.display import display\n\n",
    "# 1. Load all conformer files from the output directory.\n",
    "conformers = []\n",
    "output_directory = 'decane_ga_conformers'\n",
    "files = sorted([f for f in os.listdir(output_directory) if f.endswith('.xyz')])\n\n",
    "for file in files:\n",
    "    mol = Chem.MolFromXYZFile(os.path.join(output_directory, file))\n",
    "    if mol:\n",
    "        # The XYZ file format does not contain bond information, so we need to add it.\n",
    "        # We'll create a molecule from the SMILES string to get the bonding information\n",
    "        # and transfer the 3D coordinates from the loaded conformer.\n",
    "        smiles = 'CCCCCCCCCC'\n",
    "        mol_with_bonds = Chem.MolFromSmiles(smiles)\n",
    "        mol_with_bonds = Chem.AddHs(mol_with_bonds)\n",
    "        \n",
    "        # Create a new conformer for the molecule with bonds\n",
    "        new_conf = Chem.Conformer(mol.GetConformer())\n",
    "        mol_with_bonds.AddConformer(new_conf, assignId=True)\n",
    "        conformers.append(mol_with_bonds)\n\n",
    "print(f\"Loaded {len(conformers)} conformers from the directory.\")\n\n",
    "# 2. Align the conformers for better visual comparison.\n",
    "if conformers:\n",
    "    ref_mol = conformers[0]\n",
    "    for i in range(1, len(conformers)):\n",
    "        AllChem.AlignMol(conformers[i], ref_mol)\n\n",
    "# 3. Display the conformers in a grid.\n",
    "#    We will display a maximum of 10 conformers for clarity.\n",
    "conformers_to_display = conformers[:10]\n",
    "legends = [f'Conf_{i}' for i in range(len(conformers_to_display))]\n\n",
    "if conformers_to_display:\n",
    "    img = MolsToGridImage(conformers_to_display, molsPerRow=5, subImgSize=(200, 200), legends=legends)\n",
    "    display(img)\n",
    "else:\n",
    "    print(\"No conformers to display.\")"
   ]
  }
 ],
 "metadata": {
  "kernelspec": {
   "display_name": "Python 3",
   "language": "python",
   "name": "python3"
  },
  "language_info": {
   "codemirror_mode": {
    "name": "ipython",
    "version": 3
   },
   "file_extension": ".py",
   "mimetype": "text/x-python",
   "name": "python",
   "nbconvert_exporter": "python",
   "pygments_lexer": "ipython3",
   "version": "3.8.10"
  }
 },
 "nbformat": 4,
 "nbformat_minor": 4
}

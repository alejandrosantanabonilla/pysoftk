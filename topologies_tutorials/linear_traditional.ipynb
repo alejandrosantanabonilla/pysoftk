{
 "nbformat": 4,
 "nbformat_minor": 0,
 "metadata": {
  "colab": {
   "provenance": []
  },
  "kernelspec": {
   "name": "python3",
   "display_name": "Python 3"
  },
  "language_info": {
   "name": "python"
  }
 },
 "cells": [
  {
   "cell_type": "markdown",
   "metadata": {
    "id": "intro"
   },
   "source": [
    "# Tutorial for Generating Linear Polymers with PySoftK Super Monomers\n",
    "\n",
    "This notebook demonstrates how to create a linear polymer from a 'super monomer'—a unit formed by linking two or more simpler monomers together. This is a powerful technique for building complex polymer chains."
   ]
  },
  {
   "cell_type": "markdown",
   "metadata": {
    "id": "prerequisites"
   },
   "source": [
    "## ⚙️ Prerequisites and Setup\n",
    "\n",
    "First, we need to install the PySoftK library. This involves cloning the repository and installing it from the local directory. This process will also handle the installation of dependencies like OpenBabel."
   ]
  },
  {
   "cell_type": "code",
   "metadata": {
    "id": "install"
   },
   "source": [
    "# Clone the pysoftk repository from GitHub\n",
    "!git clone https://github.com/alejandrosantanabonilla/pysoftk\n",
    "\n",
    "# Navigate to the pysoftk directory\n",
    "%cd pysoftk\n",
    "\n",
    "# Install the package from the current directory, which reads from setup.py\n",
    "!pip install ."
   ],
   "execution_count": null,
   "outputs": []
  },
  {
   "cell_type": "markdown",
   "metadata": {
    "id": "script_explanation"
   },
   "source": [
    "## 🧪 Understanding and Running the Script\n",
    "\n",
    "The following script uses the `Sm` class to create a 'super monomer' from two individual molecules. This super monomer is then used by the `Lp` class to build a linear polymer chain."
   ]
  },
  {
   "cell_type": "markdown",
   "metadata": {
    "id": "key_components"
   },
   "source": [
    "### Key Components of the Script\n",
    "\n",
    "1.  **Define Monomers**: Two simple molecules are defined using RDKit's `Chem.MolFromSmiles()` function. These will be the building blocks of our super monomer.\n",
    "\n",
    "2.  **`Sm()` - Create the Super Monomer**: The `Sm()` class takes two RDKit molecule objects and a linking atom (in this case, 'Br' for Bromine) and links them together to form a new, single molecular unit.\n",
    "\n",
    "3.  **`Lp()` - Build the Linear Polymer**: The `Lp()` class takes the super monomer, the linking atom, the number of repetitions (3), and a `shift` value to control the relative position of the repeating units. This generates the final polymer structure as an OpenBabel object.\n",
    "\n",
    "4.  **Conversion and Visualization**: The resulting OpenBabel object is converted to a SMILES string. This string is then used to create an RDKit molecule object, which is required for plotting the molecule."
   ]
  },
  {
   "cell_type": "code",
   "metadata": {
    "id": "run_script"
   },
   "source": [
    "from rdkit import Chem\n",
    "from rdkit.Chem import AllChem\n",
    "\n",
    "from pysoftk.linear_polymer.super_monomer import Sm\n",
    "from pysoftk.linear_polymer.linear_polymer import Lp\n",
    "\n",
    "from openbabel import openbabel as ob\n",
    "from openbabel import pybel as pb\n",
    "\n",
    "# 1. Define the two monomers for the super monomer\n",
    "mol_1 = Chem.MolFromSmiles('c1cc(sc1Br)Br')\n",
    "mol_2 = Chem.MolFromSmiles('c1cc(sc1Br)Br')\n",
    "\n",
    "# 2. Create the super monomer from the two individual monomers\n",
    "# The 'Br' atom is specified as the linking point\n",
    "super_monomer_instance = Sm(mol_1, mol_2, \"Br\")\n",
    "super_monomer_pybel = super_monomer_instance.mon_to_poly()\n",
    "\n",
    "# 3. Build the linear polymer using the super monomer\n",
    "# We repeat the super monomer 3 times with a specified shift\n",
    "polymer_instance = Lp(super_monomer_pybel, \"Br\", 3, shift=1.0)\n",
    "new = polymer_instance.linear_polymer()\n",
    "\n",
    "# 4. Get the SMILES string from the final OpenBabel molecule object\n",
    "smiles_str = new.write('smi').strip()\n",
    "\n",
    "# 5. Convert the SMILES string to an RDKit molecule\n",
    "rdkit_mol = Chem.MolFromSmiles(smiles_str)\n",
    "\n",
    "# Print the resulting SMILES string\n",
    "print(f\"Generated SMILES: {smiles_str}\")"
   ],
   "execution_count": null,
   "outputs": []
  },
  {
   "cell_type": "markdown",
   "metadata": {
    "id": "visualize_markdown"
   },
   "source": [
    "## Visualizing the Result\n",
    "\n",
    "To confirm the structure of the generated polymer, we can use RDKit to visualize the molecule from its SMILES string. This provides a clear, 2D representation of the final structure."
   ]
  },
  {
   "cell_type": "code",
   "metadata": {
    "id": "visualize_code"
   },
   "source": [
    "from rdkit.Chem.Draw import rdMolDraw2D\n",
    "from IPython.display import display, SVG\n",
    "\n",
    "# The 'rdkit_mol' object was created in the previous cell\n",
    "mol = rdkit_mol\n",
    "\n",
    "# Display the molecule as an SVG image\n",
    "d = rdMolDraw2D.MolDraw2DSVG(800, 400)\n",
    "d.drawOptions().addStereoAnnotation = True\n",
    "d.drawOptions().addAtomIndices = True\n",
    "d.DrawMolecule(mol)\n",
    "d.FinishDrawing()\n",
    "svg = d.GetDrawingText()\n",
    "display(SVG(svg))\n"
   ],
   "execution_count": null,
   "outputs": []
  }
 ]
}

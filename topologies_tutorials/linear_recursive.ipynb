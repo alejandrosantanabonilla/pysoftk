{
 "nbformat": 4,
 "nbformat_minor": 0,
 "metadata": {
  "colab": {
   "provenance": []
  },
  "kernelspec": {
   "name": "python3",
   "display_name": "Python 3"
  },
  "language_info": {
   "name": "python"
  }
 },
 "cells": [
  {
   "cell_type": "markdown",
   "metadata": {
    "id": "intro"
   },
   "source": [
    "# Tutorial for Generating Linear Polymers with PySoftK\n",
    "\n",
    "This notebook demonstrates how to use the `pysoftk.linear_polymer` module to generate a linear polymer structure from a repeating monomer unit."
   ]
  },
  {
   "cell_type": "markdown",
   "metadata": {
    "id": "prerequisites"
   },
   "source": [
    "## ⚙️ Prerequisites and Setup\n",
    "\n",
    "First, we need to install the PySoftK library. This involves cloning the repository and installing it from the local directory."
   ]
  },
  {
   "cell_type": "code",
   "metadata": {
    "id": "install"
   },
   "source": [
    "# Clone the pysoftk repository from GitHub\n",
    "!git clone https://github.com/alejandrosantanabonilla/pysoftk\n",
    "\n",
    "# Navigate to the pysoftk directory\n",
    "%cd pysoftk\n",
    "\n",
    "# Install the package from the current directory, which reads from setup.py\n",
    "!pip install ."
   ],
   "execution_count": null,
   "outputs": []
  },
  {
   "cell_type": "markdown",
   "metadata": {
    "id": "script_explanation"
   },
   "source": [
    "## 🧪 Understanding and Running the Script\n",
    "\n",
    "The following script uses the `Lpr` class to define and generate a linear polymer. This is done by specifying a monomer unit and a number of repetitions."
   ]
  },
  {
   "cell_type": "markdown",
   "metadata": {
    "id": "key_components"
   },
   "source": [
    "### Key Components of the Script\n",
    "\n",
    "1.  **`smiles`**: This is the initial SMILES string for the monomer unit. The `{R}` placeholder specifies where the polymer will grow from.\n",
    "\n",
    "2.  **`replacements`**: This dictionary defines what the `{R}` placeholder will be replaced with in each step of the polymerization. In this case, it's the same monomer unit, allowing the chain to grow.\n",
    "\n",
    "3.  **`max_repetitions`**: This integer sets the maximum length of the polymer chain. The process will stop after this many repetitions.\n",
    "\n",
    "4.  **`final_replacement`**: An empty string is used here to terminate the polymer chain, replacing the final `{R}` placeholder with nothing.\n",
    "\n",
    "5.  **`generate_recursive_smiles()`**: This method executes the polymerization. It can also perform molecular relaxation using a specified force field (`MMFF`), control the number of relaxation iterations, and manage conformational changes."
   ]
  },
  {
   "cell_type": "code",
   "metadata": {
    "id": "run_script"
   },
   "source": [
    "from pysoftk.linear_polymer.linear_polymer import Lpr\n",
    "from rdkit import Chem\n",
    "from openbabel import openbabel as ob\n",
    "from openbabel import pybel as pb\n",
    "\n",
    "# Define the monomer unit and the placeholder for polymerization\n",
    "smiles = \"CC(c1ccccc1){R}\"\n",
    "\n",
    "# Define what the placeholder will be replaced with (the same monomer unit)\n",
    "replacements = {\"R\": \"CC(c1ccccc1){R}\"}\n",
    "\n",
    "# The final placeholder will be replaced with nothing to cap the polymer\n",
    "final_replacement = \"\"\n",
    "\n",
    "# Create an instance of the Lpr class\n",
    "lpr_instance = Lpr(smiles, replacements, max_repetitions=10, final_replacement=final_replacement)\n",
    "\n",
    "# Generate the polymer. The result is an OpenBabel molecule object.\n",
    "result = lpr_instance.generate_recursive_smiles(force_field=\"MMFF\", relax_iterations=250, rot_steps=1)\n",
    "\n",
    "# Get the SMILES string from the Pybel molecule\n",
    "smiles_str = result.write('smi').strip()\n",
    "\n",
    "# Convert the SMILES string to an RDKit molecule\n",
    "rdkit_mol = Chem.MolFromSmiles(smiles_str)\n",
    "\n",
    "# Print the resulting SMILES string of the generated polymer\n",
    "print(f\"Generated SMILES: {smiles_str}\")"
   ],
   "execution_count": null,
   "outputs": []
  },
  {
   "cell_type": "markdown",
   "metadata": {
    "id": "visualize_markdown"
   },
   "source": [
    "## Visualizing the Result\n",
    "\n",
    "We can use RDKit to visualize the resulting SMILES string as a 2D molecular image. This helps in confirming the structure of the generated polymer."
   ]
  },
  {
   "cell_type": "code",
   "metadata": {
    "id": "visualize_code"
   },
   "source": [
    "from rdkit.Chem.Draw import rdMolDraw2D\n",
    "from IPython.display import display, SVG\n",
    "\n",
    "# The 'rdkit_mol' object was created in the previous cell.\n",
    "mol = rdkit_mol\n",
    "\n",
    "# Display the molecule as an SVG image\n",
    "d = rdMolDraw2D.MolDraw2DSVG(800, 400)\n",
    "d.drawOptions().addStereoAnnotation = True\n",
    "d.drawOptions().addAtomIndices = True\n",
    "d.DrawMolecule(mol)\n",
    "d.FinishDrawing()\n",
    "svg = d.GetDrawingText()\n",
    "display(SVG(svg))\n"
   ],
   "execution_count": null,
   "outputs": []
  }
 ]
}

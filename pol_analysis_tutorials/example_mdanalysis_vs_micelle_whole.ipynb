{
 "cells": [
  {
   "cell_type": "markdown",
   "id": "264ef590",
   "metadata": {},
   "source": [
    "# MDAnalysis vs micelle_whole tool"
   ]
  },
  {
   "cell_type": "markdown",
   "id": "d8aa2cf7",
   "metadata": {},
   "source": [
    "This Jupyter notebook aims to illustrate the improved algorithms developed in PySoftK to extend and complement the analysis tools available in codes like MDAnalysis. "
   ]
  },
  {
   "cell_type": "markdown",
   "id": "13f786b7",
   "metadata": {},
   "source": [
    "As an example, this is the system that we are going to try to reconstrut its connectivity:\n",
    "![Image Alt Text](data/pictures_tutorial/snapshot_to_cluster_initial_mdanalysis_vs_pysoftk.png)"
   ]
  },
  {
   "cell_type": "markdown",
   "id": "be9bd126",
   "metadata": {},
   "source": [
    "This is a complex system to reconnect, since it is divided along the three dimensions creating chunks of the system with different sizes. Let's first attempt to reconect it using MDAnalysis"
   ]
  },
  {
   "cell_type": "markdown",
   "id": "2630352f",
   "metadata": {},
   "source": [
    "## MDAnalysis transformations"
   ]
  },
  {
   "cell_type": "code",
   "execution_count": 3,
   "id": "9d188003",
   "metadata": {},
   "outputs": [
    {
     "name": "stderr",
     "output_type": "stream",
     "text": [
      "/home/raquellrdc/Desktop/PhD/mda_umap/lib/python3.10/site-packages/tqdm/auto.py:21: TqdmWarning: IProgress not found. Please update jupyter and ipywidgets. See https://ipywidgets.readthedocs.io/en/stable/user_install.html\n",
      "  from .autonotebook import tqdm as notebook_tqdm\n"
     ]
    }
   ],
   "source": [
    "import MDAnalysis as mda \n",
    "import MDAnalysis.analysis.distances\n",
    "import numpy as np\n",
    "import matplotlib.patches as mpatches\n",
    "import itertools\n",
    "import MDAnalysis.transformations as trans\n",
    "from tqdm.auto import tqdm\n"
   ]
  },
  {
   "cell_type": "markdown",
   "id": "58d60cca",
   "metadata": {},
   "source": [
    "Let's load the trajectory"
   ]
  },
  {
   "cell_type": "code",
   "execution_count": 5,
   "id": "66138d92",
   "metadata": {},
   "outputs": [],
   "source": [
    "topology='data/pictures_tutorial/triblock.tpr'\n",
    "trajectory='data/pictures_tutorial/triblock.xtc'\n",
    "\n",
    "\n",
    "u=mda.Universe(topology, trajectory)"
   ]
  },
  {
   "cell_type": "markdown",
   "id": "23f5e184",
   "metadata": {},
   "source": [
    "The resid of the polymers that we want to cluster are the following, they are the ones displayed in the above image, obtained with the SCP tool"
   ]
  },
  {
   "cell_type": "code",
   "execution_count": 6,
   "id": "9631b49b",
   "metadata": {},
   "outputs": [],
   "source": [
    "resids_to_be_clustered=[1, 2, 3, 4, 5, 6, 7, 8, 10, 11, 12, 13, 14, 15, 16, 17, 18, 19]\n"
   ]
  },
  {
   "cell_type": "markdown",
   "id": "71e6c23c",
   "metadata": {},
   "source": [
    "Now, let's run MDAnalysis transformations to attempt to make the micelle whole and center it in the box"
   ]
  },
  {
   "cell_type": "code",
   "execution_count": 16,
   "id": "23dfc22d",
   "metadata": {},
   "outputs": [],
   "source": [
    "u2=mda.Universe(topology, trajectory)\n",
    "\n",
    "\n",
    "polymer=u.select_atoms('not resname SOL')\n",
    "\n",
    "#converting the resids array into a list ot be passed onto the mdanalysis selecition of the atoms of the micelle\n",
    "ind=[]\n",
    "\n",
    "\n",
    "for item in resids_to_be_clustered:\n",
    "        \n",
    "        ind.append(str(item) +' ')\n",
    "        \n",
    "        \n",
    "ind_f = ' '.join(ind)\n",
    "    \n",
    "    \n",
    "    \n",
    "micelle = polymer.select_atoms('resid ' + str(ind_f))\n",
    "        \n",
    "transforms = [trans.unwrap(micelle),\n",
    "            trans.center_in_box(micelle, wrap=True)]\n",
    "        \n",
    "u2.trajectory.add_transformations(*transforms)\n",
    "        \n",
    "with MDAnalysis.Writer(\"data/pictures_tutorial/mdanalysis_whole.pdb\", micelle.n_atoms) as W:\n",
    "    \n",
    "    W.write(micelle)"
   ]
  },
  {
   "cell_type": "markdown",
   "id": "b7554878",
   "metadata": {},
   "source": [
    "Let's visualize the mdanalysis_whole.pdb with VMD\n",
    "![Image Alt Text](data/pictures_tutorial/mdanalysis_whole_screenshot.png)"
   ]
  },
  {
   "cell_type": "markdown",
   "id": "97f5fac9",
   "metadata": {},
   "source": [
    "Clearly, MDAnalysis has not been able to make the micelle whole, since its extension is greater than hald the box lengh."
   ]
  },
  {
   "cell_type": "markdown",
   "id": "6582042f",
   "metadata": {},
   "source": [
    "# Pysoftk's make_micelle_whole "
   ]
  },
  {
   "cell_type": "markdown",
   "id": "d457200d",
   "metadata": {},
   "source": [
    "Let's load the modules and trajectory"
   ]
  },
  {
   "cell_type": "code",
   "execution_count": 8,
   "id": "54efc1d6",
   "metadata": {},
   "outputs": [],
   "source": [
    "from  utils_mda import MDA_input\n",
    "#from pysoftk.pol_analysis.tools.utils_mda import MDA_input\n",
    "from utils_tools import *\n",
    "#from pysoftk.pol_analysis.tools.utils_tools import *\n",
    "from clustering import SCP\n",
    "#from pysoftk.pol_analysis.clustering import SCP\n",
    "from make_micelle_whole import micelle_whole\n",
    "#from pysoftk.pol_analysis.make_micelle_whole import micelle_whole\n",
    "\n",
    "import numpy as np\n",
    "import pandas as pd"
   ]
  },
  {
   "cell_type": "code",
   "execution_count": 9,
   "id": "650db517",
   "metadata": {},
   "outputs": [],
   "source": [
    "topology='data/pictures_tutorial/triblock.tpr'\n",
    "trajectory='data/pictures_tutorial/triblock.xtc'\n"
   ]
  },
  {
   "cell_type": "markdown",
   "id": "16e575a8",
   "metadata": {},
   "source": [
    "1. First, we need to run SCP to obtain the largest micelle resids"
   ]
  },
  {
   "cell_type": "code",
   "execution_count": 10,
   "id": "24414692",
   "metadata": {},
   "outputs": [],
   "source": [
    "atom_names = ['C02X', 'C001']\n",
    "\n",
    "cluster_cutoff = 12\n",
    "\n",
    "results_name='data/pictures_tutorial/triblock_scp_result'\n",
    "\n",
    "start=0\n",
    "stop=1000\n",
    "step=1\n"
   ]
  },
  {
   "cell_type": "code",
   "execution_count": 11,
   "id": "c78b8874",
   "metadata": {},
   "outputs": [
    {
     "name": "stderr",
     "output_type": "stream",
     "text": [
      "100%|████████████████████████████████████████████████████████████████████████████████████████████████████████████████████████████████████████████| 1/1 [00:00<00:00,  9.45it/s]"
     ]
    },
    {
     "name": "stdout",
     "output_type": "stream",
     "text": [
      "The file data/pictures_tutorial/triblock_scp_result.parquet has been successfully created.\n",
      "Function spatial_clustering_run Took 1.2031 seconds\n"
     ]
    },
    {
     "name": "stderr",
     "output_type": "stream",
     "text": [
      "\n"
     ]
    }
   ],
   "source": [
    "c = SCP(topology, trajectory).spatial_clustering_run(start, stop, step, atom_names, cluster_cutoff, results_name)"
   ]
  },
  {
   "cell_type": "markdown",
   "id": "2010f238",
   "metadata": {},
   "source": [
    "2. Now, let's obtain the largest micelle resids"
   ]
  },
  {
   "cell_type": "code",
   "execution_count": 12,
   "id": "a027ed8e",
   "metadata": {},
   "outputs": [],
   "source": [
    "resids_total='data/pictures_tutorial/triblock_scp_result.parquet'\n",
    "\n",
    "largest_micelle_resids = micelle_whole(topology, trajectory).obtain_largest_micelle_resids(resids_total)"
   ]
  },
  {
   "cell_type": "markdown",
   "id": "e7bab32c",
   "metadata": {},
   "source": [
    "3. Let's make the micelle whole"
   ]
  },
  {
   "cell_type": "code",
   "execution_count": 13,
   "id": "ac44508c",
   "metadata": {},
   "outputs": [
    {
     "name": "stderr",
     "output_type": "stream",
     "text": [
      "  0%|                                                                                                                                                    | 0/1 [00:00<?, ?it/s]/home/raquellrdc/Desktop/PhD/pysoftk/alejandro_newest_releast_check/pysoftk_analysis_code/test_final/make_micelle_whole.py:347: FutureWarning: arrays to stack must be passed as a \"sequence\" type such as list or tuple. Support for non-sequence iterables such as generators is deprecated as of NumPy 1.16 and will raise an error in the future.\n",
      "  atom_positions_over_trajectory = list(tqdm(map(self.make_cluster_whole, frames, resname, cluster_resids_f[0],\n",
      "100%|████████████████████████████████████████████████████████████████████████████████████████████████████████████████████████████████████████████| 1/1 [00:01<00:00,  1.79s/it]"
     ]
    },
    {
     "name": "stdout",
     "output_type": "stream",
     "text": [
      "Elapsed time for matrix calculation: 3.1445 seconds\n"
     ]
    },
    {
     "name": "stderr",
     "output_type": "stream",
     "text": [
      "\n"
     ]
    }
   ],
   "source": [
    "resname=['LIG']\n",
    "\n",
    "start=0\n",
    "stop=10001\n",
    "step=1\n",
    "\n",
    "atom_pos = micelle_whole(topology, trajectory).running_make_cluster_whole(resname, largest_micelle_resids, start, stop, step)"
   ]
  },
  {
   "cell_type": "markdown",
   "id": "c852b5ba",
   "metadata": {},
   "source": [
    "4. Let's obtain the snapshot"
   ]
  },
  {
   "cell_type": "code",
   "execution_count": 14,
   "id": "fe1fa9ef",
   "metadata": {},
   "outputs": [],
   "source": [
    "snapshot_frame=0\n",
    "\n",
    "snapshot_name='data/pictures_tutorial/pysoftk_whole.pdb'\n",
    "\n",
    "atom_pos_frame=atom_pos[0]\n",
    "\n",
    "largest_micelle_resids_frame=largest_micelle_resids[0]\n"
   ]
  },
  {
   "cell_type": "markdown",
   "id": "bb90ba9b",
   "metadata": {},
   "source": [
    "Now, atom_pos contains the coordinates of all the atoms of the micelle made whole at each time step selected. In each array, the first element is the time frame of the analysis, and the second the positions array"
   ]
  },
  {
   "cell_type": "code",
   "execution_count": 15,
   "id": "5f3888b0",
   "metadata": {},
   "outputs": [
    {
     "name": "stdout",
     "output_type": "stream",
     "text": [
      "6534\n",
      "6534\n"
     ]
    },
    {
     "name": "stderr",
     "output_type": "stream",
     "text": [
      "/home/raquellrdc/Desktop/PhD/mda_umap/lib/python3.10/site-packages/MDAnalysis/coordinates/PDB.py:1151: UserWarning: Found no information for attr: 'altLocs' Using default value of ' '\n",
      "  warnings.warn(\"Found no information for attr: '{}'\"\n",
      "/home/raquellrdc/Desktop/PhD/mda_umap/lib/python3.10/site-packages/MDAnalysis/coordinates/PDB.py:1151: UserWarning: Found no information for attr: 'icodes' Using default value of ' '\n",
      "  warnings.warn(\"Found no information for attr: '{}'\"\n",
      "/home/raquellrdc/Desktop/PhD/mda_umap/lib/python3.10/site-packages/MDAnalysis/coordinates/PDB.py:1151: UserWarning: Found no information for attr: 'chainIDs' Using default value of ''\n",
      "  warnings.warn(\"Found no information for attr: '{}'\"\n",
      "/home/raquellrdc/Desktop/PhD/mda_umap/lib/python3.10/site-packages/MDAnalysis/coordinates/PDB.py:1151: UserWarning: Found no information for attr: 'occupancies' Using default value of '1.0'\n",
      "  warnings.warn(\"Found no information for attr: '{}'\"\n",
      "/home/raquellrdc/Desktop/PhD/mda_umap/lib/python3.10/site-packages/MDAnalysis/coordinates/PDB.py:1151: UserWarning: Found no information for attr: 'tempfactors' Using default value of '0.0'\n",
      "  warnings.warn(\"Found no information for attr: '{}'\"\n",
      "/home/raquellrdc/Desktop/PhD/mda_umap/lib/python3.10/site-packages/MDAnalysis/coordinates/PDB.py:1151: UserWarning: Found no information for attr: 'record_types' Using default value of 'ATOM'\n",
      "  warnings.warn(\"Found no information for attr: '{}'\"\n",
      "/home/raquellrdc/Desktop/PhD/mda_umap/lib/python3.10/site-packages/MDAnalysis/coordinates/PDB.py:1151: UserWarning: Found no information for attr: 'formalcharges' Using default value of '0'\n",
      "  warnings.warn(\"Found no information for attr: '{}'\"\n",
      "/home/raquellrdc/Desktop/PhD/mda_umap/lib/python3.10/site-packages/MDAnalysis/coordinates/PDB.py:1198: UserWarning: Found missing chainIDs. Corresponding atoms will use value of 'X'\n",
      "  warnings.warn(\"Found missing chainIDs.\"\n",
      "/home/raquellrdc/Desktop/PhD/mda_umap/lib/python3.10/site-packages/MDAnalysis/topology/PDBParser.py:331: UserWarning: Element information is missing, elements attribute will not be populated. If needed these can be guessed using MDAnalysis.topology.guessers.\n",
      "  warnings.warn(\"Element information is missing, elements attribute \"\n"
     ]
    }
   ],
   "source": [
    "snapshot = micelle_whole(topology, trajectory).obtain_snapshot(snapshot_name, atom_pos_frame, \n",
    "                                                               largest_micelle_resids_frame, resname, snapshot_frame)"
   ]
  },
  {
   "cell_type": "markdown",
   "id": "cf8d2894",
   "metadata": {},
   "source": [
    "This is how the micelle looks now:\n",
    "\n",
    "![Image Alt Text](data/pictures_tutorial/pysoftk_whole_screenshot.png\n",
    ")\n"
   ]
  },
  {
   "cell_type": "markdown",
   "id": "6eb70647",
   "metadata": {},
   "source": [
    "Clearly, PySoftK is able to make the micelle whole even when its length is greater than half the box size!"
   ]
  }
 ],
 "metadata": {
  "kernelspec": {
   "display_name": "Python 3 (ipykernel)",
   "language": "python",
   "name": "python3"
  },
  "language_info": {
   "codemirror_mode": {
    "name": "ipython",
    "version": 3
   },
   "file_extension": ".py",
   "mimetype": "text/x-python",
   "name": "python",
   "nbconvert_exporter": "python",
   "pygments_lexer": "ipython3",
   "version": "3.10.12"
  }
 },
 "nbformat": 4,
 "nbformat_minor": 5
}

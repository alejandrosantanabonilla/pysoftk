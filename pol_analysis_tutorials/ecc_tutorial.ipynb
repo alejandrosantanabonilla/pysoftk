{
 "cells": [
  {
   "cell_type": "markdown",
   "id": "6c894466",
   "metadata": {},
   "source": [
    "# Tutorial on the usage of ecc_micelle"
   ]
  },
  {
   "cell_type": "markdown",
   "id": "b8a3de5f",
   "metadata": {},
   "source": [
    "This tutorial shows how to use the ecc_micelle class to compute the eccentricity of a micelle that is broken across the periodic boundary conditions (PBC) at some time steps. Please note that this class can be used in the same way for aggregates that are not broken across the PBC."
   ]
  },
  {
   "cell_type": "markdown",
   "id": "d83882c8",
   "metadata": {},
   "source": [
    "Before starting any analysis, load the neccesary modules for this class."
   ]
  },
  {
   "cell_type": "code",
   "execution_count": 2,
   "id": "13ef8c57",
   "metadata": {},
   "outputs": [],
   "source": [
    "from  utils_mda import MDA_input\n",
    "#from pysoftk.pol_analysis.tools.utils_mda import MDA_input\n",
    "from utils_tools import *\n",
    "#from pysoftk.pol_analysis.tools.utils_tools import *\n",
    "from clustering import SCP\n",
    "#from pysoftk.pol_analysis.clustering import SCP\n",
    "from make_micelle_whole import micelle_whole\n",
    "#from pysoftk.pol_analysis.make_micelle_whole import micelle_whole\n",
    "from ecc_micelle import ecc\n",
    "#from pysoftk.pol_analysis.ecc_micelle import ecc\n",
    "\n",
    "import numpy as np\n",
    "import pandas as pd"
   ]
  },
  {
   "cell_type": "markdown",
   "id": "e3082302",
   "metadata": {},
   "source": [
    "1. First load the trajectory, we are going to use the cyclic topology used in previous tutorials."
   ]
  },
  {
   "cell_type": "code",
   "execution_count": 5,
   "id": "6615e808",
   "metadata": {},
   "outputs": [],
   "source": [
    "topology='data/short_movie_cyclic.tpr'\n",
    "trajectory='data/short_movie_cyclic.xtc'\n"
   ]
  },
  {
   "cell_type": "markdown",
   "id": "8a975145",
   "metadata": {},
   "source": [
    "2. Import the clustering data from SCP function"
   ]
  },
  {
   "cell_type": "code",
   "execution_count": 6,
   "id": "b4715abc",
   "metadata": {},
   "outputs": [],
   "source": [
    "resids_total='data/pictures_tutorial/cyclic_scp_result.parquet'"
   ]
  },
  {
   "cell_type": "markdown",
   "id": "5a440b45",
   "metadata": {},
   "source": [
    "3. Obtain the largest micelle from the clustering pandas dataframe"
   ]
  },
  {
   "cell_type": "code",
   "execution_count": 7,
   "id": "9bb3a704",
   "metadata": {},
   "outputs": [],
   "source": [
    "largest_micelle_resids = micelle_whole(topology, trajectory).obtain_largest_micelle_resids(resids_total)"
   ]
  },
  {
   "cell_type": "markdown",
   "id": "522eb550",
   "metadata": {},
   "source": [
    "4. Now, obtain the positions of the whole micelle"
   ]
  },
  {
   "cell_type": "code",
   "execution_count": 8,
   "id": "3d1fbbd1",
   "metadata": {},
   "outputs": [
    {
     "name": "stderr",
     "output_type": "stream",
     "text": [
      "  0%|                                                                                                                                                    | 0/3 [00:00<?, ?it/s]/home/raquellrdc/Desktop/PhD/pysoftk/alejandro_newest_releast_check/pysoftk_analysis_code/test_final/make_micelle_whole.py:347: FutureWarning: arrays to stack must be passed as a \"sequence\" type such as list or tuple. Support for non-sequence iterables such as generators is deprecated as of NumPy 1.16 and will raise an error in the future.\n",
      "  atom_positions_over_trajectory = list(tqdm(map(self.make_cluster_whole, frames, resname, cluster_resids_f[0],\n",
      "100%|████████████████████████████████████████████████████████████████████████████████████████████████████████████████████████████████████████████| 3/3 [00:00<00:00,  6.86it/s]"
     ]
    },
    {
     "name": "stdout",
     "output_type": "stream",
     "text": [
      "Elapsed time for matrix calculation: 0.5386 seconds\n"
     ]
    },
    {
     "name": "stderr",
     "output_type": "stream",
     "text": [
      "\n"
     ]
    }
   ],
   "source": [
    "#select the resname of the polymers\n",
    "resname=['LIG']\n",
    "\n",
    "#run to obtain the whole positions\n",
    "start=0\n",
    "stop=10001\n",
    "step=1\n",
    "\n",
    "#run micelle_whole\n",
    "atom_pos = micelle_whole(topology, trajectory).running_make_cluster_whole(resname, largest_micelle_resids, start, stop, step)"
   ]
  },
  {
   "cell_type": "markdown",
   "id": "dbbaaa95",
   "metadata": {},
   "source": [
    "5. We have all the neccesary inputs to run the eccentricity calculation"
   ]
  },
  {
   "cell_type": "code",
   "execution_count": 9,
   "id": "ae5893f6",
   "metadata": {},
   "outputs": [
    {
     "name": "stderr",
     "output_type": "stream",
     "text": [
      "100%|██████████████████████████████████████████████████████████████████████████████████████████████████████████████████████████████████████████| 3/3 [00:00<00:00, 1241.41it/s]\n"
     ]
    },
    {
     "data": {
      "text/plain": [
       "[0.31216114645263193, 0.09429518042597795, 0.0661655070142777]"
      ]
     },
     "execution_count": 9,
     "metadata": {},
     "output_type": "execute_result"
    }
   ],
   "source": [
    "ecc_micelle_whole = ecc(topology, trajectory).running_ecc(largest_micelle_resids, atom_pos, start, stop, step)\n",
    "ecc_micelle_whole"
   ]
  },
  {
   "cell_type": "markdown",
   "id": "3fde87a0",
   "metadata": {},
   "source": [
    "That is it! ecc_micelle_whole contains the eccentricity of the micelle for the selected timesteps"
   ]
  }
 ],
 "metadata": {
  "kernelspec": {
   "display_name": "Python 3 (ipykernel)",
   "language": "python",
   "name": "python3"
  },
  "language_info": {
   "codemirror_mode": {
    "name": "ipython",
    "version": 3
   },
   "file_extension": ".py",
   "mimetype": "text/x-python",
   "name": "python",
   "nbconvert_exporter": "python",
   "pygments_lexer": "ipython3",
   "version": "3.10.12"
  }
 },
 "nbformat": 4,
 "nbformat_minor": 5
}

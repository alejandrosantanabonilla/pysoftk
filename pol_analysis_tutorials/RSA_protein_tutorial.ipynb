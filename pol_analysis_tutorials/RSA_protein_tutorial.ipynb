{
 "cells": [
  {
   "cell_type": "markdown",
   "id": "264ef590",
   "metadata": {},
   "source": [
    "# Tutorial on the usage of RSA tool"
   ]
  },
  {
   "cell_type": "markdown",
   "id": "d8aa2cf7",
   "metadata": {},
   "source": [
    "This tutorial illsutrates how to use the RSA tool on proteins. This tutorial is divided into two parts. The first part shows how to edit a protein structure file so that the RSA tool can be ran. The second part is the running of the RSA tool."
   ]
  },
  {
   "cell_type": "markdown",
   "id": "13f786b7",
   "metadata": {},
   "source": [
    "Before starting any analysis, load the neccesary modules for this class."
   ]
  },
  {
   "cell_type": "code",
   "execution_count": 1,
   "id": "9d188003",
   "metadata": {},
   "outputs": [
    {
     "name": "stderr",
     "output_type": "stream",
     "text": [
      "/home/raquellrdc/.local/lib/python3.10/site-packages/tqdm/auto.py:21: TqdmWarning: IProgress not found. Please update jupyter and ipywidgets. See https://ipywidgets.readthedocs.io/en/stable/user_install.html\n",
      "  from .autonotebook import tqdm as notebook_tqdm\n"
     ]
    }
   ],
   "source": [
    "\n",
    "from pysoftk.pol_analysis.tools.utils_mda import MDA_input\n",
    "from pysoftk.pol_analysis.tools.utils_tools import *\n",
    "from pysoftk.pol_analysis.make_micelle_whole import micelle_whole\n",
    "from pysoftk.pol_analysis.ring_ring import RSA\n",
    "\n",
    "import numpy as np\n",
    "import pandas as pd\n",
    "import MDAnalysis as mda"
   ]
  },
  {
   "cell_type": "markdown",
   "id": "8030d73b-9efb-4daf-b8d4-5fe6e17c2661",
   "metadata": {},
   "source": [
    "## 1. Editing the protein structure file"
   ]
  },
  {
   "cell_type": "markdown",
   "id": "b42124ae-4399-4b14-9665-be9e9ed417b6",
   "metadata": {},
   "source": [
    "Load the initial trajectory"
   ]
  },
  {
   "cell_type": "code",
   "execution_count": 2,
   "id": "81f8e9e7-112f-481c-9ca5-d35e6dbbe3c6",
   "metadata": {},
   "outputs": [],
   "source": [
    "topology='data/protein_rsa_noedit.pdb'\n",
    "\n",
    "trajectory='data/trajectory_rsa_protein.xtc'\n",
    "\n",
    "u=mda.Universe(topology, trajectory)"
   ]
  },
  {
   "cell_type": "code",
   "execution_count": 3,
   "id": "c813c13c-c286-4dcd-8be6-06c39fcda5b6",
   "metadata": {},
   "outputs": [
    {
     "data": {
      "text/plain": [
       "150000.0"
      ]
     },
     "execution_count": 3,
     "metadata": {},
     "output_type": "execute_result"
    }
   ],
   "source": [
    "u.trajectory[0].time"
   ]
  },
  {
   "cell_type": "markdown",
   "id": "fa6dc7af-d955-42f2-a07f-e694ce1d7b98",
   "metadata": {},
   "source": [
    "Now, we need to make sure that each protein can be identified by a unique resid. That is to say, all atoms of the same protein must have the same resid, and this resid must be different to the resid of other proteins in the system. The following code shows how this can be achieved:"
   ]
  },
  {
   "cell_type": "code",
   "execution_count": 3,
   "id": "596bf067-655d-430d-9c21-effbe052b862",
   "metadata": {},
   "outputs": [
    {
     "name": "stdout",
     "output_type": "stream",
     "text": [
      "31\n",
      "310\n",
      "3270\n"
     ]
    }
   ],
   "source": [
    "proteins_len=len(u.atoms)\n",
    "protein_pos=u.atoms.positions\n",
    "proteins=u.select_atoms('protein')\n",
    "\n",
    "proteins.positions=protein_pos\n",
    "\n",
    "\n",
    "#this is a manual way to select the proteins of a system, you need to adapt this code to your own system \n",
    "protein_1=u.select_atoms('segid A')\n",
    "protein_2=u.select_atoms('segid B')\n",
    "protein_3=u.select_atoms('segid C')\n",
    "protein_4=u.select_atoms('segid D')\n",
    "protein_5=u.select_atoms('segid E')\n",
    "protein_6=u.select_atoms('segid F')\n",
    "protein_7=u.select_atoms('segid G')\n",
    "protein_8=u.select_atoms('segid H')\n",
    "protein_9=u.select_atoms('segid I')\n",
    "protein_10=u.select_atoms('segid J')\n",
    "\n",
    "\n",
    "protein_1_len=len(np.unique(protein_1.resids))\n",
    "protein_2_len=len(np.unique(protein_2.resids))\n",
    "protein_3_len=len(np.unique(protein_3.resids))\n",
    "protein_4_len=len(np.unique(protein_4.resids))\n",
    "protein_5_len=len(np.unique(protein_5.resids))\n",
    "protein_6_len=len(np.unique(protein_6.resids))\n",
    "protein_7_len=len(np.unique(protein_7.resids))\n",
    "protein_8_len=len(np.unique(protein_8.resids))\n",
    "protein_9_len=len(np.unique(protein_9.resids))\n",
    "protein_10_len=len(np.unique(protein_10.resids))\n",
    "\n",
    "print(protein_1_len)\n",
    "\n",
    "\n",
    "\n",
    "\n",
    "resids=[]\n",
    "\n",
    "\n",
    "resids= resids + [1]*protein_1_len\n",
    "resids= resids + [2]*protein_2_len\n",
    "resids= resids + [3]*protein_3_len\n",
    "\n",
    "resids= resids + [4]*protein_4_len\n",
    "resids= resids + [5]*protein_5_len\n",
    "resids= resids + [6]*protein_6_len\n",
    "\n",
    "resids= resids + [7]*protein_7_len\n",
    "resids= resids + [8]*protein_8_len\n",
    "resids= resids + [9]*protein_9_len\n",
    "\n",
    "resids= resids + [10]*protein_10_len\n",
    "\n",
    "\n",
    "\n",
    "print(len(resids))\n",
    "print(len(proteins))\n",
    "\n",
    "proteins.residues.resids=resids\n",
    "\n",
    "with mda.Writer(\"data/trajectory_resids.pdb\", proteins.n_atoms) as W:\n",
    "    \n",
    "    W.write(proteins)"
   ]
  },
  {
   "cell_type": "markdown",
   "id": "9564b41d-5785-487a-9fa7-30ef3b504081",
   "metadata": {},
   "source": [
    "Great, now the new structure file has been created, so that each protein has a unique resid for all of its atoms. Now we can run the RSA tool on this new file."
   ]
  },
  {
   "cell_type": "markdown",
   "id": "ff79add7-ce39-4ec9-972a-fdd424f04c0e",
   "metadata": {},
   "source": [
    "## 2.Running RSA "
   ]
  },
  {
   "cell_type": "markdown",
   "id": "02d44750-af2e-4bd6-b975-784e15a5340a",
   "metadata": {},
   "source": [
    "With the new structure file, we can run the RSA tool in the exact same way we run it on polymers"
   ]
  },
  {
   "cell_type": "code",
   "execution_count": 4,
   "id": "6d764a45",
   "metadata": {},
   "outputs": [],
   "source": [
    "\n",
    "topology='data/trajectory_resids.pdb'\n",
    "\n",
    "trajectory='data/trajectory_rsa_protein.xtc'"
   ]
  },
  {
   "cell_type": "code",
   "execution_count": 5,
   "id": "9cad5766",
   "metadata": {},
   "outputs": [],
   "source": [
    "#name output file\n",
    "results='data/rsa_prot_tutorial.parquet'\n",
    "\n",
    "#angle cutoff - angle range (val < ang_c or val> 180-ang_c). \n",
    "ang_c=30\n",
    "\n",
    "\n",
    "#distance cutoff - distance between two rings to be considered stacked\n",
    "dist_c=5\n",
    "\n"
   ]
  },
  {
   "cell_type": "code",
   "execution_count": 6,
   "id": "e17a24e2",
   "metadata": {},
   "outputs": [
    {
     "name": "stdout",
     "output_type": "stream",
     "text": [
      "Ring Stacking analysis has started\n"
     ]
    },
    {
     "name": "stderr",
     "output_type": "stream",
     "text": [
      "100%|████████████████████████████████████████████████████████████████████████████████████████████████████████████████████████████████████████████████████████████████████████████| 45/45 [00:00<00:00, 548.29it/s]\n",
      "Detecting atoms in Rings: 100%|███████████████████████████████████████████████████████████████████████████████████████████████████████████████████████████████████████████████████| 26/26 [00:24<00:00,  1.08it/s]\n",
      "Separating Rings: 100%|████████████████████████████████████████████████████████████████████████████████████████████████████████████████████████████████████████████████████████| 26/26 [00:00<00:00, 11647.11it/s]\n"
     ]
    },
    {
     "name": "stdout",
     "output_type": "stream",
     "text": [
      "\n",
      "\n",
      "Preparing DataFrame to store the results\n"
     ]
    },
    {
     "name": "stderr",
     "output_type": "stream",
     "text": [
      "  0%|                                                                                                                                                                                      | 0/10 [00:00<?, ?it/s]\n",
      "Computing stacking distances:   0%|                                                                                                                                                        | 0/26 [00:00<?, ?it/s]\u001b[A\n",
      "Computing stacking distances:   4%|█████▌                                                                                                                                          | 1/26 [00:00<00:08,  2.91it/s]\u001b[A\n",
      "Computing stacking distances:  12%|████████████████▌                                                                                                                               | 3/26 [00:00<00:04,  5.06it/s]\u001b[A\n",
      "Computing stacking distances:  15%|██████████████████████▏                                                                                                                         | 4/26 [00:00<00:04,  4.55it/s]\u001b[A\n",
      "Computing stacking distances:  23%|█████████████████████████████████▏                                                                                                              | 6/26 [00:01<00:04,  4.97it/s]\u001b[A\n",
      "Computing stacking distances:  27%|██████████████████████████████████████▊                                                                                                         | 7/26 [00:01<00:04,  3.85it/s]\u001b[A\n",
      "Computing stacking distances:  31%|████████████████████████████████████████████▎                                                                                                   | 8/26 [00:02<00:05,  3.51it/s]\u001b[A\n",
      "Computing stacking distances:  35%|█████████████████████████████████████████████████▊                                                                                              | 9/26 [00:02<00:05,  3.00it/s]\u001b[A\n",
      "Computing stacking distances:  38%|███████████████████████████████████████████████████████                                                                                        | 10/26 [00:02<00:05,  2.81it/s]\u001b[A\n",
      "Computing stacking distances:  46%|██████████████████████████████████████████████████████████████████                                                                             | 12/26 [00:03<00:04,  3.30it/s]\u001b[A\n",
      "Computing stacking distances:  50%|███████████████████████████████████████████████████████████████████████▌                                                                       | 13/26 [00:03<00:04,  2.99it/s]\u001b[A\n",
      "Computing stacking distances:  54%|█████████████████████████████████████████████████████████████████████████████                                                                  | 14/26 [00:04<00:04,  2.77it/s]\u001b[A\n",
      "Computing stacking distances:  58%|██████████████████████████████████████████████████████████████████████████████████▍                                                            | 15/26 [00:04<00:03,  2.79it/s]\u001b[A\n",
      "Computing stacking distances:  62%|████████████████████████████████████████████████████████████████████████████████████████                                                       | 16/26 [00:05<00:03,  2.59it/s]\u001b[A\n",
      "Computing stacking distances:  65%|█████████████████████████████████████████████████████████████████████████████████████████████▌                                                 | 17/26 [00:05<00:03,  2.58it/s]\u001b[A\n",
      "Computing stacking distances:  69%|███████████████████████████████████████████████████████████████████████████████████████████████████                                            | 18/26 [00:05<00:03,  2.55it/s]\u001b[A\n",
      "Computing stacking distances:  73%|████████████████████████████████████████████████████████████████████████████████████████████████████████▌                                      | 19/26 [00:06<00:02,  3.14it/s]\u001b[A\n",
      "Computing stacking distances:  77%|██████████████████████████████████████████████████████████████████████████████████████████████████████████████                                 | 20/26 [00:06<00:01,  3.41it/s]\u001b[A\n",
      "Computing stacking distances:  81%|███████████████████████████████████████████████████████████████████████████████████████████████████████████████████▌                           | 21/26 [00:06<00:01,  2.89it/s]\u001b[A\n",
      "Computing stacking distances:  85%|█████████████████████████████████████████████████████████████████████████████████████████████████████████████████████████                      | 22/26 [00:07<00:01,  3.00it/s]\u001b[A\n",
      "Computing stacking distances:  88%|██████████████████████████████████████████████████████████████████████████████████████████████████████████████████████████████▌                | 23/26 [00:07<00:01,  2.76it/s]\u001b[A\n",
      "Computing stacking distances:  92%|████████████████████████████████████████████████████████████████████████████████████████████████████████████████████████████████████           | 24/26 [00:07<00:00,  2.79it/s]\u001b[A\n",
      "Computing stacking distances:  96%|█████████████████████████████████████████████████████████████████████████████████████████████████████████████████████████████████████████▌     | 25/26 [00:08<00:00,  2.63it/s]\u001b[A\n",
      "Computing stacking distances: 100%|███████████████████████████████████████████████████████████████████████████████████████████████████████████████████████████████████████████████| 26/26 [00:08<00:00,  3.02it/s]\u001b[A\n",
      " 10%|█████████████████▍                                                                                                                                                            | 1/10 [00:08<01:17,  8.61s/it]"
     ]
    },
    {
     "name": "stdout",
     "output_type": "stream",
     "text": [
      "([(array([740, 741, 744, 746, 749]), array([1171, 1172, 1174, 1176, 1179, 1181]))], [(array([2173, 2174, 2177, 2179, 2182]), array([2411, 2413, 2403, 2404, 2406, 2408]))], [(array([2482, 2484, 2487, 2489, 2479, 2480]), array([2833, 2836, 2827, 2828, 2831])), (array([2500, 2501, 2504, 2506, 2509]), array([2706, 2708, 2711, 2702, 2703]))])\n"
     ]
    },
    {
     "name": "stderr",
     "output_type": "stream",
     "text": [
      "\n",
      "Computing stacking distances:   0%|                                                                                                                                                        | 0/26 [00:00<?, ?it/s]\u001b[A\n",
      "Computing stacking distances:   4%|█████▌                                                                                                                                          | 1/26 [00:00<00:04,  5.93it/s]\u001b[A\n",
      "Computing stacking distances:   8%|███████████                                                                                                                                     | 2/26 [00:00<00:05,  4.11it/s]\u001b[A\n",
      "Computing stacking distances:  12%|████████████████▌                                                                                                                               | 3/26 [00:00<00:07,  2.93it/s]\u001b[A\n",
      "Computing stacking distances:  15%|██████████████████████▏                                                                                                                         | 4/26 [00:01<00:08,  2.58it/s]\u001b[A\n",
      "Computing stacking distances:  19%|███████████████████████████▋                                                                                                                    | 5/26 [00:01<00:05,  3.50it/s]\u001b[A\n",
      "Computing stacking distances:  23%|█████████████████████████████████▏                                                                                                              | 6/26 [00:01<00:05,  3.60it/s]\u001b[A\n",
      "Computing stacking distances:  31%|████████████████████████████████████████████▎                                                                                                   | 8/26 [00:01<00:03,  5.68it/s]\u001b[A\n",
      "Computing stacking distances:  35%|█████████████████████████████████████████████████▊                                                                                              | 9/26 [00:02<00:04,  4.23it/s]\u001b[A\n",
      "Computing stacking distances:  38%|███████████████████████████████████████████████████████                                                                                        | 10/26 [00:02<00:03,  4.99it/s]\u001b[A\n",
      "Computing stacking distances:  42%|████████████████████████████████████████████████████████████▌                                                                                  | 11/26 [00:02<00:03,  4.51it/s]\u001b[A\n",
      "Computing stacking distances:  46%|██████████████████████████████████████████████████████████████████                                                                             | 12/26 [00:03<00:04,  3.45it/s]\u001b[A\n",
      "Computing stacking distances:  50%|███████████████████████████████████████████████████████████████████████▌                                                                       | 13/26 [00:03<00:03,  4.07it/s]\u001b[A\n",
      "Computing stacking distances:  54%|█████████████████████████████████████████████████████████████████████████████                                                                  | 14/26 [00:03<00:03,  3.34it/s]\u001b[A\n",
      "Computing stacking distances:  58%|██████████████████████████████████████████████████████████████████████████████████▍                                                            | 15/26 [00:04<00:03,  3.03it/s]\u001b[A\n",
      "Computing stacking distances:  62%|████████████████████████████████████████████████████████████████████████████████████████                                                       | 16/26 [00:04<00:03,  2.84it/s]\u001b[A\n",
      "Computing stacking distances:  65%|█████████████████████████████████████████████████████████████████████████████████████████████▌                                                 | 17/26 [00:04<00:03,  2.64it/s]\u001b[A\n",
      "Computing stacking distances:  69%|███████████████████████████████████████████████████████████████████████████████████████████████████                                            | 18/26 [00:05<00:03,  2.52it/s]\u001b[A\n",
      "Computing stacking distances:  73%|████████████████████████████████████████████████████████████████████████████████████████████████████████▌                                      | 19/26 [00:05<00:02,  2.45it/s]\u001b[A\n",
      "Computing stacking distances:  77%|██████████████████████████████████████████████████████████████████████████████████████████████████████████████                                 | 20/26 [00:06<00:02,  2.91it/s]\u001b[A\n",
      "Computing stacking distances:  81%|███████████████████████████████████████████████████████████████████████████████████████████████████████████████████▌                           | 21/26 [00:06<00:01,  2.81it/s]\u001b[A\n",
      "Computing stacking distances:  85%|█████████████████████████████████████████████████████████████████████████████████████████████████████████████████████████                      | 22/26 [00:06<00:01,  3.50it/s]\u001b[A\n",
      "Computing stacking distances:  88%|██████████████████████████████████████████████████████████████████████████████████████████████████████████████████████████████▌                | 23/26 [00:06<00:00,  3.51it/s]\u001b[A\n",
      "Computing stacking distances:  92%|████████████████████████████████████████████████████████████████████████████████████████████████████████████████████████████████████           | 24/26 [00:07<00:00,  2.93it/s]\u001b[A\n",
      "Computing stacking distances:  96%|█████████████████████████████████████████████████████████████████████████████████████████████████████████████████████████████████████████▌     | 25/26 [00:07<00:00,  2.64it/s]\u001b[A\n",
      "Computing stacking distances: 100%|███████████████████████████████████████████████████████████████████████████████████████████████████████████████████████████████████████████████| 26/26 [00:08<00:00,  3.21it/s]\u001b[A\n",
      " 20%|██████████████████████████████████▊                                                                                                                                           | 2/10 [00:16<01:06,  8.31s/it]"
     ]
    },
    {
     "name": "stdout",
     "output_type": "stream",
     "text": [
      "([(array([86, 87, 90, 92, 95]), array([544, 547, 538, 539, 542]))], [(array([193, 195, 198, 200, 190, 191]), array([871, 874, 865, 866, 869]))], [(array([211, 212, 215, 217, 220]), array([1171, 1172, 1174, 1176, 1179, 1181]))], [(array([740, 741, 744, 746, 749]), array([1171, 1172, 1174, 1176, 1179, 1181]))], [(array([1192, 1193, 1196, 1198, 1201]), array([1852, 1855, 1846, 1847, 1850]))], [(array([1749, 1750, 1752, 1754, 1757, 1759]), array([3133, 3134, 3136, 3138, 3141, 3143]))], [(array([2482, 2484, 2487, 2489, 2479, 2480]), array([2833, 2836, 2827, 2828, 2831]))], [(array([2809, 2811, 2814, 2816, 2806, 2807]), array([3065, 3067, 3057, 3058, 3060, 3062]))])\n"
     ]
    },
    {
     "name": "stderr",
     "output_type": "stream",
     "text": [
      "\n",
      "Computing stacking distances:   0%|                                                                                                                                                        | 0/26 [00:00<?, ?it/s]\u001b[A\n",
      "Computing stacking distances:   4%|█████▌                                                                                                                                          | 1/26 [00:00<00:11,  2.24it/s]\u001b[A\n",
      "Computing stacking distances:  12%|████████████████▌                                                                                                                               | 3/26 [00:00<00:04,  4.79it/s]\u001b[A\n",
      "Computing stacking distances:  15%|██████████████████████▏                                                                                                                         | 4/26 [00:01<00:06,  3.60it/s]\u001b[A\n",
      "Computing stacking distances:  19%|███████████████████████████▋                                                                                                                    | 5/26 [00:01<00:06,  3.01it/s]\u001b[A\n",
      "Computing stacking distances:  23%|█████████████████████████████████▏                                                                                                              | 6/26 [00:01<00:05,  3.63it/s]\u001b[A\n",
      "Computing stacking distances:  27%|██████████████████████████████████████▊                                                                                                         | 7/26 [00:02<00:06,  3.02it/s]\u001b[A\n",
      "Computing stacking distances:  31%|████████████████████████████████████████████▎                                                                                                   | 8/26 [00:02<00:06,  2.77it/s]\u001b[A\n",
      "Computing stacking distances:  35%|█████████████████████████████████████████████████▊                                                                                              | 9/26 [00:02<00:04,  3.47it/s]\u001b[A\n",
      "Computing stacking distances:  38%|███████████████████████████████████████████████████████                                                                                        | 10/26 [00:02<00:04,  3.70it/s]\u001b[A\n",
      "Computing stacking distances:  42%|████████████████████████████████████████████████████████████▌                                                                                  | 11/26 [00:03<00:04,  3.02it/s]\u001b[A\n",
      "Computing stacking distances:  46%|██████████████████████████████████████████████████████████████████                                                                             | 12/26 [00:03<00:04,  3.08it/s]\u001b[A\n",
      "Computing stacking distances:  50%|███████████████████████████████████████████████████████████████████████▌                                                                       | 13/26 [00:04<00:04,  2.77it/s]\u001b[A\n",
      "Computing stacking distances:  54%|█████████████████████████████████████████████████████████████████████████████                                                                  | 14/26 [00:04<00:04,  2.47it/s]\u001b[A\n",
      "Computing stacking distances:  62%|████████████████████████████████████████████████████████████████████████████████████████                                                       | 16/26 [00:05<00:03,  2.87it/s]\u001b[A\n",
      "Computing stacking distances:  65%|█████████████████████████████████████████████████████████████████████████████████████████████▌                                                 | 17/26 [00:05<00:03,  2.65it/s]\u001b[A\n",
      "Computing stacking distances:  69%|███████████████████████████████████████████████████████████████████████████████████████████████████                                            | 18/26 [00:06<00:03,  2.41it/s]\u001b[A\n",
      "Computing stacking distances:  73%|████████████████████████████████████████████████████████████████████████████████████████████████████████▌                                      | 19/26 [00:06<00:02,  2.35it/s]\u001b[A\n",
      "Computing stacking distances:  77%|██████████████████████████████████████████████████████████████████████████████████████████████████████████████                                 | 20/26 [00:06<00:02,  2.87it/s]\u001b[A\n",
      "Computing stacking distances:  81%|███████████████████████████████████████████████████████████████████████████████████████████████████████████████████▌                           | 21/26 [00:07<00:01,  3.09it/s]\u001b[A\n",
      "Computing stacking distances:  85%|█████████████████████████████████████████████████████████████████████████████████████████████████████████████████████████                      | 22/26 [00:07<00:01,  3.04it/s]\u001b[A\n",
      "Computing stacking distances:  88%|██████████████████████████████████████████████████████████████████████████████████████████████████████████████████████████████▌                | 23/26 [00:07<00:01,  2.81it/s]\u001b[A\n",
      "Computing stacking distances:  92%|████████████████████████████████████████████████████████████████████████████████████████████████████████████████████████████████████           | 24/26 [00:08<00:00,  2.80it/s]\u001b[A\n",
      "Computing stacking distances:  96%|█████████████████████████████████████████████████████████████████████████████████████████████████████████████████████████████████████████▌     | 25/26 [00:08<00:00,  2.57it/s]\u001b[A\n",
      "Computing stacking distances: 100%|███████████████████████████████████████████████████████████████████████████████████████████████████████████████████████████████████████████████| 26/26 [00:09<00:00,  2.86it/s]\u001b[A\n",
      " 30%|████████████████████████████████████████████████████▏                                                                                                                         | 3/10 [00:25<01:00,  8.67s/it]"
     ]
    },
    {
     "name": "stdout",
     "output_type": "stream",
     "text": [
      "([(array([86, 87, 90, 92, 95]), array([544, 547, 538, 539, 542]))], [(array([740, 741, 744, 746, 749]), array([1171, 1172, 1174, 1176, 1179, 1181]))], [(array([847, 849, 852, 854, 844, 845]), array([1498, 1499, 1501, 1503, 1506, 1508]))], [(array([1067, 1068, 1071, 1073, 1076]), array([1852, 1855, 1846, 1847, 1850]))], [(array([2173, 2174, 2177, 2179, 2182]), array([2411, 2413, 2403, 2404, 2406, 2408]))], [(array([2482, 2484, 2487, 2489, 2479, 2480]), array([2833, 2836, 2827, 2828, 2831])), (array([2500, 2501, 2504, 2506, 2509]), array([2706, 2708, 2711, 2702, 2703]))])\n"
     ]
    },
    {
     "name": "stderr",
     "output_type": "stream",
     "text": [
      "\n",
      "Computing stacking distances:   0%|                                                                                                                                                        | 0/26 [00:00<?, ?it/s]\u001b[A\n",
      "Computing stacking distances:   4%|█████▌                                                                                                                                          | 1/26 [00:00<00:10,  2.46it/s]\u001b[A\n",
      "Computing stacking distances:  12%|████████████████▌                                                                                                                               | 3/26 [00:00<00:05,  3.86it/s]\u001b[A\n",
      "Computing stacking distances:  15%|██████████████████████▏                                                                                                                         | 4/26 [00:01<00:06,  3.27it/s]\u001b[A\n",
      "Computing stacking distances:  19%|███████████████████████████▋                                                                                                                    | 5/26 [00:01<00:06,  3.49it/s]\u001b[A\n",
      "Computing stacking distances:  23%|█████████████████████████████████▏                                                                                                              | 6/26 [00:01<00:05,  3.50it/s]\u001b[A\n",
      "Computing stacking distances:  27%|██████████████████████████████████████▊                                                                                                         | 7/26 [00:02<00:06,  3.15it/s]\u001b[A\n",
      "Computing stacking distances:  31%|████████████████████████████████████████████▎                                                                                                   | 8/26 [00:02<00:05,  3.07it/s]\u001b[A\n",
      "Computing stacking distances:  35%|█████████████████████████████████████████████████▊                                                                                              | 9/26 [00:02<00:05,  3.14it/s]\u001b[A\n",
      "Computing stacking distances:  38%|███████████████████████████████████████████████████████                                                                                        | 10/26 [00:03<00:05,  2.90it/s]\u001b[A\n",
      "Computing stacking distances:  42%|████████████████████████████████████████████████████████████▌                                                                                  | 11/26 [00:03<00:05,  2.95it/s]\u001b[A\n",
      "Computing stacking distances:  46%|██████████████████████████████████████████████████████████████████                                                                             | 12/26 [00:03<00:05,  2.70it/s]\u001b[A\n",
      "Computing stacking distances:  50%|███████████████████████████████████████████████████████████████████████▌                                                                       | 13/26 [00:04<00:04,  2.71it/s]\u001b[A\n",
      "Computing stacking distances:  54%|█████████████████████████████████████████████████████████████████████████████                                                                  | 14/26 [00:04<00:04,  2.70it/s]\u001b[A\n",
      "Computing stacking distances:  58%|██████████████████████████████████████████████████████████████████████████████████▍                                                            | 15/26 [00:05<00:04,  2.56it/s]\u001b[A\n",
      "Computing stacking distances:  62%|████████████████████████████████████████████████████████████████████████████████████████                                                       | 16/26 [00:05<00:04,  2.39it/s]\u001b[A\n",
      "Computing stacking distances:  65%|█████████████████████████████████████████████████████████████████████████████████████████████▌                                                 | 17/26 [00:06<00:03,  2.32it/s]\u001b[A\n",
      "Computing stacking distances:  69%|███████████████████████████████████████████████████████████████████████████████████████████████████                                            | 18/26 [00:06<00:03,  2.48it/s]\u001b[A\n",
      "Computing stacking distances:  73%|████████████████████████████████████████████████████████████████████████████████████████████████████████▌                                      | 19/26 [00:06<00:02,  2.39it/s]\u001b[A\n",
      "Computing stacking distances:  77%|██████████████████████████████████████████████████████████████████████████████████████████████████████████████                                 | 20/26 [00:07<00:02,  2.36it/s]\u001b[A\n",
      "Computing stacking distances:  81%|███████████████████████████████████████████████████████████████████████████████████████████████████████████████████▌                           | 21/26 [00:07<00:01,  2.85it/s]\u001b[A\n",
      "Computing stacking distances:  85%|█████████████████████████████████████████████████████████████████████████████████████████████████████████████████████████                      | 22/26 [00:07<00:01,  3.41it/s]\u001b[A\n",
      "Computing stacking distances:  88%|██████████████████████████████████████████████████████████████████████████████████████████████████████████████████████████████▌                | 23/26 [00:08<00:01,  2.96it/s]\u001b[A\n",
      "Computing stacking distances:  92%|████████████████████████████████████████████████████████████████████████████████████████████████████████████████████████████████████           | 24/26 [00:08<00:00,  2.83it/s]\u001b[A\n",
      "Computing stacking distances:  96%|█████████████████████████████████████████████████████████████████████████████████████████████████████████████████████████████████████████▌     | 25/26 [00:08<00:00,  2.89it/s]\u001b[A\n",
      "Computing stacking distances: 100%|███████████████████████████████████████████████████████████████████████████████████████████████████████████████████████████████████████████████| 26/26 [00:09<00:00,  2.82it/s]\u001b[A\n",
      " 40%|█████████████████████████████████████████████████████████████████████▌                                                                                                        | 4/10 [00:35<00:53,  8.89s/it]"
     ]
    },
    {
     "name": "stdout",
     "output_type": "stream",
     "text": [
      "([(array([86, 87, 90, 92, 95]), array([544, 547, 538, 539, 542]))], [(array([740, 741, 744, 746, 749]), array([1171, 1172, 1174, 1176, 1179, 1181]))], [(array([1192, 1193, 1196, 1198, 1201]), array([1852, 1855, 1846, 1847, 1850]))], [(array([1192, 1193, 1196, 1198, 1201]), array([3160, 3163, 3154, 3155, 3158]))], [(array([2173, 2174, 2177, 2179, 2182]), array([2411, 2413, 2403, 2404, 2406, 2408]))])\n"
     ]
    },
    {
     "name": "stderr",
     "output_type": "stream",
     "text": [
      "\n",
      "Computing stacking distances:   0%|                                                                                                                                                        | 0/26 [00:00<?, ?it/s]\u001b[A\n",
      "Computing stacking distances:   4%|█████▌                                                                                                                                          | 1/26 [00:00<00:11,  2.15it/s]\u001b[A\n",
      "Computing stacking distances:   8%|███████████                                                                                                                                     | 2/26 [00:00<00:10,  2.23it/s]\u001b[A\n",
      "Computing stacking distances:  12%|████████████████▌                                                                                                                               | 3/26 [00:01<00:09,  2.48it/s]\u001b[A\n",
      "Computing stacking distances:  15%|██████████████████████▏                                                                                                                         | 4/26 [00:01<00:07,  2.75it/s]\u001b[A\n",
      "Computing stacking distances:  19%|███████████████████████████▋                                                                                                                    | 5/26 [00:02<00:08,  2.50it/s]\u001b[A\n",
      "Computing stacking distances:  23%|█████████████████████████████████▏                                                                                                              | 6/26 [00:02<00:08,  2.49it/s]\u001b[A\n",
      "Computing stacking distances:  27%|██████████████████████████████████████▊                                                                                                         | 7/26 [00:02<00:07,  2.43it/s]\u001b[A\n",
      "Computing stacking distances:  31%|████████████████████████████████████████████▎                                                                                                   | 8/26 [00:03<00:06,  2.63it/s]\u001b[A\n",
      "Computing stacking distances:  35%|█████████████████████████████████████████████████▊                                                                                              | 9/26 [00:03<00:05,  3.39it/s]\u001b[A\n",
      "Computing stacking distances:  38%|███████████████████████████████████████████████████████                                                                                        | 10/26 [00:03<00:05,  2.85it/s]\u001b[A\n",
      "Computing stacking distances:  42%|████████████████████████████████████████████████████████████▌                                                                                  | 11/26 [00:04<00:05,  2.99it/s]\u001b[A\n",
      "Computing stacking distances:  46%|██████████████████████████████████████████████████████████████████                                                                             | 12/26 [00:04<00:04,  3.30it/s]\u001b[A\n",
      "Computing stacking distances:  50%|███████████████████████████████████████████████████████████████████████▌                                                                       | 13/26 [00:04<00:04,  2.91it/s]\u001b[A\n",
      "Computing stacking distances:  54%|█████████████████████████████████████████████████████████████████████████████                                                                  | 14/26 [00:05<00:04,  2.68it/s]\u001b[A\n",
      "Computing stacking distances:  62%|████████████████████████████████████████████████████████████████████████████████████████                                                       | 16/26 [00:05<00:02,  4.37it/s]\u001b[A\n",
      "Computing stacking distances:  65%|█████████████████████████████████████████████████████████████████████████████████████████████▌                                                 | 17/26 [00:05<00:02,  3.97it/s]\u001b[A\n",
      "Computing stacking distances:  73%|████████████████████████████████████████████████████████████████████████████████████████████████████████▌                                      | 19/26 [00:05<00:01,  4.52it/s]\u001b[A\n",
      "Computing stacking distances:  77%|██████████████████████████████████████████████████████████████████████████████████████████████████████████████                                 | 20/26 [00:06<00:01,  4.23it/s]\u001b[A\n",
      "Computing stacking distances:  81%|███████████████████████████████████████████████████████████████████████████████████████████████████████████████████▌                           | 21/26 [00:06<00:01,  3.60it/s]\u001b[A\n",
      "Computing stacking distances:  85%|█████████████████████████████████████████████████████████████████████████████████████████████████████████████████████████                      | 22/26 [00:07<00:01,  3.11it/s]\u001b[A\n",
      "Computing stacking distances:  88%|██████████████████████████████████████████████████████████████████████████████████████████████████████████████████████████████▌                | 23/26 [00:07<00:00,  3.46it/s]\u001b[A\n",
      "Computing stacking distances:  92%|████████████████████████████████████████████████████████████████████████████████████████████████████████████████████████████████████           | 24/26 [00:07<00:00,  2.93it/s]\u001b[A\n",
      "Computing stacking distances:  96%|█████████████████████████████████████████████████████████████████████████████████████████████████████████████████████████████████████████▌     | 25/26 [00:08<00:00,  2.73it/s]\u001b[A\n",
      "Computing stacking distances: 100%|███████████████████████████████████████████████████████████████████████████████████████████████████████████████████████████████████████████████| 26/26 [00:08<00:00,  3.13it/s]\u001b[A\n",
      " 50%|███████████████████████████████████████████████████████████████████████████████████████                                                                                       | 5/10 [00:43<00:43,  8.68s/it]"
     ]
    },
    {
     "name": "stdout",
     "output_type": "stream",
     "text": [
      "([(array([86, 87, 90, 92, 95]), array([544, 547, 538, 539, 542]))], [(array([193, 195, 198, 200, 190, 191]), array([871, 874, 865, 866, 869]))], [(array([740, 741, 744, 746, 749]), array([1171, 1172, 1174, 1176, 1179, 1181]))], [(array([847, 849, 852, 854, 844, 845]), array([1498, 1499, 1501, 1503, 1506, 1508]))], [(array([1067, 1068, 1071, 1073, 1076]), array([1852, 1855, 1846, 1847, 1850])), (array([1192, 1193, 1196, 1198, 1201]), array([1725, 1727, 1730, 1721, 1722]))], [(array([2173, 2174, 2177, 2179, 2182]), array([2411, 2413, 2403, 2404, 2406, 2408]))], [(array([2482, 2484, 2487, 2489, 2479, 2480]), array([2833, 2836, 2827, 2828, 2831]))])\n"
     ]
    },
    {
     "name": "stderr",
     "output_type": "stream",
     "text": [
      "\n",
      "Computing stacking distances:   0%|                                                                                                                                                        | 0/26 [00:00<?, ?it/s]\u001b[A\n",
      "Computing stacking distances:   4%|█████▌                                                                                                                                          | 1/26 [00:00<00:11,  2.16it/s]\u001b[A\n",
      "Computing stacking distances:   8%|███████████                                                                                                                                     | 2/26 [00:00<00:09,  2.54it/s]\u001b[A\n",
      "Computing stacking distances:  12%|████████████████▌                                                                                                                               | 3/26 [00:01<00:09,  2.34it/s]\u001b[A\n",
      "Computing stacking distances:  15%|██████████████████████▏                                                                                                                         | 4/26 [00:01<00:08,  2.69it/s]\u001b[A\n",
      "Computing stacking distances:  19%|███████████████████████████▋                                                                                                                    | 5/26 [00:01<00:07,  2.94it/s]\u001b[A\n",
      "Computing stacking distances:  27%|██████████████████████████████████████▊                                                                                                         | 7/26 [00:02<00:04,  4.73it/s]\u001b[A\n",
      "Computing stacking distances:  31%|████████████████████████████████████████████▎                                                                                                   | 8/26 [00:02<00:04,  3.75it/s]\u001b[A\n",
      "Computing stacking distances:  35%|█████████████████████████████████████████████████▊                                                                                              | 9/26 [00:02<00:03,  4.44it/s]\u001b[A\n",
      "Computing stacking distances:  38%|███████████████████████████████████████████████████████                                                                                        | 10/26 [00:02<00:04,  3.62it/s]\u001b[A\n",
      "Computing stacking distances:  46%|██████████████████████████████████████████████████████████████████                                                                             | 12/26 [00:03<00:02,  5.47it/s]\u001b[A\n",
      "Computing stacking distances:  50%|███████████████████████████████████████████████████████████████████████▌                                                                       | 13/26 [00:03<00:02,  4.65it/s]\u001b[A\n",
      "Computing stacking distances:  54%|█████████████████████████████████████████████████████████████████████████████                                                                  | 14/26 [00:03<00:03,  3.60it/s]\u001b[A\n",
      "Computing stacking distances:  58%|██████████████████████████████████████████████████████████████████████████████████▍                                                            | 15/26 [00:04<00:03,  3.28it/s]\u001b[A\n",
      "Computing stacking distances:  62%|████████████████████████████████████████████████████████████████████████████████████████                                                       | 16/26 [00:04<00:03,  2.89it/s]\u001b[A\n",
      "Computing stacking distances:  65%|█████████████████████████████████████████████████████████████████████████████████████████████▌                                                 | 17/26 [00:04<00:02,  3.17it/s]\u001b[A\n",
      "Computing stacking distances:  69%|███████████████████████████████████████████████████████████████████████████████████████████████████                                            | 18/26 [00:05<00:02,  3.56it/s]\u001b[A\n",
      "Computing stacking distances:  73%|████████████████████████████████████████████████████████████████████████████████████████████████████████▌                                      | 19/26 [00:05<00:02,  3.04it/s]\u001b[A\n",
      "Computing stacking distances:  77%|██████████████████████████████████████████████████████████████████████████████████████████████████████████████                                 | 20/26 [00:06<00:02,  2.81it/s]\u001b[A\n",
      "Computing stacking distances:  81%|███████████████████████████████████████████████████████████████████████████████████████████████████████████████████▌                           | 21/26 [00:06<00:01,  3.29it/s]\u001b[A\n",
      "Computing stacking distances:  85%|█████████████████████████████████████████████████████████████████████████████████████████████████████████████████████████                      | 22/26 [00:06<00:01,  2.97it/s]\u001b[A\n",
      "Computing stacking distances:  88%|██████████████████████████████████████████████████████████████████████████████████████████████████████████████████████████████▌                | 23/26 [00:06<00:01,  2.90it/s]\u001b[A\n",
      "Computing stacking distances:  92%|████████████████████████████████████████████████████████████████████████████████████████████████████████████████████████████████████           | 24/26 [00:07<00:00,  3.00it/s]\u001b[A\n",
      "Computing stacking distances: 100%|███████████████████████████████████████████████████████████████████████████████████████████████████████████████████████████████████████████████| 26/26 [00:07<00:00,  3.34it/s]\u001b[A\n",
      " 60%|████████████████████████████████████████████████████████████████████████████████████████████████████████▍                                                                     | 6/10 [00:51<00:33,  8.38s/it]"
     ]
    },
    {
     "name": "stdout",
     "output_type": "stream",
     "text": [
      "([(array([86, 87, 90, 92, 95]), array([544, 547, 538, 539, 542]))], [(array([211, 212, 215, 217, 220]), array([1171, 1172, 1174, 1176, 1179, 1181]))], [(array([740, 741, 744, 746, 749]), array([1171, 1172, 1174, 1176, 1179, 1181]))], [(array([1067, 1068, 1071, 1073, 1076]), array([1852, 1855, 1846, 1847, 1850])), (array([1192, 1193, 1196, 1198, 1201]), array([1852, 1855, 1846, 1847, 1850]))])\n"
     ]
    },
    {
     "name": "stderr",
     "output_type": "stream",
     "text": [
      "\n",
      "Computing stacking distances:   0%|                                                                                                                                                        | 0/26 [00:00<?, ?it/s]\u001b[A\n",
      "Computing stacking distances:   4%|█████▌                                                                                                                                          | 1/26 [00:00<00:10,  2.39it/s]\u001b[A\n",
      "Computing stacking distances:  12%|████████████████▌                                                                                                                               | 3/26 [00:00<00:07,  3.20it/s]\u001b[A\n",
      "Computing stacking distances:  15%|██████████████████████▏                                                                                                                         | 4/26 [00:01<00:07,  2.81it/s]\u001b[A\n",
      "Computing stacking distances:  23%|█████████████████████████████████▏                                                                                                              | 6/26 [00:01<00:06,  3.29it/s]\u001b[A\n",
      "Computing stacking distances:  27%|██████████████████████████████████████▊                                                                                                         | 7/26 [00:02<00:06,  2.98it/s]\u001b[A\n",
      "Computing stacking distances:  31%|████████████████████████████████████████████▎                                                                                                   | 8/26 [00:02<00:05,  3.02it/s]\u001b[A\n",
      "Computing stacking distances:  35%|█████████████████████████████████████████████████▊                                                                                              | 9/26 [00:02<00:05,  3.27it/s]\u001b[A\n",
      "Computing stacking distances:  38%|███████████████████████████████████████████████████████                                                                                        | 10/26 [00:03<00:05,  3.09it/s]\u001b[A\n",
      "Computing stacking distances:  42%|████████████████████████████████████████████████████████████▌                                                                                  | 11/26 [00:03<00:05,  2.75it/s]\u001b[A\n",
      "Computing stacking distances:  46%|██████████████████████████████████████████████████████████████████                                                                             | 12/26 [00:03<00:04,  3.06it/s]\u001b[A\n",
      "Computing stacking distances:  50%|███████████████████████████████████████████████████████████████████████▌                                                                       | 13/26 [00:04<00:04,  2.78it/s]\u001b[A\n",
      "Computing stacking distances:  58%|██████████████████████████████████████████████████████████████████████████████████▍                                                            | 15/26 [00:04<00:03,  3.25it/s]\u001b[A\n",
      "Computing stacking distances:  62%|████████████████████████████████████████████████████████████████████████████████████████                                                       | 16/26 [00:05<00:03,  2.98it/s]\u001b[A\n",
      "Computing stacking distances:  65%|█████████████████████████████████████████████████████████████████████████████████████████████▌                                                 | 17/26 [00:05<00:03,  2.80it/s]\u001b[A\n",
      "Computing stacking distances:  69%|███████████████████████████████████████████████████████████████████████████████████████████████████                                            | 18/26 [00:06<00:02,  2.98it/s]\u001b[A\n",
      "Computing stacking distances:  73%|████████████████████████████████████████████████████████████████████████████████████████████████████████▌                                      | 19/26 [00:06<00:02,  3.03it/s]\u001b[A\n",
      "Computing stacking distances:  77%|██████████████████████████████████████████████████████████████████████████████████████████████████████████████                                 | 20/26 [00:06<00:02,  2.71it/s]\u001b[A\n",
      "Computing stacking distances:  81%|███████████████████████████████████████████████████████████████████████████████████████████████████████████████████▌                           | 21/26 [00:07<00:01,  2.53it/s]\u001b[A\n",
      "Computing stacking distances:  85%|█████████████████████████████████████████████████████████████████████████████████████████████████████████████████████████                      | 22/26 [00:07<00:01,  2.42it/s]\u001b[A\n",
      "Computing stacking distances:  88%|██████████████████████████████████████████████████████████████████████████████████████████████████████████████████████████████▌                | 23/26 [00:08<00:01,  2.27it/s]\u001b[A\n",
      "Computing stacking distances:  92%|████████████████████████████████████████████████████████████████████████████████████████████████████████████████████████████████████           | 24/26 [00:08<00:00,  2.19it/s]\u001b[A\n",
      "Computing stacking distances:  96%|█████████████████████████████████████████████████████████████████████████████████████████████████████████████████████████████████████████▌     | 25/26 [00:09<00:00,  2.13it/s]\u001b[A\n",
      "Computing stacking distances: 100%|███████████████████████████████████████████████████████████████████████████████████████████████████████████████████████████████████████████████| 26/26 [00:09<00:00,  2.69it/s]\u001b[A\n",
      " 70%|█████████████████████████████████████████████████████████████████████████████████████████████████████████████████████████▊                                                    | 7/10 [01:00<00:26,  8.81s/it]"
     ]
    },
    {
     "name": "stdout",
     "output_type": "stream",
     "text": [
      "([(array([86, 87, 90, 92, 95]), array([544, 547, 538, 539, 542]))], [(array([740, 741, 744, 746, 749]), array([1171, 1172, 1174, 1176, 1179, 1181]))], [(array([847, 849, 852, 854, 844, 845]), array([1498, 1499, 1501, 1503, 1506, 1508]))], [(array([1192, 1193, 1196, 1198, 1201]), array([1852, 1855, 1846, 1847, 1850]))], [(array([2482, 2484, 2487, 2489, 2479, 2480]), array([2833, 2836, 2827, 2828, 2831]))])\n"
     ]
    },
    {
     "name": "stderr",
     "output_type": "stream",
     "text": [
      "\n",
      "Computing stacking distances:   0%|                                                                                                                                                        | 0/26 [00:00<?, ?it/s]\u001b[A\n",
      "Computing stacking distances:   4%|█████▌                                                                                                                                          | 1/26 [00:00<00:09,  2.55it/s]\u001b[A\n",
      "Computing stacking distances:   8%|███████████                                                                                                                                     | 2/26 [00:00<00:07,  3.03it/s]\u001b[A\n",
      "Computing stacking distances:  12%|████████████████▌                                                                                                                               | 3/26 [00:01<00:08,  2.84it/s]\u001b[A\n",
      "Computing stacking distances:  15%|██████████████████████▏                                                                                                                         | 4/26 [00:01<00:08,  2.55it/s]\u001b[A\n",
      "Computing stacking distances:  19%|███████████████████████████▋                                                                                                                    | 5/26 [00:01<00:08,  2.43it/s]\u001b[A\n",
      "Computing stacking distances:  23%|█████████████████████████████████▏                                                                                                              | 6/26 [00:02<00:07,  2.53it/s]\u001b[A\n",
      "Computing stacking distances:  27%|██████████████████████████████████████▊                                                                                                         | 7/26 [00:02<00:06,  3.05it/s]\u001b[A\n",
      "Computing stacking distances:  31%|████████████████████████████████████████████▎                                                                                                   | 8/26 [00:02<00:05,  3.21it/s]\u001b[A\n",
      "Computing stacking distances:  35%|█████████████████████████████████████████████████▊                                                                                              | 9/26 [00:02<00:04,  3.58it/s]\u001b[A\n",
      "Computing stacking distances:  38%|███████████████████████████████████████████████████████                                                                                        | 10/26 [00:03<00:05,  3.03it/s]\u001b[A\n",
      "Computing stacking distances:  42%|████████████████████████████████████████████████████████████▌                                                                                  | 11/26 [00:03<00:05,  2.75it/s]\u001b[A\n",
      "Computing stacking distances:  46%|██████████████████████████████████████████████████████████████████                                                                             | 12/26 [00:04<00:05,  2.60it/s]\u001b[A\n",
      "Computing stacking distances:  50%|███████████████████████████████████████████████████████████████████████▌                                                                       | 13/26 [00:04<00:04,  2.61it/s]\u001b[A\n",
      "Computing stacking distances:  54%|█████████████████████████████████████████████████████████████████████████████                                                                  | 14/26 [00:04<00:03,  3.15it/s]\u001b[A\n",
      "Computing stacking distances:  58%|██████████████████████████████████████████████████████████████████████████████████▍                                                            | 15/26 [00:05<00:03,  2.81it/s]\u001b[A\n",
      "Computing stacking distances:  62%|████████████████████████████████████████████████████████████████████████████████████████                                                       | 16/26 [00:05<00:03,  2.77it/s]\u001b[A\n",
      "Computing stacking distances:  65%|█████████████████████████████████████████████████████████████████████████████████████████████▌                                                 | 17/26 [00:06<00:03,  2.68it/s]\u001b[A\n",
      "Computing stacking distances:  69%|███████████████████████████████████████████████████████████████████████████████████████████████████                                            | 18/26 [00:06<00:03,  2.53it/s]\u001b[A\n",
      "Computing stacking distances:  73%|████████████████████████████████████████████████████████████████████████████████████████████████████████▌                                      | 19/26 [00:06<00:02,  2.42it/s]\u001b[A\n",
      "Computing stacking distances:  77%|██████████████████████████████████████████████████████████████████████████████████████████████████████████████                                 | 20/26 [00:07<00:02,  2.36it/s]\u001b[A\n",
      "Computing stacking distances:  81%|███████████████████████████████████████████████████████████████████████████████████████████████████████████████████▌                           | 21/26 [00:07<00:01,  2.99it/s]\u001b[A\n",
      "Computing stacking distances:  85%|█████████████████████████████████████████████████████████████████████████████████████████████████████████████████████████                      | 22/26 [00:08<00:01,  2.69it/s]\u001b[A\n",
      "Computing stacking distances:  88%|██████████████████████████████████████████████████████████████████████████████████████████████████████████████████████████████▌                | 23/26 [00:08<00:01,  2.63it/s]\u001b[A\n",
      "Computing stacking distances:  92%|████████████████████████████████████████████████████████████████████████████████████████████████████████████████████████████████████           | 24/26 [00:08<00:00,  3.26it/s]\u001b[A\n",
      "Computing stacking distances:  96%|█████████████████████████████████████████████████████████████████████████████████████████████████████████████████████████████████████████▌     | 25/26 [00:08<00:00,  3.18it/s]\u001b[A\n",
      "Computing stacking distances: 100%|███████████████████████████████████████████████████████████████████████████████████████████████████████████████████████████████████████████████| 26/26 [00:09<00:00,  2.80it/s]\u001b[A\n",
      " 80%|███████████████████████████████████████████████████████████████████████████████████████████████████████████████████████████████████████████▏                                  | 8/10 [01:10<00:17,  8.96s/it]"
     ]
    },
    {
     "name": "stdout",
     "output_type": "stream",
     "text": [
      "([(array([86, 87, 90, 92, 95]), array([544, 547, 538, 539, 542]))], [(array([740, 741, 744, 746, 749]), array([1171, 1172, 1174, 1176, 1179, 1181]))], [(array([847, 849, 852, 854, 844, 845]), array([1498, 1499, 1501, 1503, 1506, 1508]))], [(array([1067, 1068, 1071, 1073, 1076]), array([1852, 1855, 1846, 1847, 1850])), (array([1174, 1176, 1179, 1181, 1171, 1172]), array([1852, 1855, 1846, 1847, 1850])), (array([1192, 1193, 1196, 1198, 1201]), array([1852, 1855, 1846, 1847, 1850]))], [(array([1192, 1193, 1196, 1198, 1201]), array([3160, 3163, 3154, 3155, 3158]))], [(array([2173, 2174, 2177, 2179, 2182]), array([2411, 2413, 2403, 2404, 2406, 2408]))])\n"
     ]
    },
    {
     "name": "stderr",
     "output_type": "stream",
     "text": [
      "\n",
      "Computing stacking distances:   0%|                                                                                                                                                        | 0/26 [00:00<?, ?it/s]\u001b[A\n",
      "Computing stacking distances:   4%|█████▌                                                                                                                                          | 1/26 [00:00<00:08,  2.93it/s]\u001b[A\n",
      "Computing stacking distances:   8%|███████████                                                                                                                                     | 2/26 [00:00<00:06,  3.64it/s]\u001b[A\n",
      "Computing stacking distances:  12%|████████████████▌                                                                                                                               | 3/26 [00:01<00:07,  2.88it/s]\u001b[A\n",
      "Computing stacking distances:  15%|██████████████████████▏                                                                                                                         | 4/26 [00:01<00:08,  2.64it/s]\u001b[A\n",
      "Computing stacking distances:  19%|███████████████████████████▋                                                                                                                    | 5/26 [00:01<00:07,  2.67it/s]\u001b[A\n",
      "Computing stacking distances:  23%|█████████████████████████████████▏                                                                                                              | 6/26 [00:02<00:07,  2.54it/s]\u001b[A\n",
      "Computing stacking distances:  27%|██████████████████████████████████████▊                                                                                                         | 7/26 [00:02<00:07,  2.48it/s]\u001b[A\n",
      "Computing stacking distances:  31%|████████████████████████████████████████████▎                                                                                                   | 8/26 [00:03<00:07,  2.44it/s]\u001b[A\n",
      "Computing stacking distances:  35%|█████████████████████████████████████████████████▊                                                                                              | 9/26 [00:03<00:06,  2.44it/s]\u001b[A\n",
      "Computing stacking distances:  38%|███████████████████████████████████████████████████████                                                                                        | 10/26 [00:03<00:06,  2.34it/s]\u001b[A\n",
      "Computing stacking distances:  42%|████████████████████████████████████████████████████████████▌                                                                                  | 11/26 [00:04<00:06,  2.30it/s]\u001b[A\n",
      "Computing stacking distances:  46%|██████████████████████████████████████████████████████████████████                                                                             | 12/26 [00:04<00:05,  2.77it/s]\u001b[A\n",
      "Computing stacking distances:  50%|███████████████████████████████████████████████████████████████████████▌                                                                       | 13/26 [00:05<00:04,  2.64it/s]\u001b[A\n",
      "Computing stacking distances:  54%|█████████████████████████████████████████████████████████████████████████████                                                                  | 14/26 [00:05<00:04,  2.59it/s]\u001b[A\n",
      "Computing stacking distances:  58%|██████████████████████████████████████████████████████████████████████████████████▍                                                            | 15/26 [00:05<00:03,  3.17it/s]\u001b[A\n",
      "Computing stacking distances:  62%|████████████████████████████████████████████████████████████████████████████████████████                                                       | 16/26 [00:05<00:03,  3.24it/s]\u001b[A\n",
      "Computing stacking distances:  65%|█████████████████████████████████████████████████████████████████████████████████████████████▌                                                 | 17/26 [00:06<00:03,  2.92it/s]\u001b[A\n",
      "Computing stacking distances:  69%|███████████████████████████████████████████████████████████████████████████████████████████████████                                            | 18/26 [00:06<00:02,  2.97it/s]\u001b[A\n",
      "Computing stacking distances:  73%|████████████████████████████████████████████████████████████████████████████████████████████████████████▌                                      | 19/26 [00:07<00:02,  2.65it/s]\u001b[A\n",
      "Computing stacking distances:  77%|██████████████████████████████████████████████████████████████████████████████████████████████████████████████                                 | 20/26 [00:07<00:02,  2.45it/s]\u001b[A\n",
      "Computing stacking distances:  81%|███████████████████████████████████████████████████████████████████████████████████████████████████████████████████▌                           | 21/26 [00:08<00:02,  2.34it/s]\u001b[A\n",
      "Computing stacking distances:  85%|█████████████████████████████████████████████████████████████████████████████████████████████████████████████████████████                      | 22/26 [00:08<00:01,  2.48it/s]\u001b[A\n",
      "Computing stacking distances:  92%|████████████████████████████████████████████████████████████████████████████████████████████████████████████████████████████████████           | 24/26 [00:08<00:00,  2.92it/s]\u001b[A\n",
      "Computing stacking distances: 100%|███████████████████████████████████████████████████████████████████████████████████████████████████████████████████████████████████████████████| 26/26 [00:09<00:00,  2.79it/s]\u001b[A\n",
      " 90%|████████████████████████████████████████████████████████████████████████████████████████████████████████████████████████████████████████████████████████████▌                 | 9/10 [01:19<00:09,  9.07s/it]"
     ]
    },
    {
     "name": "stdout",
     "output_type": "stream",
     "text": [
      "([(array([86, 87, 90, 92, 95]), array([544, 547, 538, 539, 542]))], [(array([740, 741, 744, 746, 749]), array([1171, 1172, 1174, 1176, 1179, 1181]))], [(array([847, 849, 852, 854, 844, 845]), array([1498, 1499, 1501, 1503, 1506, 1508]))], [(array([1095, 1096, 1098, 1100, 1103, 1105]), array([1498, 1499, 1501, 1503, 1506, 1508]))], [(array([1067, 1068, 1071, 1073, 1076]), array([1852, 1855, 1846, 1847, 1850])), (array([1192, 1193, 1196, 1198, 1201]), array([1852, 1855, 1846, 1847, 1850]))], [(array([1192, 1193, 1196, 1198, 1201]), array([3160, 3163, 3154, 3155, 3158]))], [(array([2482, 2484, 2487, 2489, 2479, 2480]), array([2833, 2836, 2827, 2828, 2831]))])\n"
     ]
    },
    {
     "name": "stderr",
     "output_type": "stream",
     "text": [
      "\n",
      "Computing stacking distances:   0%|                                                                                                                                                        | 0/26 [00:00<?, ?it/s]\u001b[A\n",
      "Computing stacking distances:   4%|█████▌                                                                                                                                          | 1/26 [00:00<00:11,  2.18it/s]\u001b[A\n",
      "Computing stacking distances:   8%|███████████                                                                                                                                     | 2/26 [00:00<00:11,  2.18it/s]\u001b[A\n",
      "Computing stacking distances:  12%|████████████████▌                                                                                                                               | 3/26 [00:01<00:10,  2.24it/s]\u001b[A\n",
      "Computing stacking distances:  15%|██████████████████████▏                                                                                                                         | 4/26 [00:01<00:07,  2.95it/s]\u001b[A\n",
      "Computing stacking distances:  19%|███████████████████████████▋                                                                                                                    | 5/26 [00:01<00:06,  3.34it/s]\u001b[A\n",
      "Computing stacking distances:  23%|█████████████████████████████████▏                                                                                                              | 6/26 [00:02<00:05,  3.35it/s]\u001b[A\n",
      "Computing stacking distances:  27%|██████████████████████████████████████▊                                                                                                         | 7/26 [00:02<00:05,  3.31it/s]\u001b[A\n",
      "Computing stacking distances:  31%|████████████████████████████████████████████▎                                                                                                   | 8/26 [00:02<00:06,  2.82it/s]\u001b[A\n",
      "Computing stacking distances:  35%|█████████████████████████████████████████████████▊                                                                                              | 9/26 [00:03<00:06,  2.63it/s]\u001b[A\n",
      "Computing stacking distances:  38%|███████████████████████████████████████████████████████                                                                                        | 10/26 [00:03<00:05,  2.90it/s]\u001b[A\n",
      "Computing stacking distances:  42%|████████████████████████████████████████████████████████████▌                                                                                  | 11/26 [00:03<00:05,  2.66it/s]\u001b[A\n",
      "Computing stacking distances:  46%|██████████████████████████████████████████████████████████████████                                                                             | 12/26 [00:04<00:05,  2.62it/s]\u001b[A\n",
      "Computing stacking distances:  50%|███████████████████████████████████████████████████████████████████████▌                                                                       | 13/26 [00:04<00:05,  2.45it/s]\u001b[A\n",
      "Computing stacking distances:  54%|█████████████████████████████████████████████████████████████████████████████                                                                  | 14/26 [00:05<00:05,  2.28it/s]\u001b[A\n",
      "Computing stacking distances:  58%|██████████████████████████████████████████████████████████████████████████████████▍                                                            | 15/26 [00:05<00:03,  2.77it/s]\u001b[A\n",
      "Computing stacking distances:  62%|████████████████████████████████████████████████████████████████████████████████████████                                                       | 16/26 [00:05<00:03,  2.93it/s]\u001b[A\n",
      "Computing stacking distances:  65%|█████████████████████████████████████████████████████████████████████████████████████████████▌                                                 | 17/26 [00:06<00:02,  3.26it/s]\u001b[A\n",
      "Computing stacking distances:  69%|███████████████████████████████████████████████████████████████████████████████████████████████████                                            | 18/26 [00:06<00:02,  2.94it/s]\u001b[A\n",
      "Computing stacking distances:  73%|████████████████████████████████████████████████████████████████████████████████████████████████████████▌                                      | 19/26 [00:06<00:02,  3.11it/s]\u001b[A\n",
      "Computing stacking distances:  77%|██████████████████████████████████████████████████████████████████████████████████████████████████████████████                                 | 20/26 [00:07<00:01,  3.06it/s]\u001b[A\n",
      "Computing stacking distances:  81%|███████████████████████████████████████████████████████████████████████████████████████████████████████████████████▌                           | 21/26 [00:07<00:01,  2.69it/s]\u001b[A\n",
      "Computing stacking distances:  85%|█████████████████████████████████████████████████████████████████████████████████████████████████████████████████████████                      | 22/26 [00:07<00:01,  3.13it/s]\u001b[A\n",
      "Computing stacking distances:  88%|██████████████████████████████████████████████████████████████████████████████████████████████████████████████████████████████▌                | 23/26 [00:08<00:01,  2.79it/s]\u001b[A\n",
      "Computing stacking distances:  92%|████████████████████████████████████████████████████████████████████████████████████████████████████████████████████████████████████           | 24/26 [00:08<00:00,  2.56it/s]\u001b[A\n",
      "Computing stacking distances:  96%|█████████████████████████████████████████████████████████████████████████████████████████████████████████████████████████████████████████▌     | 25/26 [00:09<00:00,  2.48it/s]\u001b[A\n",
      "Computing stacking distances: 100%|███████████████████████████████████████████████████████████████████████████████████████████████████████████████████████████████████████████████| 26/26 [00:09<00:00,  2.74it/s]\u001b[A\n",
      "100%|█████████████████████████████████████████████████████████████████████████████████████████████████████████████████████████████████████████████████████████████████████████████| 10/10 [01:28<00:00,  8.89s/it]"
     ]
    },
    {
     "name": "stdout",
     "output_type": "stream",
     "text": [
      "([(array([740, 741, 744, 746, 749]), array([1171, 1172, 1174, 1176, 1179, 1181]))], [(array([847, 849, 852, 854, 844, 845]), array([1498, 1499, 1501, 1503, 1506, 1508]))], [(array([1095, 1096, 1098, 1100, 1103, 1105]), array([1498, 1499, 1501, 1503, 1506, 1508]))], [(array([1192, 1193, 1196, 1198, 1201]), array([1852, 1855, 1846, 1847, 1850]))], [(array([1192, 1193, 1196, 1198, 1201]), array([3160, 3163, 3154, 3155, 3158]))], [(array([1749, 1750, 1752, 1754, 1757, 1759]), array([3133, 3134, 3136, 3138, 3141, 3143]))], [(array([2173, 2174, 2177, 2179, 2182]), array([2411, 2413, 2403, 2404, 2406, 2408]))], [(array([2482, 2484, 2487, 2489, 2479, 2480]), array([2833, 2836, 2827, 2828, 2831]))])\n",
      "Information succesfully stored in data/rsa_prot_tutorial.parquet\n",
      "Stacking analysis has succesfully finished!\n",
      "Function stacking_analysis Took 113.2266 seconds\n"
     ]
    },
    {
     "name": "stderr",
     "output_type": "stream",
     "text": [
      "\n"
     ]
    }
   ],
   "source": [
    "rsa=RSA(topology, trajectory).stacking_analysis(dist_c, ang_c, 0, 20, 2, results)"
   ]
  },
  {
   "cell_type": "code",
   "execution_count": 7,
   "id": "db76b894",
   "metadata": {},
   "outputs": [
    {
     "data": {
      "text/html": [
       "<div>\n",
       "<style scoped>\n",
       "    .dataframe tbody tr th:only-of-type {\n",
       "        vertical-align: middle;\n",
       "    }\n",
       "\n",
       "    .dataframe tbody tr th {\n",
       "        vertical-align: top;\n",
       "    }\n",
       "\n",
       "    .dataframe thead th {\n",
       "        text-align: right;\n",
       "    }\n",
       "</style>\n",
       "<table border=\"1\" class=\"dataframe\">\n",
       "  <thead>\n",
       "    <tr style=\"text-align: right;\">\n",
       "      <th></th>\n",
       "      <th>atom_index</th>\n",
       "      <th>pol_resid</th>\n",
       "    </tr>\n",
       "  </thead>\n",
       "  <tbody>\n",
       "    <tr>\n",
       "      <th>0</th>\n",
       "      <td>[[[740, 741, 744, 746, 749], [1171, 1172, 1174...</td>\n",
       "      <td>[[[3, 4], [7, 8], [8, 9]]]</td>\n",
       "    </tr>\n",
       "    <tr>\n",
       "      <th>1</th>\n",
       "      <td>[[[86, 87, 90, 92, 95], [544, 547, 538, 539, 5...</td>\n",
       "      <td>[[[1, 2], [1, 3], [1, 4], [3, 4], [4, 6], [6, ...</td>\n",
       "    </tr>\n",
       "    <tr>\n",
       "      <th>2</th>\n",
       "      <td>[[[86, 87, 90, 92, 95], [544, 547, 538, 539, 5...</td>\n",
       "      <td>[[[1, 2], [3, 4], [3, 5], [4, 6], [7, 8], [8, ...</td>\n",
       "    </tr>\n",
       "    <tr>\n",
       "      <th>3</th>\n",
       "      <td>[[[86, 87, 90, 92, 95], [544, 547, 538, 539, 5...</td>\n",
       "      <td>[[[1, 2], [3, 4], [4, 6], [4, 10], [7, 8]]]</td>\n",
       "    </tr>\n",
       "    <tr>\n",
       "      <th>4</th>\n",
       "      <td>[[[86, 87, 90, 92, 95], [544, 547, 538, 539, 5...</td>\n",
       "      <td>[[[1, 2], [1, 3], [3, 4], [3, 5], [4, 6], [7, ...</td>\n",
       "    </tr>\n",
       "    <tr>\n",
       "      <th>5</th>\n",
       "      <td>[[[86, 87, 90, 92, 95], [544, 547, 538, 539, 5...</td>\n",
       "      <td>[[[1, 2], [1, 4], [3, 4], [4, 6]]]</td>\n",
       "    </tr>\n",
       "    <tr>\n",
       "      <th>6</th>\n",
       "      <td>[[[86, 87, 90, 92, 95], [544, 547, 538, 539, 5...</td>\n",
       "      <td>[[[1, 2], [3, 4], [3, 5], [4, 6], [8, 9]]]</td>\n",
       "    </tr>\n",
       "    <tr>\n",
       "      <th>7</th>\n",
       "      <td>[[[86, 87, 90, 92, 95], [544, 547, 538, 539, 5...</td>\n",
       "      <td>[[[1, 2], [3, 4], [3, 5], [4, 6], [4, 10], [7,...</td>\n",
       "    </tr>\n",
       "    <tr>\n",
       "      <th>8</th>\n",
       "      <td>[[[86, 87, 90, 92, 95], [544, 547, 538, 539, 5...</td>\n",
       "      <td>[[[1, 2], [3, 4], [3, 5], [4, 5], [4, 6], [4, ...</td>\n",
       "    </tr>\n",
       "    <tr>\n",
       "      <th>9</th>\n",
       "      <td>[[[740, 741, 744, 746, 749], [1171, 1172, 1174...</td>\n",
       "      <td>[[[3, 4], [3, 5], [4, 5], [4, 6], [4, 10], [6,...</td>\n",
       "    </tr>\n",
       "  </tbody>\n",
       "</table>\n",
       "</div>"
      ],
      "text/plain": [
       "                                          atom_index  \\\n",
       "0  [[[740, 741, 744, 746, 749], [1171, 1172, 1174...   \n",
       "1  [[[86, 87, 90, 92, 95], [544, 547, 538, 539, 5...   \n",
       "2  [[[86, 87, 90, 92, 95], [544, 547, 538, 539, 5...   \n",
       "3  [[[86, 87, 90, 92, 95], [544, 547, 538, 539, 5...   \n",
       "4  [[[86, 87, 90, 92, 95], [544, 547, 538, 539, 5...   \n",
       "5  [[[86, 87, 90, 92, 95], [544, 547, 538, 539, 5...   \n",
       "6  [[[86, 87, 90, 92, 95], [544, 547, 538, 539, 5...   \n",
       "7  [[[86, 87, 90, 92, 95], [544, 547, 538, 539, 5...   \n",
       "8  [[[86, 87, 90, 92, 95], [544, 547, 538, 539, 5...   \n",
       "9  [[[740, 741, 744, 746, 749], [1171, 1172, 1174...   \n",
       "\n",
       "                                           pol_resid  \n",
       "0                         [[[3, 4], [7, 8], [8, 9]]]  \n",
       "1  [[[1, 2], [1, 3], [1, 4], [3, 4], [4, 6], [6, ...  \n",
       "2  [[[1, 2], [3, 4], [3, 5], [4, 6], [7, 8], [8, ...  \n",
       "3        [[[1, 2], [3, 4], [4, 6], [4, 10], [7, 8]]]  \n",
       "4  [[[1, 2], [1, 3], [3, 4], [3, 5], [4, 6], [7, ...  \n",
       "5                 [[[1, 2], [1, 4], [3, 4], [4, 6]]]  \n",
       "6         [[[1, 2], [3, 4], [3, 5], [4, 6], [8, 9]]]  \n",
       "7  [[[1, 2], [3, 4], [3, 5], [4, 6], [4, 10], [7,...  \n",
       "8  [[[1, 2], [3, 4], [3, 5], [4, 5], [4, 6], [4, ...  \n",
       "9  [[[3, 4], [3, 5], [4, 5], [4, 6], [4, 10], [6,...  "
      ]
     },
     "execution_count": 7,
     "metadata": {},
     "output_type": "execute_result"
    }
   ],
   "source": [
    "\n",
    "df_results = 'data/rsa_prot_tutorial.parquet'\n",
    "df = pd.read_parquet(df_results)\n",
    "\n",
    "df"
   ]
  },
  {
   "cell_type": "code",
   "execution_count": 12,
   "id": "95ca1b8d-6199-47ed-b583-ab58efde1c83",
   "metadata": {},
   "outputs": [
    {
     "data": {
      "text/plain": [
       "array([array([array([740, 741, 744, 746, 749]),\n",
       "              array([1171, 1172, 1174, 1176, 1179, 1181]),\n",
       "              array([2173, 2174, 2177, 2179, 2182]),\n",
       "              array([2411, 2413, 2403, 2404, 2406, 2408]),\n",
       "              array([2482, 2484, 2487, 2489, 2479, 2480]),\n",
       "              array([2833, 2836, 2827, 2828, 2831]),\n",
       "              array([2500, 2501, 2504, 2506, 2509]),\n",
       "              array([2706, 2708, 2711, 2702, 2703])], dtype=object)],\n",
       "      dtype=object)"
      ]
     },
     "execution_count": 12,
     "metadata": {},
     "output_type": "execute_result"
    }
   ],
   "source": [
    "df.iloc[0][0]"
   ]
  },
  {
   "cell_type": "code",
   "execution_count": 8,
   "id": "2f8caf41",
   "metadata": {},
   "outputs": [],
   "source": [
    "sev_ring=RSA(topology, trajectory).find_several_rings_stacked(df_results)"
   ]
  },
  {
   "cell_type": "code",
   "execution_count": 9,
   "id": "349f177c",
   "metadata": {},
   "outputs": [
    {
     "name": "stdout",
     "output_type": "stream",
     "text": [
      "[[{3, 4}, {8, 9, 7}], [{1, 2, 3, 4, 6, 8, 9, 10}], [{1, 2}, {3, 4, 5, 6}, {8, 9, 7}], [{1, 2}, {10, 3, 4, 6}, {8, 7}], [{1, 2, 3, 4, 5, 6}, {8, 9, 7}], [{1, 2, 3, 4, 6}], [{1, 2}, {3, 4, 5, 6}, {8, 9}], [{1, 2}, {3, 4, 5, 6, 10}, {8, 7}], [{1, 2}, {3, 4, 5, 6, 10}, {8, 9}], [{3, 4, 5, 6, 10}, {8, 9, 7}]]\n"
     ]
    }
   ],
   "source": [
    "#print the resids of the networ of polymers connected by their stacked rings\n",
    "print(sev_ring)"
   ]
  },
  {
   "cell_type": "code",
   "execution_count": null,
   "id": "5e248341-a9e3-4823-8b27-a52d3c8fc0c6",
   "metadata": {},
   "outputs": [],
   "source": []
  }
 ],
 "metadata": {
  "kernelspec": {
   "display_name": "Python 3 (ipykernel)",
   "language": "python",
   "name": "python3"
  },
  "language_info": {
   "codemirror_mode": {
    "name": "ipython",
    "version": 3
   },
   "file_extension": ".py",
   "mimetype": "text/x-python",
   "name": "python",
   "nbconvert_exporter": "python",
   "pygments_lexer": "ipython3",
   "version": "3.10.12"
  }
 },
 "nbformat": 4,
 "nbformat_minor": 5
}

{
 "cells": [
  {
   "cell_type": "markdown",
   "id": "6c894466",
   "metadata": {},
   "source": [
    "# Tutorial on the usage of hydration"
   ]
  },
  {
   "cell_type": "markdown",
   "id": "b8a3de5f",
   "metadata": {},
   "source": [
    "This tutorial will show how to use the hydration class to compute the solvation of polymers that belong to the same micelle."
   ]
  },
  {
   "cell_type": "markdown",
   "id": "d83882c8",
   "metadata": {},
   "source": [
    "Before starting any analysis, load the neccesary modules for this class."
   ]
  },
  {
   "cell_type": "code",
   "execution_count": 34,
   "id": "13ef8c57",
   "metadata": {},
   "outputs": [],
   "source": [
    "\n",
    "from pysoftk.pol_analysis.tools.utils_mda import MDA_input\n",
    "\n",
    "from pysoftk.pol_analysis.tools.utils_tools import *\n",
    "\n",
    "from pysoftk.pol_analysis.clustering import SCP\n",
    "\n",
    "from pysoftk.pol_analysis.make_micelle_whole import micelle_whole\n",
    "\n",
    "from pysoftk.pol_analysis.solvation import solvation\n",
    "\n",
    "\n",
    "import numpy as np\n",
    "import pandas as pd"
   ]
  },
  {
   "cell_type": "markdown",
   "id": "e3082302",
   "metadata": {},
   "source": [
    "1. First load the trajectory, we are going to use the cyclic topology used in previous tutorials."
   ]
  },
  {
   "cell_type": "code",
   "execution_count": 35,
   "id": "6615e808",
   "metadata": {},
   "outputs": [],
   "source": [
    "topology='data/cyclic_water_short_trajectory.tpr'\n",
    "trajectory='data/cyclic_water_short_trajectory.xtc'\n"
   ]
  },
  {
   "cell_type": "markdown",
   "id": "8a975145",
   "metadata": {},
   "source": [
    "2. Import the clustering data from SCP function, to obtain the resids of the polymers of each micelle"
   ]
  },
  {
   "cell_type": "code",
   "execution_count": 36,
   "id": "8f75cb04",
   "metadata": {},
   "outputs": [],
   "source": [
    "resids_total='data/pictures_tutorial/cyclic_scp_result.parquet'"
   ]
  },
  {
   "cell_type": "markdown",
   "id": "5a440b45",
   "metadata": {},
   "source": [
    "3. Obtain the largest micelle from the clustering pandas dataframe"
   ]
  },
  {
   "cell_type": "code",
   "execution_count": 37,
   "id": "1ecd1b2c",
   "metadata": {},
   "outputs": [],
   "source": [
    "largest_micelle_resids = micelle_whole(topology, trajectory).obtain_largest_micelle_resids(resids_total)"
   ]
  },
  {
   "cell_type": "markdown",
   "id": "7e9c4775",
   "metadata": {},
   "source": [
    "4. Now, obtain the positions of the whole micelle"
   ]
  },
  {
   "cell_type": "code",
   "execution_count": 38,
   "id": "1daaead3",
   "metadata": {},
   "outputs": [
    {
     "name": "stderr",
     "output_type": "stream",
     "text": [
      "  0%|                                                                                                                                                    | 0/3 [00:00<?, ?it/s]/home/raquellrdc/Desktop/PhD/pysoftk/alejandro_newest_releast_check/pysoftk_analysis_code/test_final/make_micelle_whole.py:347: FutureWarning: arrays to stack must be passed as a \"sequence\" type such as list or tuple. Support for non-sequence iterables such as generators is deprecated as of NumPy 1.16 and will raise an error in the future.\n",
      "  atom_positions_over_trajectory = list(tqdm(map(self.make_cluster_whole, frames, resname, cluster_resids_f[0],\n",
      "100%|████████████████████████████████████████████████████████████████████████████████████████████████████████████████████████████████████████████| 3/3 [00:04<00:00,  1.43s/it]"
     ]
    },
    {
     "name": "stdout",
     "output_type": "stream",
     "text": [
      "Elapsed time for matrix calculation: 5.8799 seconds\n"
     ]
    },
    {
     "name": "stderr",
     "output_type": "stream",
     "text": [
      "\n"
     ]
    }
   ],
   "source": [
    "#select the resname of the polymers\n",
    "resname=['LIG']\n",
    "\n",
    "#run to obtain the whole positions\n",
    "start=0\n",
    "stop=10001\n",
    "step=1\n",
    "\n",
    "#run micelle_whole\n",
    "atom_pos = micelle_whole(topology, trajectory).running_make_cluster_whole(resname, largest_micelle_resids, start, stop, step)"
   ]
  },
  {
   "cell_type": "markdown",
   "id": "9042b3b5",
   "metadata": {},
   "source": [
    "5. Let's select the atoms for the solvation calculation and the cutoff distance"
   ]
  },
  {
   "cell_type": "code",
   "execution_count": 39,
   "id": "8c0397d8",
   "metadata": {},
   "outputs": [],
   "source": [
    "#atom names for the calculation\n",
    "MA_oxygen_names = ['O00A', 'O00D', 'O00C', 'O01G', 'O01F', 'O01D', 'O01A', 'O019', 'O016', 'O015', 'O010', 'O012']\n",
    "\n",
    "#cutoff distance-this can be obtained from radial distribution functions or just by intuition\n",
    "\n",
    "cutoff=4.5"
   ]
  },
  {
   "cell_type": "markdown",
   "id": "25d06da9",
   "metadata": {},
   "source": [
    "6. Also, we need to define the atoms of the solvent. In this case, it is water so we will select the oxygen heavy atoms. Just one atom per solvent molecule is enough for the calculation."
   ]
  },
  {
   "cell_type": "code",
   "execution_count": 40,
   "id": "69b8d707",
   "metadata": {},
   "outputs": [],
   "source": [
    "water_atoms=['OW']"
   ]
  },
  {
   "cell_type": "markdown",
   "id": "9ef6497b",
   "metadata": {},
   "source": [
    "7. We have all the neccesary inputs to run the contacts calculation"
   ]
  },
  {
   "cell_type": "code",
   "execution_count": 42,
   "id": "ae5893f6",
   "metadata": {},
   "outputs": [
    {
     "name": "stderr",
     "output_type": "stream",
     "text": [
      "100%|████████████████████████████████████████████████████████████████████████████████████████████████████████████████████████████████████████████| 3/3 [00:34<00:00, 11.34s/it]\n"
     ]
    }
   ],
   "source": [
    "\n",
    "solvation = solvation(topology, trajectory).solvation_calc_run(start, stop, step, largest_micelle_resids, atom_pos, ['OW'], MA_oxygen_names, cutoff )\n",
    "                                                                      "
   ]
  },
  {
   "cell_type": "markdown",
   "id": "6784d3d9",
   "metadata": {},
   "source": [
    "Bear in mind that the array 'solvation' contains the solvation data of all the MA_oxygen_names atoms over all polymers and over all time steps. The output is given like this for users to be able to play with the data and work with it in the way they want. However, to report the average over the polymers, it is neccesary to divide all values by the number of polymers in the micelle. And then the mean over the time steps to get the average value over the trajectory."
   ]
  },
  {
   "cell_type": "code",
   "execution_count": 56,
   "id": "e2981a4b",
   "metadata": {},
   "outputs": [
    {
     "data": {
      "text/plain": [
       "array([[1.86666667, 1.6       , 1.46666667, 1.2       , 0.46666667,\n",
       "        0.46666667, 0.73333333, 0.13333333, 1.        , 0.8       ,\n",
       "        0.8       , 1.6       ],\n",
       "       [3.63636364, 2.        , 1.54545455, 1.36363636, 0.90909091,\n",
       "        0.81818182, 1.        , 0.45454545, 1.54545455, 1.36363636,\n",
       "        1.27272727, 2.81818182],\n",
       "       [2.36363636, 2.54545455, 2.09090909, 2.18181818, 1.        ,\n",
       "        0.90909091, 1.90909091, 1.18181818, 1.36363636, 0.90909091,\n",
       "        1.36363636, 2.45454545]])"
      ]
     },
     "execution_count": 56,
     "metadata": {},
     "output_type": "execute_result"
    }
   ],
   "source": [
    "#to normalize the solvation depending on the number of polymers in the micelle in each time step\n",
    "\n",
    "solvation_normalized=[]\n",
    "\n",
    "for i in range(len(largest_micelle_resids)):\n",
    "    \n",
    "    len_micelle=len(largest_micelle_resids[i]) #number of polymers in the micelle at a specific time step\n",
    "    \n",
    "    solvation_normalized.append((np.array(solvation[i])/len_micelle)) #each solvation value is divided by the number of polymers in the micelle\n",
    "    \n",
    "solvation_normalized = np.array(solvation_normalized) #array with the solvation values normalized over polymer number\n"
   ]
  },
  {
   "cell_type": "code",
   "execution_count": 58,
   "id": "5af7e9b9",
   "metadata": {},
   "outputs": [],
   "source": [
    "#average over time\n",
    "\n",
    "mean_solvation=np.mean(solvation_normalized , axis=0)\n"
   ]
  },
  {
   "cell_type": "code",
   "execution_count": 63,
   "id": "7df7b135",
   "metadata": {},
   "outputs": [
    {
     "data": {
      "image/png": "[encoded data removed]",
      "text/plain": [
       "<Figure size 640x480 with 1 Axes>"
      ]
     },
     "metadata": {},
     "output_type": "display_data"
    }
   ],
   "source": [
    "import matplotlib.pyplot as plt\n",
    "\n",
    "plt.bar(range(len(mean_solvation)), mean_solvation) \n",
    "plt.xticks(np.arange(len(MA_oxygen_names)), MA_oxygen_names)\n",
    "plt.ylabel('$N_{H_{2}O}$')\n",
    "plt.title('Solvation of MA atoms')\n",
    "plt.show()"
   ]
  },
  {
   "cell_type": "markdown",
   "id": "3fde87a0",
   "metadata": {},
   "source": [
    "This heatmap is a clear way to represent the contacts that each atom has with all the other atoms of the other group. In this case we calculated the contacts between atoms belonging to the MA names, but you can also calculate the contacts between atoms of different groups. It is as easy as feeding in two different groups of atom names to the contacts function"
   ]
  }
 ],
 "metadata": {
  "kernelspec": {
   "display_name": "Python 3 (ipykernel)",
   "language": "python",
   "name": "python3"
  },
  "language_info": {
   "codemirror_mode": {
    "name": "ipython",
    "version": 3
   },
   "file_extension": ".py",
   "mimetype": "text/x-python",
   "name": "python",
   "nbconvert_exporter": "python",
   "pygments_lexer": "ipython3",
   "version": "3.10.12"
  }
 },
 "nbformat": 4,
 "nbformat_minor": 5
}

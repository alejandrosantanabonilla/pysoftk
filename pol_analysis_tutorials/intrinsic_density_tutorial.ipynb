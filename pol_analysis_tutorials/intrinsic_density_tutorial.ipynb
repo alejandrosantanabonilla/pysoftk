{
 "cells": [
  {
   "cell_type": "markdown",
   "id": "264ef590",
   "metadata": {},
   "source": [
    "# Tutorial on the usage of intrinsic_density_micelle tool"
   ]
  },
  {
   "cell_type": "markdown",
   "id": "d8aa2cf7",
   "metadata": {},
   "source": [
    "Here, two examples on how to use the intrinsic_density_micelle tool for the calculation of the distribution of components of a micelle. First we will show how to use intrinsic_density to calculate the density of the hydrophobic block of the polymer. Then we will show how to use intrinsic_density_water to calculate the spherical density of the water in the simulation"
   ]
  },
  {
   "cell_type": "markdown",
   "id": "3388d0fc",
   "metadata": {},
   "source": [
    "## spherical_density tool "
   ]
  },
  {
   "cell_type": "markdown",
   "id": "13f786b7",
   "metadata": {},
   "source": [
    "Before starting any analysis, load the neccesary modules for this class."
   ]
  },
  {
   "cell_type": "code",
   "execution_count": 23,
   "id": "9d188003",
   "metadata": {},
   "outputs": [],
   "source": [
    "from  utils_mda import MDA_input\n",
    "#from pysoftk.pol_analysis.tools.utils_mda import MDA_input\n",
    "from utils_tools import *\n",
    "#from pysoftk.pol_analysis.tools.utils_tools import *\n",
    "from clustering import SCP\n",
    "#from pysoftk.pol_analysis.clustering import SCP\n",
    "from make_micelle_whole import micelle_whole\n",
    "#from pysoftk.pol_analysis.make_micelle_whole import micelle_whole\n",
    "from intrinsic_density_micelle import intrinsic_density\n",
    "#from pysoftk.pol_analysis.intrinsic_density_micelle import intrinsic_density\n",
    "\n",
    "import numpy as np\n",
    "import pandas as pd"
   ]
  },
  {
   "cell_type": "markdown",
   "id": "b7554878",
   "metadata": {},
   "source": [
    "1. Select your simulation files, it is recommended to use a tpr file for the topology and xtc file for the trajectory."
   ]
  },
  {
   "cell_type": "code",
   "execution_count": 28,
   "id": "0e08bf3f",
   "metadata": {},
   "outputs": [],
   "source": [
    "topology='data/intrinsic_density_movie.tpr'\n",
    "trajectory='data/intrinsic_density_movie.xtc'"
   ]
  },
  {
   "cell_type": "markdown",
   "id": "056db3f0",
   "metadata": {},
   "source": [
    "2. Run the clustering"
   ]
  },
  {
   "cell_type": "code",
   "execution_count": 32,
   "id": "4f3b216c",
   "metadata": {
    "scrolled": true
   },
   "outputs": [
    {
     "name": "stderr",
     "output_type": "stream",
     "text": [
      "100%|██████████████████████████████████████████████████████████████████████████████████████████████████████████████████████████████████████████| 11/11 [00:00<00:00, 22.20it/s]"
     ]
    },
    {
     "name": "stdout",
     "output_type": "stream",
     "text": [
      "The file data/pictures_tutorial/cyclic_intrinsic_scp_result.parquet has been successfully created.\n",
      "Function spatial_clustering_run Took 2.2583 seconds\n"
     ]
    },
    {
     "name": "stderr",
     "output_type": "stream",
     "text": [
      "\n"
     ]
    }
   ],
   "source": [
    "results_name='data/pictures_tutorial/cyclic_intrinsic_scp_result'\n",
    "\n",
    "cluster_cutoff = 12\n",
    "\n",
    "start=0\n",
    "stop=10001\n",
    "step=1\n",
    "\n",
    "atom_names=['C02T']\n",
    "\n",
    "c = SCP(topology, trajectory).spatial_clustering_run(start, stop, step, atom_names, cluster_cutoff, results_name)\n",
    "\n",
    "\n",
    "#load the results from SCP\n",
    "resids_total='data/pictures_tutorial/cyclic_intrinsic_scp_result.parquet'"
   ]
  },
  {
   "cell_type": "markdown",
   "id": "5e2b7788",
   "metadata": {},
   "source": [
    "3. Obtain the largest micelle from the clustering pandas dataframe"
   ]
  },
  {
   "cell_type": "code",
   "execution_count": 33,
   "id": "ba4821f8",
   "metadata": {},
   "outputs": [],
   "source": [
    "largest_micelle_resids = micelle_whole(topology, trajectory).obtain_largest_micelle_resids(resids_total)"
   ]
  },
  {
   "cell_type": "markdown",
   "id": "4a43f8fc",
   "metadata": {},
   "source": [
    "4. 'largest_micelle_resids' is a np.array with the resids of the molecules that belong to the same cluster of the steps of the trajectory where SCP was ran."
   ]
  },
  {
   "cell_type": "code",
   "execution_count": 34,
   "id": "e457b7ea",
   "metadata": {},
   "outputs": [
    {
     "data": {
      "text/plain": [
       "[array([ 1,  2,  3,  4,  6,  7,  8, 11, 12, 13, 14, 15, 17, 18, 19]),\n",
       " array([ 2,  4,  6,  7, 13, 14, 15, 17, 18, 19, 20]),\n",
       " array([ 2,  4,  6,  7, 11, 13, 14, 15, 17, 18, 19, 20]),\n",
       " array([ 2,  4,  6,  7, 13, 14, 15, 17, 18, 19, 20]),\n",
       " array([ 2,  4,  6,  7, 13, 14, 15, 17, 18, 19, 20]),\n",
       " array([ 2,  4,  6,  7, 13, 14, 15, 17, 18, 19, 20]),\n",
       " array([ 2,  4,  6,  7, 13, 14, 15, 17, 18, 19, 20]),\n",
       " array([ 2,  4,  6,  7, 13, 14, 15, 17, 18, 19]),\n",
       " array([ 2,  4,  6,  7, 13, 14, 15, 17, 18, 19, 20]),\n",
       " array([ 2,  4,  6,  7, 13, 14, 15, 17, 18, 19, 20]),\n",
       " array([ 2,  4,  6,  7, 13, 14, 15, 17, 18, 19, 20])]"
      ]
     },
     "execution_count": 34,
     "metadata": {},
     "output_type": "execute_result"
    }
   ],
   "source": [
    "largest_micelle_resids"
   ]
  },
  {
   "cell_type": "markdown",
   "id": "2010f238",
   "metadata": {},
   "source": [
    "Now, let's obtain the coordinates of the largest micelle made whole across the periodic boundary conditions (PBC)."
   ]
  },
  {
   "cell_type": "markdown",
   "id": "2147810f",
   "metadata": {},
   "source": [
    "5. Let's define the resname of the molecules that we want to reconstruct with the make_whole function. More than one resname can be inputted. Note that it should be the resname of the molecules of the largest_micelle array."
   ]
  },
  {
   "cell_type": "code",
   "execution_count": 35,
   "id": "a027ed8e",
   "metadata": {},
   "outputs": [],
   "source": [
    "resname=['LIG']\n"
   ]
  },
  {
   "cell_type": "markdown",
   "id": "e7bab32c",
   "metadata": {},
   "source": [
    "6. Also, the user needs to define the start, step and final step of frames in which the user wants to run the analysis on. Note that they need to be the same as the ones you ran the SCP clustering on."
   ]
  },
  {
   "cell_type": "code",
   "execution_count": 42,
   "id": "9736cccd",
   "metadata": {},
   "outputs": [],
   "source": [
    "start=0\n",
    "stop=10000\n",
    "step=1"
   ]
  },
  {
   "cell_type": "markdown",
   "id": "f197c1fb",
   "metadata": {},
   "source": [
    "7. Obtain the whole coordinates of the micelle. This is key to perform the densitity calculation taking properly into account the PBC"
   ]
  },
  {
   "cell_type": "code",
   "execution_count": 43,
   "id": "fe1fa9ef",
   "metadata": {},
   "outputs": [
    {
     "name": "stderr",
     "output_type": "stream",
     "text": [
      "  0%|                                                                                                                                                   | 0/11 [00:00<?, ?it/s]/home/raquellrdc/Desktop/PhD/pysoftk/alejandro_newest_releast_check/pysoftk_analysis_code/test_final/make_micelle_whole.py:347: FutureWarning: arrays to stack must be passed as a \"sequence\" type such as list or tuple. Support for non-sequence iterables such as generators is deprecated as of NumPy 1.16 and will raise an error in the future.\n",
      "  atom_positions_over_trajectory = list(tqdm(map(self.make_cluster_whole, frames, resname, cluster_resids_f[0],\n",
      "100%|██████████████████████████████████████████████████████████████████████████████████████████████████████████████████████████████████████████| 11/11 [00:16<00:00,  1.47s/it]"
     ]
    },
    {
     "name": "stdout",
     "output_type": "stream",
     "text": [
      "Elapsed time for matrix calculation: 17.7199 seconds\n"
     ]
    },
    {
     "name": "stderr",
     "output_type": "stream",
     "text": [
      "\n"
     ]
    }
   ],
   "source": [
    "atom_pos = micelle_whole(topology, trajectory).running_make_cluster_whole(resname, largest_micelle_resids, start, stop, step)"
   ]
  },
  {
   "cell_type": "markdown",
   "id": "bb90ba9b",
   "metadata": {},
   "source": [
    "Now, atom_pos contains the coordinates of all the atoms of the micelle made whole at each time step selected. In each array, the first element is the time frame of the analysis, and the second the positions array"
   ]
  },
  {
   "cell_type": "markdown",
   "id": "0838ce18",
   "metadata": {},
   "source": [
    "8. We are almost ready for the density calculation. But first, we need to define the atoms for which you want to calculate the density. In this case, we are going to calculate the density of the hydrophobic block of the polymer, so we are going to select the main backbone atoms of the hydrophobic block. "
   ]
  },
  {
   "cell_type": "code",
   "execution_count": 44,
   "id": "a57a7e7e",
   "metadata": {},
   "outputs": [],
   "source": [
    "MA_names = ['C028', 'C024', 'C022', 'C02E', 'C02I', 'C02M', 'C02Q', 'C02U', 'C02Y', 'C00S', 'C00Q', 'C00M', \n",
    "             'C00L', 'C027',  'C023', 'C021',  'C02H',  'C02L',  'C02P',  'C02T', 'C02X', 'C00U',  'C00R',  'C00P', \n",
    "             'O00A', 'O00D', 'O00C', 'O01G', 'O01F', 'O01D', 'O01A', 'O019', 'O016', 'O015', 'O010', 'O012', \n",
    "             'O00B', 'O00E', 'O01I', 'O01H', 'O01C', 'O01B', 'O01E', 'O018', 'O017', 'O014', 'O00Z', 'O013', \n",
    "             'C00O', 'C00W', 'C031', 'C030', 'C02W', 'C02S', 'C02O', 'C02K', 'C02G', 'C02D', 'C026', 'C02B']"
   ]
  },
  {
   "cell_type": "markdown",
   "id": "906eb624",
   "metadata": {},
   "source": [
    "9. Also, we need to define the heavy atoms of the solvent. This is neccesary even if we are calculating the density of the polymer components. This means that we need a trajectory with the solvent for the intrinsic density calculation."
   ]
  },
  {
   "cell_type": "code",
   "execution_count": 45,
   "id": "511ab001",
   "metadata": {},
   "outputs": [],
   "source": [
    "water_atom=['OW'] #for water the heavy atom is the Oxygen"
   ]
  },
  {
   "cell_type": "markdown",
   "id": "1aa3b137",
   "metadata": {},
   "source": [
    "10. That's it! We have all the neccesary input files for the spherical density calculation of the hydrophobic component. This function outputs two arrays, the first one are the density values and the second one are the binned space values. This function outputs these two arrays for easier plotting. "
   ]
  },
  {
   "cell_type": "code",
   "execution_count": 46,
   "id": "503fa923",
   "metadata": {},
   "outputs": [
    {
     "name": "stderr",
     "output_type": "stream",
     "text": [
      "  0%|                                                                                                                                                   | 0/11 [00:00<?, ?it/s]/home/raquellrdc/Desktop/PhD/polymer/pysoftwhere/pySoftWhere/pySoftWhere/ICSI/icsi.py:85: RuntimeWarning: Mean of empty slice\n",
      "  interface_vals[i][j]=np.nanmean([interface_vals[divmod(ip,len(interface_vals))[1]][divmod(jp,len(interface_vals))[1]] for ip,jp in product(n_i,n_j)])\n",
      "100%|██████████████████████████████████████████████████████████████████████████████████████████████████████████████████████████████████████████| 11/11 [00:34<00:00,  3.12s/it]\n",
      "/home/raquellrdc/Desktop/PhD/pysoftk/alejandro_newest_releast_check/pysoftk_analysis_code/test_final/intrinsic_density_micelle.py:280: RuntimeWarning: divide by zero encountered in divide\n",
      "  final_density=intrinsic_density_profile/S_bar\n",
      "/home/raquellrdc/Desktop/PhD/pysoftk/alejandro_newest_releast_check/pysoftk_analysis_code/test_final/intrinsic_density_micelle.py:280: RuntimeWarning: invalid value encountered in divide\n",
      "  final_density=intrinsic_density_profile/S_bar\n"
     ]
    }
   ],
   "source": [
    "density_whole_MA, binned_space = intrinsic_density(topology, trajectory).run_intrinsic_density(largest_micelle_resids, atom_pos, MA_names, MA_names, water_atom, start, stop, step)"
   ]
  },
  {
   "cell_type": "markdown",
   "id": "206e01c7",
   "metadata": {},
   "source": [
    "Note that MA_names is specified twice. This is because for the intrinsic density you need to define the atoms that belong to the (hydrophobic) core of the micelle. So the first specification is used to describe the atoms in the core, and the second time to define the atoms you want to calculate the density of. You do not need ot include all atoms in the core, you can only input at least one atom of the backbone chain per hydrophobic monomer"
   ]
  },
  {
   "cell_type": "markdown",
   "id": "148b3dad",
   "metadata": {},
   "source": [
    "Also, note that we have left the values to be binned as the default one, but you may want to change them depending on your system"
   ]
  },
  {
   "cell_type": "markdown",
   "id": "5e9c8366",
   "metadata": {},
   "source": [
    "Now, let's plot the density to see how it looks. "
   ]
  },
  {
   "cell_type": "code",
   "execution_count": 47,
   "id": "015cdc25",
   "metadata": {},
   "outputs": [
    {
     "data": {
      "text/plain": [
       "Text(0.5, 1.0, 'Intrinsic density of MA')"
      ]
     },
     "execution_count": 47,
     "metadata": {},
     "output_type": "execute_result"
    },
    {
     "data": {
      "image/png": "[encoded data removed]",
      "text/plain": [
       "<Figure size 640x480 with 1 Axes>"
      ]
     },
     "metadata": {},
     "output_type": "display_data"
    }
   ],
   "source": [
    "import matplotlib.pyplot as plt\n",
    "\n",
    "plt.plot(binned_space, density_whole_MA)\n",
    "\n",
    "plt.xlabel('r($\\AA$)')\n",
    "plt.ylabel('$\\widetilde{\\u03C1}(r)$($\\AA^{-3}$)')\n",
    "plt.ylim(0, 0.5) #the peak at the interface can be quite high, so this limit is to properly observe the distribution of the component within the micelle\n",
    "plt.title('Intrinsic density of MA')"
   ]
  },
  {
   "cell_type": "markdown",
   "id": "e1881218",
   "metadata": {},
   "source": [
    "Remember that the more data (frames and atoms) that you input, the smoother your density will be"
   ]
  },
  {
   "cell_type": "markdown",
   "id": "4dee6df2",
   "metadata": {},
   "source": [
    "## intrinsic_density_water tool"
   ]
  },
  {
   "cell_type": "markdown",
   "id": "83f87bfd",
   "metadata": {},
   "source": [
    "Now, let's calculate the density of the water in the same simulation. For this we need a different tool, intrinsic_density_water. We are going to use the same trajectory, so no need to load it again. We just need to start by importing the intrinsic_density_water_micelle class"
   ]
  },
  {
   "cell_type": "code",
   "execution_count": 48,
   "id": "79904296",
   "metadata": {},
   "outputs": [],
   "source": [
    "#from pysoftk.pol_analysis.intrinsic_density_water_micelle  import intrinsic_density_water\n",
    "from intrinsic_density_water_micelle import intrinsic_density_water"
   ]
  },
  {
   "cell_type": "markdown",
   "id": "b928aa7f",
   "metadata": {},
   "source": [
    "We have already obtained the resids of the polymer belonging to the largest micelle as well as the atom positions of the micelle made whole across the PBC. So the only inputs needed for this function are the name of the solvant atoms that we want to calculate the density of. In this case the solvent is water, so we select the oxygen atoms."
   ]
  },
  {
   "cell_type": "code",
   "execution_count": 49,
   "id": "2ea6ea7b",
   "metadata": {},
   "outputs": [],
   "source": [
    "water_atoms=['OW']"
   ]
  },
  {
   "cell_type": "markdown",
   "id": "0d3eac6d",
   "metadata": {},
   "source": [
    "We are ready to run the density of the water! - This will take longer, since there are many water atoms in the system"
   ]
  },
  {
   "cell_type": "code",
   "execution_count": 50,
   "id": "2165abf2",
   "metadata": {},
   "outputs": [
    {
     "name": "stderr",
     "output_type": "stream",
     "text": [
      "100%|██████████████████████████████████████████████████████████████████████████████████████████████████████████████████████████████████████████| 11/11 [02:58<00:00, 16.22s/it]\n",
      "/home/raquellrdc/Desktop/PhD/pysoftk/alejandro_newest_releast_check/pysoftk_analysis_code/test_final/intrinsic_density_water_micelle.py:332: RuntimeWarning: divide by zero encountered in divide\n",
      "  final_density=intrinsic_density_profile/S_bar\n",
      "/home/raquellrdc/Desktop/PhD/pysoftk/alejandro_newest_releast_check/pysoftk_analysis_code/test_final/intrinsic_density_water_micelle.py:332: RuntimeWarning: invalid value encountered in divide\n",
      "  final_density=intrinsic_density_profile/S_bar\n"
     ]
    }
   ],
   "source": [
    "density_whole_water, binned_space_water = intrinsic_density_water(topology, trajectory).run_intrinsic_density(largest_micelle_resids, atom_pos, water_atoms, MA_names, water_atoms, start, stop, step)"
   ]
  },
  {
   "cell_type": "markdown",
   "id": "2166bdf1",
   "metadata": {},
   "source": [
    "At this point, it is also needed to specify the core of the micelle, since the intrinsic density is estimated with respect to the core-shell interface. That is why we need to again input 'MA_names' that contains some of the atoms of the hydrophobic block of the polymer."
   ]
  },
  {
   "cell_type": "markdown",
   "id": "0e376dee",
   "metadata": {},
   "source": [
    "Now let's plot it to see how it looks"
   ]
  },
  {
   "cell_type": "code",
   "execution_count": 52,
   "id": "a6e7b53a",
   "metadata": {},
   "outputs": [
    {
     "data": {
      "text/plain": [
       "Text(0.5, 1.0, 'Intrinsic density of Water')"
      ]
     },
     "execution_count": 52,
     "metadata": {},
     "output_type": "execute_result"
    },
    {
     "data": {
      "image/png": "[encoded data removed]",
      "text/plain": [
       "<Figure size 640x480 with 1 Axes>"
      ]
     },
     "metadata": {},
     "output_type": "display_data"
    }
   ],
   "source": [
    "plt.plot(binned_space_water, density_whole_water)\n",
    "\n",
    "plt.xlabel('r($\\AA$)')\n",
    "plt.ylabel('$\\widetilde{\\u03C1}(r)$($\\AA^{-3}$)')\n",
    "plt.ylim(0, 0.1)\n",
    "plt.xlim(-40, 75) # the densities of the far end reach very high values that are just artifacts of the calculations of the intrinsic density performed very far away from the micelle.\n",
    "plt.title('Intrinsic density of Water')"
   ]
  },
  {
   "cell_type": "markdown",
   "id": "b48d755f",
   "metadata": {},
   "source": [
    "Looks like this micelle is not very stable since it has a lot of water in the core!"
   ]
  }
 ],
 "metadata": {
  "kernelspec": {
   "display_name": "Python 3 (ipykernel)",
   "language": "python",
   "name": "python3"
  },
  "language_info": {
   "codemirror_mode": {
    "name": "ipython",
    "version": 3
   },
   "file_extension": ".py",
   "mimetype": "text/x-python",
   "name": "python",
   "nbconvert_exporter": "python",
   "pygments_lexer": "ipython3",
   "version": "3.10.12"
  }
 },
 "nbformat": 4,
 "nbformat_minor": 5
}

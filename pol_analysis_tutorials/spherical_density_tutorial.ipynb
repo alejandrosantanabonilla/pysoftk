{
 "cells": [
  {
   "cell_type": "markdown",
   "id": "264ef590",
   "metadata": {},
   "source": [
    "# Tutorial on the usage of spherical_density tool"
   ]
  },
  {
   "cell_type": "markdown",
   "id": "d8aa2cf7",
   "metadata": {},
   "source": [
    "Here, two examples on how to use the spherical_density tool for the calculation of the distribution of components of a micelle. First we will show how to use spherical_density to calculate the density of the hydrophobic block of the polymer. Then we will show how to use spherical_density_water to calculate the spherical density of the water in the simulation"
   ]
  },
  {
   "cell_type": "markdown",
   "id": "9887364d",
   "metadata": {},
   "source": [
    "## spherical_density tool "
   ]
  },
  {
   "cell_type": "markdown",
   "id": "13f786b7",
   "metadata": {},
   "source": [
    "Before starting any analysis, load the neccesary modules for this class."
   ]
  },
  {
   "cell_type": "code",
   "execution_count": 1,
   "id": "9d188003",
   "metadata": {},
   "outputs": [
    {
     "name": "stderr",
     "output_type": "stream",
     "text": [
      "/home/raquellrdc/Desktop/PhD/mda_umap/lib/python3.10/site-packages/tqdm/auto.py:21: TqdmWarning: IProgress not found. Please update jupyter and ipywidgets. See https://ipywidgets.readthedocs.io/en/stable/user_install.html\n",
      "  from .autonotebook import tqdm as notebook_tqdm\n"
     ]
    }
   ],
   "source": [
    "from  utils_mda import MDA_input\n",
    "#from pysoftk.pol_analysis.tools.utils_mda import MDA_input\n",
    "from utils_tools import *\n",
    "#from pysoftk.pol_analysis.tools.utils_tools import *\n",
    "from clustering import SCP\n",
    "#from pysoftk.pol_analysis.clustering import SCP\n",
    "from make_micelle_whole import micelle_whole\n",
    "#from pysoftk.pol_analysis.make_micelle_whole import micelle_whole\n",
    "from spherical_density import spherical_density\n",
    "#from pysoftk.pol_analysis.spherical_density import spherical_density\n",
    "\n",
    "import numpy as np\n",
    "import pandas as pd"
   ]
  },
  {
   "cell_type": "markdown",
   "id": "b7554878",
   "metadata": {},
   "source": [
    "1. Select your simulation files, it is recommended to use a tpr file for the topology and xtc file for the trajectory."
   ]
  },
  {
   "cell_type": "code",
   "execution_count": 2,
   "id": "0e08bf3f",
   "metadata": {},
   "outputs": [],
   "source": [
    "topology='data/spherical_density.tpr'\n",
    "trajectory='data/spherical_density.xtc'"
   ]
  },
  {
   "cell_type": "markdown",
   "id": "056db3f0",
   "metadata": {},
   "source": [
    "2. Import the clustering data from SCP function"
   ]
  },
  {
   "cell_type": "code",
   "execution_count": 3,
   "id": "4f3b216c",
   "metadata": {},
   "outputs": [],
   "source": [
    "resids_total='data/spherical.parquet'"
   ]
  },
  {
   "cell_type": "markdown",
   "id": "5e2b7788",
   "metadata": {},
   "source": [
    "3. Obtain the largest micelle from the clustering pandas dataframe"
   ]
  },
  {
   "cell_type": "code",
   "execution_count": 4,
   "id": "ba4821f8",
   "metadata": {},
   "outputs": [],
   "source": [
    "largest_micelle_resids = micelle_whole(topology, trajectory).obtain_largest_micelle_resids(resids_total)"
   ]
  },
  {
   "cell_type": "markdown",
   "id": "4a43f8fc",
   "metadata": {},
   "source": [
    "4. 'largest_micelle_resids' is a np.array with the resids of the molecules that belong to the same cluster of the steps of the trajectory where SCP was ran."
   ]
  },
  {
   "cell_type": "code",
   "execution_count": 5,
   "id": "e457b7ea",
   "metadata": {},
   "outputs": [
    {
     "data": {
      "text/plain": [
       "[array([ 1,  2,  3,  4,  5,  6,  7,  8,  9, 10, 11, 12, 13, 14, 15, 16, 17,\n",
       "        18, 20]),\n",
       " array([ 1,  2,  3,  4,  5,  6,  7,  8,  9, 10, 11, 12, 13, 14, 15, 16, 17,\n",
       "        18, 19, 20]),\n",
       " array([ 1,  2,  3,  4,  5,  6,  7,  8,  9, 10, 11, 12, 13, 14, 15, 16, 17,\n",
       "        18, 19, 20]),\n",
       " array([ 1,  2,  3,  4,  5,  6,  7,  8,  9, 10, 11, 12, 13, 14, 15, 16, 17,\n",
       "        18, 19, 20]),\n",
       " array([ 1,  2,  3,  4,  5,  6,  7,  8,  9, 10, 11, 12, 13, 14, 15, 16, 17,\n",
       "        18, 19, 20]),\n",
       " array([ 1,  2,  3,  4,  5,  6,  7,  8,  9, 10, 11, 12, 13, 14, 15, 16, 17,\n",
       "        18, 19, 20]),\n",
       " array([ 1,  2,  3,  4,  5,  6,  7,  8,  9, 10, 11, 12, 13, 14, 15, 16, 17,\n",
       "        18, 19, 20]),\n",
       " array([ 1,  2,  3,  4,  5,  6,  7,  8,  9, 10, 11, 12, 13, 14, 15, 16, 17,\n",
       "        18, 19, 20]),\n",
       " array([ 1,  2,  3,  4,  5,  6,  7,  8,  9, 10, 11, 12, 13, 14, 15, 16, 17,\n",
       "        18, 19, 20]),\n",
       " array([ 1,  2,  3,  4,  5,  6,  7,  8,  9, 10, 11, 12, 13, 14, 15, 16, 17,\n",
       "        18, 19, 20]),\n",
       " array([ 1,  2,  3,  4,  5,  6,  7,  8,  9, 10, 11, 12, 13, 14, 15, 16, 17,\n",
       "        18, 19, 20])]"
      ]
     },
     "execution_count": 5,
     "metadata": {},
     "output_type": "execute_result"
    }
   ],
   "source": [
    "largest_micelle_resids"
   ]
  },
  {
   "cell_type": "markdown",
   "id": "2010f238",
   "metadata": {},
   "source": [
    "Now, let's obtain the coordinates of the largest micelle made whole across the pbc"
   ]
  },
  {
   "cell_type": "markdown",
   "id": "2147810f",
   "metadata": {},
   "source": [
    "5. Let's define the resname of the molecules that we want to make whole. More than one resname can be inputted. Note that it should be the resname of the molecules of the largest_micelle array."
   ]
  },
  {
   "cell_type": "code",
   "execution_count": 6,
   "id": "a027ed8e",
   "metadata": {},
   "outputs": [],
   "source": [
    "resname=['LIG']\n"
   ]
  },
  {
   "cell_type": "markdown",
   "id": "e7bab32c",
   "metadata": {},
   "source": [
    "6. Also, define the start, step and end point of the trajectory frames that you want to run the analysis on. Note that they need to be the same as the ones you ran the SCP clustering on."
   ]
  },
  {
   "cell_type": "code",
   "execution_count": 7,
   "id": "9736cccd",
   "metadata": {},
   "outputs": [],
   "source": [
    "start=0\n",
    "stop=1000\n",
    "step=2"
   ]
  },
  {
   "cell_type": "markdown",
   "id": "f197c1fb",
   "metadata": {},
   "source": [
    "7. Obtain the whole coordinates of the micelle. This is key to perform the densitity calculation taking properly into account the PBC"
   ]
  },
  {
   "cell_type": "code",
   "execution_count": 8,
   "id": "fe1fa9ef",
   "metadata": {},
   "outputs": [
    {
     "name": "stderr",
     "output_type": "stream",
     "text": [
      "  0%|                                                                                                                                                   | 0/11 [00:00<?, ?it/s]/home/raquellrdc/Desktop/PhD/pysoftk/alejandro_newest_releast_check/pysoftk_analysis_code/test_final/make_micelle_whole.py:347: FutureWarning: arrays to stack must be passed as a \"sequence\" type such as list or tuple. Support for non-sequence iterables such as generators is deprecated as of NumPy 1.16 and will raise an error in the future.\n",
      "  atom_positions_over_trajectory = list(tqdm(map(self.make_cluster_whole, frames, resname, cluster_resids_f[0],\n",
      "100%|██████████████████████████████████████████████████████████████████████████████████████████████████████████████████████████████████████████| 11/11 [00:16<00:00,  1.53s/it]"
     ]
    },
    {
     "name": "stdout",
     "output_type": "stream",
     "text": [
      "Elapsed time for matrix calculation: 18.3857 seconds\n"
     ]
    },
    {
     "name": "stderr",
     "output_type": "stream",
     "text": [
      "\n"
     ]
    }
   ],
   "source": [
    "atom_pos = micelle_whole(topology, trajectory).running_make_cluster_whole(resname, largest_micelle_resids, start, stop, step)"
   ]
  },
  {
   "cell_type": "markdown",
   "id": "bb90ba9b",
   "metadata": {},
   "source": [
    "Now, atom_pos contains the coordinates of all the atoms of the connected micelle at each time step selected. In each array, the first element is the time frame of the analysis, and the second the positions array"
   ]
  },
  {
   "cell_type": "code",
   "execution_count": 9,
   "id": "5f3888b0",
   "metadata": {},
   "outputs": [
    {
     "data": {
      "text/plain": [
       "[(0,\n",
       "  array([[60.480003, 66.19    , 66.72    ],\n",
       "         [60.25    , 67.75    , 66.810005],\n",
       "         [59.27    , 67.920006, 66.380005],\n",
       "         ...,\n",
       "         [64.94    , 78.240005, 70.75    ],\n",
       "         [65.840004, 79.5     , 69.91    ],\n",
       "         [64.170006, 79.47    , 69.840004]], dtype=float32)),\n",
       " (2,\n",
       "  array([[ 64.560005 , -32.676575 ,  -2.266571 ],\n",
       "         [ 64.64     , -34.04657  ,  -3.0565643],\n",
       "         [ 65.47     , -34.066574 ,  -3.7565765],\n",
       "         ...,\n",
       "         [ 64.5      , -32.426567 ,  10.710001 ],\n",
       "         [ 65.04     , -33.666573 ,   9.540001 ],\n",
       "         [ 63.730003 , -33.976578 ,  10.780001 ]], dtype=float32)),\n",
       " (4,\n",
       "  array([[ 27.390001, -42.42649 ,  12.390001],\n",
       "         [ 27.95    , -43.74649 ,  11.700001],\n",
       "         [ 28.77    , -44.206497,  12.25    ],\n",
       "         ...,\n",
       "         [  9.2     , -42.8665  ,  11.170001],\n",
       "         [ 10.200001, -42.9265  ,   9.700001],\n",
       "         [ 10.26    , -41.586494,  10.760001]], dtype=float32)),\n",
       " (6,\n",
       "  array([[-8.724823  , 15.52      , 41.070004  ],\n",
       "         [-7.244812  , 15.040001  , 41.140003  ],\n",
       "         [-7.294815  , 14.06      , 40.670006  ],\n",
       "         ...,\n",
       "         [-2.1848145 , 32.33      , 46.160004  ],\n",
       "         [-0.57481384, 32.960003  , 46.010002  ],\n",
       "         [-1.2748108 , 32.570004  , 47.530003  ]], dtype=float32)),\n",
       " (8,\n",
       "  array([[52.93      ,  0.44000003, 67.42      ],\n",
       "         [54.11      ,  1.34      , 67.82001   ],\n",
       "         [55.06      ,  0.82000005, 67.73      ],\n",
       "         ...,\n",
       "         [55.97      , 15.47      , 79.53001   ],\n",
       "         [56.030003  , 14.35      , 80.91      ],\n",
       "         [54.920002  , 15.68      , 80.91      ]], dtype=float32)),\n",
       " (10,\n",
       "  array([[77.01    ,  9.700001, 87.68001 ],\n",
       "         [77.04001 , 11.15    , 87.1     ],\n",
       "         [76.170006, 11.420001, 86.51    ],\n",
       "         ...,\n",
       "         [76.64001 , 37.010002, 97.770004],\n",
       "         [78.22    , 36.410004, 97.420006],\n",
       "         [78.170006, 38.08    , 97.69    ]], dtype=float32)),\n",
       " (12,\n",
       "  array([[ 59.290005 ,  19.1      , -53.210068 ],\n",
       "         [ 60.270004 ,  18.76     , -52.12007  ],\n",
       "         [ 60.97     ,  19.59     , -51.950066 ],\n",
       "         ...,\n",
       "         [ 51.9      ,   5.27     , -42.230064 ],\n",
       "         [ 53.61     ,   5.2400007, -42.710068 ],\n",
       "         [ 52.350002 ,   5.51     , -43.890068 ]], dtype=float32)),\n",
       " (14,\n",
       "  array([[ 45.870003  ,   1.2       , -18.743729  ],\n",
       "         [ 47.04      ,   0.58000004, -17.963715  ],\n",
       "         [ 46.56      ,   0.27      , -17.033722  ],\n",
       "         ...,\n",
       "         [ 59.        , -11.773727  , -10.863724  ],\n",
       "         [ 59.46      , -10.793716  , -12.173721  ],\n",
       "         [ 57.770004  , -11.46373   , -12.063736  ]], dtype=float32)),\n",
       " (16,\n",
       "  array([[79.43     , 59.630005 ,  6.88     ],\n",
       "         [77.96001  , 59.470005 ,  7.21     ],\n",
       "         [77.58     , 60.480003 ,  7.3      ],\n",
       "         ...,\n",
       "         [77.68001  , 42.260002 ,  3.9900002],\n",
       "         [77.68001  , 41.38     ,  5.5200005],\n",
       "         [79.22     , 41.600002 ,  4.62     ]], dtype=float32)),\n",
       " (18,\n",
       "  array([[-22.434372,  41.05    ,  87.700005],\n",
       "         [-23.334366,  40.020004,  86.89    ],\n",
       "         [-23.194366,  39.08    ,  87.44    ],\n",
       "         ...,\n",
       "         [-12.434372,  53.93    ,  89.65    ],\n",
       "         [-12.824371,  53.180004,  88.020004],\n",
       "         [-13.894363,  54.300003,  89.00001 ]], dtype=float32)),\n",
       " (20,\n",
       "  array([[ 82.060005,  67.98    , -27.114868],\n",
       "         [ 82.91    ,  69.200005, -26.854874],\n",
       "         [ 83.68    ,  68.96001 , -27.594864],\n",
       "         ...,\n",
       "         [ 99.6     ,  86.880005, -28.344872],\n",
       "         [ 99.560005,  85.62    , -29.564873],\n",
       "         [100.060005,  87.340004, -29.954865]], dtype=float32))]"
      ]
     },
     "execution_count": 9,
     "metadata": {},
     "output_type": "execute_result"
    }
   ],
   "source": [
    "atom_pos"
   ]
  },
  {
   "cell_type": "markdown",
   "id": "6d5b8464",
   "metadata": {},
   "source": [
    "8. We are almost ready for the density calculation. But first, we need to define the atoms for which you want to calculate the density. In this case, we are going to calculate the density of the hydrophobic block of the polymer, so we are going to select the main backbone atoms of the hydrophobic block."
   ]
  },
  {
   "cell_type": "code",
   "execution_count": 10,
   "id": "3ebb951e",
   "metadata": {},
   "outputs": [],
   "source": [
    " MA_names_total =['C00A', 'C009', 'C008', 'C007', 'C006', 'C005', 'C004', 'C003', 'C002', 'C001', 'C000', 'C00L', \n",
    "                  'C00O', 'C00P', 'C00Q', 'C00R', 'C00S', 'C00T', 'C00W', 'C00X', 'C010', 'C011', 'C014', 'C015',\n",
    "                  'O001', 'O002', 'O005', 'O007', 'O008', 'O00A', 'O00O', 'O00L', 'O00C', 'O00F', 'O00G', 'O00J', \n",
    "                  'O00K', 'C01F', 'C017', 'C013', 'O00H', 'C012', 'C00V', 'O00D', 'C00U', 'C00Z', 'O00E', 'C00Y', \n",
    "                  'C019', 'O00M', 'C018',  'C01B', 'O00N', 'C01A', 'C00N', 'O00B', 'C00M', 'C00J', 'O009', 'C00K', \n",
    "                  'C00H', 'O006', 'C00I', 'C00G', 'O004', 'C00F', 'C00E', 'O003', 'C00D', 'C00C', 'O000', 'C00B']"
   ]
  },
  {
   "cell_type": "markdown",
   "id": "60fcd499",
   "metadata": {},
   "source": [
    "9. That's it! We have all the neccesary input files for the spherical density calculation of the hydrophobic component. This function outputs two arrays, in the first one the density values are stored. The second one contains the binned space values. This function outputs these two arrays for easier plotting."
   ]
  },
  {
   "cell_type": "code",
   "execution_count": 11,
   "id": "1b8b721d",
   "metadata": {},
   "outputs": [],
   "source": [
    "spherical_density_whole, binned_space = spherical_density(topology, trajectory).run_density_calc('resid ', largest_micelle_resids, atom_pos, MA_names_total)"
   ]
  },
  {
   "cell_type": "markdown",
   "id": "32289571",
   "metadata": {},
   "source": [
    "Note that we have included the word 'resid ' in the function. This is for the user be able to define any other selection motif, such as resname. It is important to keep in mind, that the molecules selected must be wihtin the coordinates that are stored in 'atom_pos'."
   ]
  },
  {
   "cell_type": "markdown",
   "id": "6b14cf91",
   "metadata": {},
   "source": [
    "Now, let's plot the density to see how it looks. "
   ]
  },
  {
   "cell_type": "code",
   "execution_count": 12,
   "id": "e667faa1",
   "metadata": {},
   "outputs": [
    {
     "data": {
      "text/plain": [
       "Text(0.5, 1.0, 'Spherical density of MA')"
      ]
     },
     "execution_count": 12,
     "metadata": {},
     "output_type": "execute_result"
    },
    {
     "data": {
      "image/png": "[encoded data removed]",
      "text/plain": [
       "<Figure size 640x480 with 1 Axes>"
      ]
     },
     "metadata": {},
     "output_type": "display_data"
    }
   ],
   "source": [
    "import matplotlib.pyplot as plt\n",
    "\n",
    "plt.plot(binned_space, spherical_density_whole)\n",
    "\n",
    "plt.xlabel('r($\\AA$)')\n",
    "plt.ylabel('$\\widetilde{\\u03C1}(r)$($\\AA^{-3}$)')\n",
    "plt.title('Spherical density of MA')"
   ]
  },
  {
   "cell_type": "markdown",
   "id": "316ac15c",
   "metadata": {},
   "source": [
    "For a different atom selection (for example for the calculation of the density hydrophilic polymer block), it would be as simple as changing the atom selection."
   ]
  },
  {
   "cell_type": "markdown",
   "id": "16cac28d",
   "metadata": {},
   "source": [
    "## spherical_density_water tool"
   ]
  },
  {
   "cell_type": "markdown",
   "id": "eac34692",
   "metadata": {},
   "source": [
    "Now, let's calculate the density of the water in the same simulation. For this we need a different tool, spherical_density_water. We are going to use the same trajectory, so no need to load it again. We just need to start by importing the spherical_density_water class"
   ]
  },
  {
   "cell_type": "code",
   "execution_count": 13,
   "id": "9e511aac",
   "metadata": {},
   "outputs": [],
   "source": [
    "#from pysoftk.pol_analysis.spherical_density_water import spherical_density_water\n",
    "from spherical_density_water import spherical_density_water"
   ]
  },
  {
   "cell_type": "markdown",
   "id": "cdfd3324",
   "metadata": {},
   "source": [
    "We have already obtained the resids of the polymer belonging to the largest micelle as well as the atom positions of the micelle made whole across the PBC. So the only inputs needed for this function are the name of the solvant atoms that we want to calculate the density of. In this case the solvent is water, so we will pick the oxygen atoms."
   ]
  },
  {
   "cell_type": "code",
   "execution_count": 14,
   "id": "1e65b455",
   "metadata": {},
   "outputs": [],
   "source": [
    "water_atoms=['OW']"
   ]
  },
  {
   "cell_type": "markdown",
   "id": "d52894e5",
   "metadata": {},
   "source": [
    "We are ready to run the density of the water!"
   ]
  },
  {
   "cell_type": "code",
   "execution_count": 15,
   "id": "a03772cd",
   "metadata": {},
   "outputs": [],
   "source": [
    "spherical_density_whole_water, binned_space_water = spherical_density_water(topology, trajectory).run_density_calc('resid ', largest_micelle_resids, atom_pos, 'name ', water_atoms, start, stop, step)\n"
   ]
  },
  {
   "cell_type": "markdown",
   "id": "c6c4b22e",
   "metadata": {},
   "source": [
    "Now let's plot it to see how it looks"
   ]
  },
  {
   "cell_type": "code",
   "execution_count": 18,
   "id": "92fbd25f",
   "metadata": {},
   "outputs": [
    {
     "data": {
      "text/plain": [
       "Text(0.5, 1.0, 'Spherical density of Water')"
      ]
     },
     "execution_count": 18,
     "metadata": {},
     "output_type": "execute_result"
    },
    {
     "data": {
      "image/png": "[encoded data removed]",
      "text/plain": [
       "<Figure size 640x480 with 1 Axes>"
      ]
     },
     "metadata": {},
     "output_type": "display_data"
    }
   ],
   "source": [
    "plt.plot(binned_space_water, spherical_density_whole_water)\n",
    "\n",
    "plt.xlabel('r($\\AA$)')\n",
    "plt.ylabel('$\\widetilde{\\u03C1}(r)$($\\AA^{-3}$)')\n",
    "plt.title('Spherical density of Water')"
   ]
  }
 ],
 "metadata": {
  "kernelspec": {
   "display_name": "Python 3 (ipykernel)",
   "language": "python",
   "name": "python3"
  },
  "language_info": {
   "codemirror_mode": {
    "name": "ipython",
    "version": 3
   },
   "file_extension": ".py",
   "mimetype": "text/x-python",
   "name": "python",
   "nbconvert_exporter": "python",
   "pygments_lexer": "ipython3",
   "version": "3.10.12"
  }
 },
 "nbformat": 4,
 "nbformat_minor": 5
}

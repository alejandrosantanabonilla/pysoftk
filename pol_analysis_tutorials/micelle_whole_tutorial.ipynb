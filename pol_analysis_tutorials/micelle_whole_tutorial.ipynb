{
 "cells": [
  {
   "cell_type": "markdown",
   "id": "264ef590",
   "metadata": {},
   "source": [
    "# Tutorial on the usage of micelle_whole tool"
   ]
  },
  {
   "cell_type": "markdown",
   "id": "d8aa2cf7",
   "metadata": {},
   "source": [
    "Here two examples on how to use the make_micelle_whole tool for different polymers will be illustrated. "
   ]
  },
  {
   "cell_type": "markdown",
   "id": "13f786b7",
   "metadata": {},
   "source": [
    "Before starting any analysis, load the neccesary modules for this class."
   ]
  },
  {
   "cell_type": "code",
   "execution_count": 1,
   "id": "9d188003",
   "metadata": {},
   "outputs": [
    {
     "name": "stderr",
     "output_type": "stream",
     "text": [
      "/home/raquellrdc/Desktop/PhD/mda_umap/lib/python3.10/site-packages/tqdm/auto.py:21: TqdmWarning: IProgress not found. Please update jupyter and ipywidgets. See https://ipywidgets.readthedocs.io/en/stable/user_install.html\n",
      "  from .autonotebook import tqdm as notebook_tqdm\n"
     ]
    }
   ],
   "source": [
    "from  utils_mda import MDA_input\n",
    "#from pysoftk.pol_analysis.tools.utils_mda import MDA_input\n",
    "from utils_tools import *\n",
    "#from pysoftk.pol_analysis.tools.utils_tools import *\n",
    "from clustering import SCP\n",
    "#from pysoftk.pol_analysis.clustering import SCP\n",
    "from make_micelle_whole import micelle_whole\n",
    "#from pysoftk.pol_analysis.make_micelle_whole import micelle_whole\n",
    "\n",
    "import numpy as np\n",
    "import pandas as pd"
   ]
  },
  {
   "cell_type": "markdown",
   "id": "71e6c23c",
   "metadata": {},
   "source": [
    "## Obtain largest micelle"
   ]
  },
  {
   "cell_type": "markdown",
   "id": "4cf3c186",
   "metadata": {},
   "source": [
    "Here we will show how to obtain the largest micelle from the resutls obtained from the SCP class. This is convenient if you want to perform the analysis in the largest aggregate of the simulation"
   ]
  },
  {
   "cell_type": "markdown",
   "id": "b7554878",
   "metadata": {},
   "source": [
    "1. Select your trajectory files, it is recommended to use a tpr file for the topology and xtc file for the trajectory. Note that any MDAnalysis supported file can be used here. "
   ]
  },
  {
   "cell_type": "code",
   "execution_count": 2,
   "id": "0e08bf3f",
   "metadata": {},
   "outputs": [],
   "source": [
    "topology='data/short_movie_cyclic.tpr'\n",
    "trajectory='data/short_movie_cyclic.xtc'"
   ]
  },
  {
   "cell_type": "markdown",
   "id": "cbe0d5a2",
   "metadata": {},
   "source": [
    "2. Import the clustering data from SCP function"
   ]
  },
  {
   "cell_type": "code",
   "execution_count": 3,
   "id": "15856957",
   "metadata": {},
   "outputs": [],
   "source": [
    "resids_total='data/pictures_tutorial/cyclic_scp_result.parquet'"
   ]
  },
  {
   "cell_type": "markdown",
   "id": "ff09c365",
   "metadata": {},
   "source": [
    "3. Obtain the largest micelle from the clustering pandas dataframe"
   ]
  },
  {
   "cell_type": "code",
   "execution_count": 4,
   "id": "046f65b2",
   "metadata": {},
   "outputs": [],
   "source": [
    "largest_micelle_resids = micelle_whole(topology, trajectory).obtain_largest_micelle_resids(resids_total)"
   ]
  },
  {
   "cell_type": "markdown",
   "id": "99c15d95",
   "metadata": {},
   "source": [
    "4. 'largest_micelle_resids' is a np.array with the resids of the molecules that belong to the same cluster of the steps of the trajectory where SCP was ran."
   ]
  },
  {
   "cell_type": "code",
   "execution_count": 5,
   "id": "c0f83ef2",
   "metadata": {},
   "outputs": [
    {
     "data": {
      "text/plain": [
       "[array([ 1,  2,  3,  4,  6,  7,  8, 11, 12, 13, 14, 15, 17, 18, 19]),\n",
       " array([ 2,  4,  6,  7, 13, 14, 15, 17, 18, 19, 20]),\n",
       " array([ 2,  4,  6,  7, 13, 14, 15, 17, 18, 19, 20])]"
      ]
     },
     "execution_count": 5,
     "metadata": {},
     "output_type": "execute_result"
    }
   ],
   "source": [
    "largest_micelle_resids"
   ]
  },
  {
   "cell_type": "markdown",
   "id": "728c7ab2",
   "metadata": {},
   "source": [
    "Note that you you do not neccesarily need to only work with the largest micelle. The SCP tool ouputs all micelles of the system in a pandas dataframe so that you can select at each time step which ever ones you prefer. For example if you want to to take the two smalles micelles of the system you could do it in the following way"
   ]
  },
  {
   "cell_type": "code",
   "execution_count": 18,
   "id": "667e2aa6",
   "metadata": {},
   "outputs": [
    {
     "data": {
      "text/plain": [
       "0    [[16, 9, 10, 5], [1, 2, 3, 4, 6, 7, 8, 11, 12,...\n",
       "1                      [[1, 3, 12], [5, 8, 9, 10, 16]]\n",
       "2    [[1, 3, 5, 8, 10, 12, 16], [2, 4, 6, 7, 13, 14...\n",
       "Name: smallest_lists, dtype: object"
      ]
     },
     "execution_count": 18,
     "metadata": {},
     "output_type": "execute_result"
    }
   ],
   "source": [
    "#load the dataframe\n",
    "df_results = 'data/pictures_tutorial/cyclic_scp_result.parquet'\n",
    "df = pd.read_parquet(df_results)\n",
    "\n",
    "# Define a function to find the two smallest micelles (so more than 1 polymer)\n",
    "\n",
    "def find_two_smallest_lists(lst):\n",
    "    \n",
    "    sorted_lists = sorted(lst, key=len)\n",
    "    \n",
    "    \n",
    "    return sorted_lists[:2]\n",
    "\n",
    "\n",
    "# Apply the function to each row in the DataFrame\n",
    "df['smallest_lists'] = df['micelle_resids'].apply(find_two_smallest_lists)\n",
    "\n",
    "#the following column contains the resids of the two smallest aggregates at each time step!\n",
    "df['smallest_lists']"
   ]
  },
  {
   "cell_type": "markdown",
   "id": "df9adbe2",
   "metadata": {},
   "source": [
    "## Obtain the whole coordinates of a molecular structure"
   ]
  },
  {
   "cell_type": "markdown",
   "id": "2010f238",
   "metadata": {},
   "source": [
    "Now, let's obtain the coordinates of the largest micelle made whole across the pbc"
   ]
  },
  {
   "cell_type": "markdown",
   "id": "014bca23",
   "metadata": {},
   "source": [
    "1. Let's define the resname of the molecules that we want to make whole. More than one resname can be inputted. Note that it should be the resname of the molecules of the largest_micelle array."
   ]
  },
  {
   "cell_type": "code",
   "execution_count": 37,
   "id": "a027ed8e",
   "metadata": {},
   "outputs": [],
   "source": [
    "resname=['LIG']\n"
   ]
  },
  {
   "cell_type": "markdown",
   "id": "e7bab32c",
   "metadata": {},
   "source": [
    "2. Also, define the start, step and step of frames that you want to run the analysis on. Note that they need to be the same as the ones you ran the SCP clustering on."
   ]
  },
  {
   "cell_type": "code",
   "execution_count": 38,
   "id": "ba88b4c5",
   "metadata": {},
   "outputs": [],
   "source": [
    "start=0\n",
    "stop=10001\n",
    "step=1"
   ]
  },
  {
   "cell_type": "markdown",
   "id": "c454778b",
   "metadata": {},
   "source": [
    "3. Now, we are ready to obtain the whole coordinates of the micelle!"
   ]
  },
  {
   "cell_type": "code",
   "execution_count": 39,
   "id": "fe1fa9ef",
   "metadata": {},
   "outputs": [
    {
     "name": "stderr",
     "output_type": "stream",
     "text": [
      "  0%|                                                                                                                                                    | 0/3 [00:00<?, ?it/s]/home/raquellrdc/Desktop/PhD/pysoftk/alejandro_newest_releast_check/pysoftk_analysis_code/test_final/make_micelle_whole.py:347: FutureWarning: arrays to stack must be passed as a \"sequence\" type such as list or tuple. Support for non-sequence iterables such as generators is deprecated as of NumPy 1.16 and will raise an error in the future.\n",
      "  atom_positions_over_trajectory = list(tqdm(map(self.make_cluster_whole, frames, resname, cluster_resids_f[0],\n",
      "100%|████████████████████████████████████████████████████████████████████████████████████████████████████████████████████████████████████████████| 3/3 [00:00<00:00, 13.98it/s]"
     ]
    },
    {
     "name": "stdout",
     "output_type": "stream",
     "text": [
      "Elapsed time for matrix calculation: 0.3085 seconds\n"
     ]
    },
    {
     "name": "stderr",
     "output_type": "stream",
     "text": [
      "\n"
     ]
    }
   ],
   "source": [
    "atom_pos = micelle_whole(topology, trajectory).running_make_cluster_whole(resname, largest_micelle_resids, start, stop, step)"
   ]
  },
  {
   "cell_type": "markdown",
   "id": "bb90ba9b",
   "metadata": {},
   "source": [
    "Now, atom_pos contains the coordinates of all the atoms of the micelle made whole at each time step selected. In each array, the first element is the time frame of the analysis, and the second the positions array"
   ]
  },
  {
   "cell_type": "code",
   "execution_count": 40,
   "id": "5f3888b0",
   "metadata": {},
   "outputs": [
    {
     "data": {
      "text/plain": [
       "[(0,\n",
       "  array([[73.69    , 81.16    , 77.950005],\n",
       "         [73.450005, 81.69    , 77.04001 ],\n",
       "         [74.51    , 81.770004, 78.340004],\n",
       "         ...,\n",
       "         [75.19    , 47.36    , 76.54    ],\n",
       "         [73.490005, 47.280003, 76.600006],\n",
       "         [72.19    , 46.860004, 74.130005]], dtype=float32)),\n",
       " (1,\n",
       "  array([[ 16.060001 , 116.100006 ,   3.3600001],\n",
       "         [ 17.04     , 116.14     ,   3.8300002],\n",
       "         [ 15.860001 , 117.17001  ,   3.3000002],\n",
       "         ...,\n",
       "         [ 22.560001 ,  98.76     ,  -1.7771301],\n",
       "         [ 22.380001 ,  97.03     ,  -1.407135 ],\n",
       "         [ 22.480001 ,  98.73     ,   1.0200001]], dtype=float32)),\n",
       " (2,\n",
       "  array([[ -7.5497437, -37.959747 , 111.810005 ],\n",
       "         [ -6.5297394, -37.979744 , 112.200005 ],\n",
       "         [ -7.419739 , -37.42974  , 110.87001  ],\n",
       "         ...,\n",
       "         [ -2.0497437, -28.63974  , 115.00001  ],\n",
       "         [ -1.9997406, -27.959747 , 116.520004 ],\n",
       "         [ -3.739746 , -25.669746 , 116.490005 ]], dtype=float32))]"
      ]
     },
     "execution_count": 40,
     "metadata": {},
     "output_type": "execute_result"
    }
   ],
   "source": [
    "atom_pos"
   ]
  },
  {
   "cell_type": "markdown",
   "id": "2566819e",
   "metadata": {},
   "source": [
    "## Obtain pdb file of the structure made whole"
   ]
  },
  {
   "cell_type": "markdown",
   "id": "f0563893",
   "metadata": {},
   "source": [
    "1. Using the ouputs from above, we can select the inputs that we need to obtain the whole snapshot. First, we need to define are the name of the output pdb and the frame at which you want to obtain the pdb. Note that the frame you selected will depend on which frames you ran the analysis. For example, if you ran the analysis on 3 frames, and you want to obtain the snapshot of the last frame, you will need to select frame at position 2, since this one will be the last one.\n"
   ]
  },
  {
   "cell_type": "code",
   "execution_count": 41,
   "id": "dcc757ad",
   "metadata": {},
   "outputs": [],
   "source": [
    "snapshot_frame=2\n",
    "\n",
    "snapshot_name='data/pictures_tutorial/cyclic_micelle_whole.pdb'\n"
   ]
  },
  {
   "cell_type": "markdown",
   "id": "bf954d6b",
   "metadata": {},
   "source": [
    "2. Then, we also need to input the whole positions of the atoms, and their respective resids that we want in the snapshot. Since we want the whole micelle and frame 2, it is as easy as selecting item 2 from atom_pos (whole positions) and largest_micelle_resids (resids of polymers in the same cluster)"
   ]
  },
  {
   "cell_type": "code",
   "execution_count": 42,
   "id": "d2c85cae",
   "metadata": {},
   "outputs": [],
   "source": [
    "atom_pos_frame=atom_pos[2]\n",
    "\n",
    "largest_micelle_resids_frame=largest_micelle_resids[2]"
   ]
  },
  {
   "cell_type": "markdown",
   "id": "145c4bd4",
   "metadata": {},
   "source": [
    "Now, we can obtain the snapshot"
   ]
  },
  {
   "cell_type": "code",
   "execution_count": 43,
   "id": "1fdbd673",
   "metadata": {},
   "outputs": [
    {
     "name": "stdout",
     "output_type": "stream",
     "text": [
      "3971\n",
      "3971\n"
     ]
    },
    {
     "name": "stderr",
     "output_type": "stream",
     "text": [
      "/home/raquellrdc/Desktop/PhD/mda_umap/lib/python3.10/site-packages/MDAnalysis/coordinates/PDB.py:1151: UserWarning: Found no information for attr: 'altLocs' Using default value of ' '\n",
      "  warnings.warn(\"Found no information for attr: '{}'\"\n",
      "/home/raquellrdc/Desktop/PhD/mda_umap/lib/python3.10/site-packages/MDAnalysis/coordinates/PDB.py:1151: UserWarning: Found no information for attr: 'icodes' Using default value of ' '\n",
      "  warnings.warn(\"Found no information for attr: '{}'\"\n",
      "/home/raquellrdc/Desktop/PhD/mda_umap/lib/python3.10/site-packages/MDAnalysis/coordinates/PDB.py:1151: UserWarning: Found no information for attr: 'chainIDs' Using default value of ''\n",
      "  warnings.warn(\"Found no information for attr: '{}'\"\n",
      "/home/raquellrdc/Desktop/PhD/mda_umap/lib/python3.10/site-packages/MDAnalysis/coordinates/PDB.py:1151: UserWarning: Found no information for attr: 'occupancies' Using default value of '1.0'\n",
      "  warnings.warn(\"Found no information for attr: '{}'\"\n",
      "/home/raquellrdc/Desktop/PhD/mda_umap/lib/python3.10/site-packages/MDAnalysis/coordinates/PDB.py:1151: UserWarning: Found no information for attr: 'tempfactors' Using default value of '0.0'\n",
      "  warnings.warn(\"Found no information for attr: '{}'\"\n",
      "/home/raquellrdc/Desktop/PhD/mda_umap/lib/python3.10/site-packages/MDAnalysis/coordinates/PDB.py:1151: UserWarning: Found no information for attr: 'elements' Using default value of ' '\n",
      "  warnings.warn(\"Found no information for attr: '{}'\"\n",
      "/home/raquellrdc/Desktop/PhD/mda_umap/lib/python3.10/site-packages/MDAnalysis/coordinates/PDB.py:1151: UserWarning: Found no information for attr: 'record_types' Using default value of 'ATOM'\n",
      "  warnings.warn(\"Found no information for attr: '{}'\"\n",
      "/home/raquellrdc/Desktop/PhD/mda_umap/lib/python3.10/site-packages/MDAnalysis/coordinates/PDB.py:1151: UserWarning: Found no information for attr: 'formalcharges' Using default value of '0'\n",
      "  warnings.warn(\"Found no information for attr: '{}'\"\n",
      "/home/raquellrdc/Desktop/PhD/mda_umap/lib/python3.10/site-packages/MDAnalysis/coordinates/PDB.py:1198: UserWarning: Found missing chainIDs. Corresponding atoms will use value of 'X'\n",
      "  warnings.warn(\"Found missing chainIDs.\"\n",
      "/home/raquellrdc/Desktop/PhD/mda_umap/lib/python3.10/site-packages/MDAnalysis/topology/PDBParser.py:331: UserWarning: Element information is missing, elements attribute will not be populated. If needed these can be guessed using MDAnalysis.topology.guessers.\n",
      "  warnings.warn(\"Element information is missing, elements attribute \"\n"
     ]
    }
   ],
   "source": [
    "snapshot = micelle_whole(topology, trajectory).obtain_snapshot(snapshot_name, atom_pos_frame, \n",
    "                                                               largest_micelle_resids_frame, resname, snapshot_frame)"
   ]
  },
  {
   "cell_type": "markdown",
   "id": "6a89b08e",
   "metadata": {},
   "source": [
    "The visualization on VMD of this step of the trajectory before applying make_micelle_whole is:\n",
    "![Image Alt Text](data/pictures_tutorial/cyclic_screenshot_not_whole.png)\n"
   ]
  },
  {
   "cell_type": "markdown",
   "id": "2aa436ee",
   "metadata": {},
   "source": [
    "This is the visualizaiton on VMD of the pdb file produced with make_micelle_whole. It has made it perfectly whole!"
   ]
  },
  {
   "cell_type": "markdown",
   "id": "560a9c60",
   "metadata": {},
   "source": [
    "\n",
    "![Image Alt Text](data/pictures_tutorial/cyclic_micelle_screenshot.png)\n"
   ]
  },
  {
   "cell_type": "code",
   "execution_count": null,
   "id": "1aa11efb",
   "metadata": {},
   "outputs": [],
   "source": []
  }
 ],
 "metadata": {
  "kernelspec": {
   "display_name": "Python 3 (ipykernel)",
   "language": "python",
   "name": "python3"
  },
  "language_info": {
   "codemirror_mode": {
    "name": "ipython",
    "version": 3
   },
   "file_extension": ".py",
   "mimetype": "text/x-python",
   "name": "python",
   "nbconvert_exporter": "python",
   "pygments_lexer": "ipython3",
   "version": "3.10.12"
  }
 },
 "nbformat": 4,
 "nbformat_minor": 5
}
